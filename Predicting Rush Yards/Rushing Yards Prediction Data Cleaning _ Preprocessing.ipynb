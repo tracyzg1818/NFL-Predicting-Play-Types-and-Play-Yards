{
 "cells": [
  {
   "cell_type": "markdown",
   "metadata": {},
   "source": [
    "## Data cleaning and preprocessing on the train.csv from kaggle https://www.kaggle.com/c/nfl-big-data-bowl-2020/data"
   ]
  },
  {
   "cell_type": "code",
   "execution_count": 4,
   "metadata": {},
   "outputs": [
    {
     "name": "stderr",
     "output_type": "stream",
     "text": [
      "Using TensorFlow backend.\n"
     ]
    }
   ],
   "source": [
    "#initial import\n",
    "import numpy as np\n",
    "import pandas as pd\n",
    "import matplotlib.pyplot as plt\n",
    "import matplotlib as mpl\n",
    "import seaborn as sns\n",
    "import datetime\n",
    "# from kaggle.competitions import nflrush\n",
    "import tqdm\n",
    "import re\n",
    "from string import punctuation\n",
    "from sklearn.ensemble import RandomForestRegressor\n",
    "from sklearn.preprocessing import StandardScaler\n",
    "import keras\n",
    "from keras.callbacks import ReduceLROnPlateau, ModelCheckpoint, EarlyStopping\n",
    "from keras.utils import plot_model\n",
    "import keras.backend as K\n",
    "import tensorflow as tf\n",
    "\n",
    "sns.set_style('darkgrid')\n",
    "mpl.rcParams['figure.figsize'] = [15,10]"
   ]
  },
  {
   "cell_type": "code",
   "execution_count": null,
   "metadata": {},
   "outputs": [],
   "source": [
    "# !pip install kaggle\n",
    "# from kaggle.competitions import nflrush"
   ]
  },
  {
   "cell_type": "code",
   "execution_count": 5,
   "metadata": {},
   "outputs": [],
   "source": [
    "import numpy as np\n",
    "import pandas as pd\n",
    "import matplotlib.pyplot as plt\n",
    "import matplotlib as mpl\n",
    "import seaborn as sns\n",
    "import datetime\n",
    "import tqdm\n",
    "import re\n",
    "from string import punctuation"
   ]
  },
  {
   "cell_type": "code",
   "execution_count": 6,
   "metadata": {},
   "outputs": [],
   "source": [
    "train0 = pd.read_csv('train.csv', dtype={'WindSpeed': 'object'})\n",
    "train = train0.copy()"
   ]
  },
  {
   "cell_type": "code",
   "execution_count": 7,
   "metadata": {},
   "outputs": [
    {
     "data": {
      "text/html": [
       "<div>\n",
       "<style scoped>\n",
       "    .dataframe tbody tr th:only-of-type {\n",
       "        vertical-align: middle;\n",
       "    }\n",
       "\n",
       "    .dataframe tbody tr th {\n",
       "        vertical-align: top;\n",
       "    }\n",
       "\n",
       "    .dataframe thead th {\n",
       "        text-align: right;\n",
       "    }\n",
       "</style>\n",
       "<table border=\"1\" class=\"dataframe\">\n",
       "  <thead>\n",
       "    <tr style=\"text-align: right;\">\n",
       "      <th></th>\n",
       "      <th>GameId</th>\n",
       "      <th>PlayId</th>\n",
       "      <th>Team</th>\n",
       "      <th>X</th>\n",
       "      <th>Y</th>\n",
       "      <th>S</th>\n",
       "      <th>A</th>\n",
       "      <th>Dis</th>\n",
       "      <th>Orientation</th>\n",
       "      <th>Dir</th>\n",
       "      <th>...</th>\n",
       "      <th>Week</th>\n",
       "      <th>Stadium</th>\n",
       "      <th>Location</th>\n",
       "      <th>StadiumType</th>\n",
       "      <th>Turf</th>\n",
       "      <th>GameWeather</th>\n",
       "      <th>Temperature</th>\n",
       "      <th>Humidity</th>\n",
       "      <th>WindSpeed</th>\n",
       "      <th>WindDirection</th>\n",
       "    </tr>\n",
       "  </thead>\n",
       "  <tbody>\n",
       "    <tr>\n",
       "      <th>0</th>\n",
       "      <td>2017090700</td>\n",
       "      <td>20170907000118</td>\n",
       "      <td>away</td>\n",
       "      <td>73.91</td>\n",
       "      <td>34.84</td>\n",
       "      <td>1.69</td>\n",
       "      <td>1.13</td>\n",
       "      <td>0.40</td>\n",
       "      <td>81.99</td>\n",
       "      <td>177.18</td>\n",
       "      <td>...</td>\n",
       "      <td>1</td>\n",
       "      <td>Gillette Stadium</td>\n",
       "      <td>Foxborough, MA</td>\n",
       "      <td>Outdoor</td>\n",
       "      <td>Field Turf</td>\n",
       "      <td>Clear and warm</td>\n",
       "      <td>63.0</td>\n",
       "      <td>77.0</td>\n",
       "      <td>8</td>\n",
       "      <td>SW</td>\n",
       "    </tr>\n",
       "    <tr>\n",
       "      <th>1</th>\n",
       "      <td>2017090700</td>\n",
       "      <td>20170907000118</td>\n",
       "      <td>away</td>\n",
       "      <td>74.67</td>\n",
       "      <td>32.64</td>\n",
       "      <td>0.42</td>\n",
       "      <td>1.35</td>\n",
       "      <td>0.01</td>\n",
       "      <td>27.61</td>\n",
       "      <td>198.70</td>\n",
       "      <td>...</td>\n",
       "      <td>1</td>\n",
       "      <td>Gillette Stadium</td>\n",
       "      <td>Foxborough, MA</td>\n",
       "      <td>Outdoor</td>\n",
       "      <td>Field Turf</td>\n",
       "      <td>Clear and warm</td>\n",
       "      <td>63.0</td>\n",
       "      <td>77.0</td>\n",
       "      <td>8</td>\n",
       "      <td>SW</td>\n",
       "    </tr>\n",
       "    <tr>\n",
       "      <th>2</th>\n",
       "      <td>2017090700</td>\n",
       "      <td>20170907000118</td>\n",
       "      <td>away</td>\n",
       "      <td>74.00</td>\n",
       "      <td>33.20</td>\n",
       "      <td>1.22</td>\n",
       "      <td>0.59</td>\n",
       "      <td>0.31</td>\n",
       "      <td>3.01</td>\n",
       "      <td>202.73</td>\n",
       "      <td>...</td>\n",
       "      <td>1</td>\n",
       "      <td>Gillette Stadium</td>\n",
       "      <td>Foxborough, MA</td>\n",
       "      <td>Outdoor</td>\n",
       "      <td>Field Turf</td>\n",
       "      <td>Clear and warm</td>\n",
       "      <td>63.0</td>\n",
       "      <td>77.0</td>\n",
       "      <td>8</td>\n",
       "      <td>SW</td>\n",
       "    </tr>\n",
       "    <tr>\n",
       "      <th>3</th>\n",
       "      <td>2017090700</td>\n",
       "      <td>20170907000118</td>\n",
       "      <td>away</td>\n",
       "      <td>71.46</td>\n",
       "      <td>27.70</td>\n",
       "      <td>0.42</td>\n",
       "      <td>0.54</td>\n",
       "      <td>0.02</td>\n",
       "      <td>359.77</td>\n",
       "      <td>105.64</td>\n",
       "      <td>...</td>\n",
       "      <td>1</td>\n",
       "      <td>Gillette Stadium</td>\n",
       "      <td>Foxborough, MA</td>\n",
       "      <td>Outdoor</td>\n",
       "      <td>Field Turf</td>\n",
       "      <td>Clear and warm</td>\n",
       "      <td>63.0</td>\n",
       "      <td>77.0</td>\n",
       "      <td>8</td>\n",
       "      <td>SW</td>\n",
       "    </tr>\n",
       "    <tr>\n",
       "      <th>4</th>\n",
       "      <td>2017090700</td>\n",
       "      <td>20170907000118</td>\n",
       "      <td>away</td>\n",
       "      <td>69.32</td>\n",
       "      <td>35.42</td>\n",
       "      <td>1.82</td>\n",
       "      <td>2.43</td>\n",
       "      <td>0.16</td>\n",
       "      <td>12.63</td>\n",
       "      <td>164.31</td>\n",
       "      <td>...</td>\n",
       "      <td>1</td>\n",
       "      <td>Gillette Stadium</td>\n",
       "      <td>Foxborough, MA</td>\n",
       "      <td>Outdoor</td>\n",
       "      <td>Field Turf</td>\n",
       "      <td>Clear and warm</td>\n",
       "      <td>63.0</td>\n",
       "      <td>77.0</td>\n",
       "      <td>8</td>\n",
       "      <td>SW</td>\n",
       "    </tr>\n",
       "  </tbody>\n",
       "</table>\n",
       "<p>5 rows × 49 columns</p>\n",
       "</div>"
      ],
      "text/plain": [
       "       GameId          PlayId  Team      X      Y     S     A   Dis  \\\n",
       "0  2017090700  20170907000118  away  73.91  34.84  1.69  1.13  0.40   \n",
       "1  2017090700  20170907000118  away  74.67  32.64  0.42  1.35  0.01   \n",
       "2  2017090700  20170907000118  away  74.00  33.20  1.22  0.59  0.31   \n",
       "3  2017090700  20170907000118  away  71.46  27.70  0.42  0.54  0.02   \n",
       "4  2017090700  20170907000118  away  69.32  35.42  1.82  2.43  0.16   \n",
       "\n",
       "   Orientation     Dir  ...  Week           Stadium        Location  \\\n",
       "0        81.99  177.18  ...     1  Gillette Stadium  Foxborough, MA   \n",
       "1        27.61  198.70  ...     1  Gillette Stadium  Foxborough, MA   \n",
       "2         3.01  202.73  ...     1  Gillette Stadium  Foxborough, MA   \n",
       "3       359.77  105.64  ...     1  Gillette Stadium  Foxborough, MA   \n",
       "4        12.63  164.31  ...     1  Gillette Stadium  Foxborough, MA   \n",
       "\n",
       "   StadiumType        Turf     GameWeather Temperature Humidity  WindSpeed  \\\n",
       "0      Outdoor  Field Turf  Clear and warm        63.0     77.0          8   \n",
       "1      Outdoor  Field Turf  Clear and warm        63.0     77.0          8   \n",
       "2      Outdoor  Field Turf  Clear and warm        63.0     77.0          8   \n",
       "3      Outdoor  Field Turf  Clear and warm        63.0     77.0          8   \n",
       "4      Outdoor  Field Turf  Clear and warm        63.0     77.0          8   \n",
       "\n",
       "   WindDirection  \n",
       "0             SW  \n",
       "1             SW  \n",
       "2             SW  \n",
       "3             SW  \n",
       "4             SW  \n",
       "\n",
       "[5 rows x 49 columns]"
      ]
     },
     "execution_count": 7,
     "metadata": {},
     "output_type": "execute_result"
    }
   ],
   "source": [
    "train.head()"
   ]
  },
  {
   "cell_type": "code",
   "execution_count": 8,
   "metadata": {},
   "outputs": [],
   "source": [
    "train['DefendersInTheBox_vs_Distance'] = train['DefendersInTheBox'] / train['Distance']"
   ]
  },
  {
   "cell_type": "code",
   "execution_count": 9,
   "metadata": {},
   "outputs": [
    {
     "data": {
      "text/plain": [
       "Outdoor                   267696\n",
       "Outdoors                   67474\n",
       "Indoors                    40854\n",
       "Dome                       17336\n",
       "Indoor                     16148\n",
       "Retractable Roof           15884\n",
       "Open                        9614\n",
       "Retr. Roof-Closed           7172\n",
       "Retr. Roof - Closed         6446\n",
       "Domed, closed               5918\n",
       "Domed, open                 2684\n",
       "Closed Dome                 2134\n",
       "Domed                       1826\n",
       "Dome, closed                1826\n",
       "Oudoor                      1188\n",
       "Indoor, Roof Closed         1056\n",
       "Retr. Roof Closed           1056\n",
       "Retr. Roof-Open              990\n",
       "Bowl                         968\n",
       "Outddors                     968\n",
       "Heinz Field                  902\n",
       "Outdoor Retr Roof-Open       880\n",
       "Retr. Roof - Open            880\n",
       "Indoor, Open Roof            858\n",
       "Outdor                       858\n",
       "Ourdoor                      858\n",
       "Outside                      814\n",
       "Domed, Open                  770\n",
       "Cloudy                       770\n",
       "Name: StadiumType, dtype: int64"
      ]
     },
     "execution_count": 9,
     "metadata": {},
     "output_type": "execute_result"
    }
   ],
   "source": [
    "train['StadiumType'].value_counts()"
   ]
  },
  {
   "cell_type": "code",
   "execution_count": 10,
   "metadata": {},
   "outputs": [],
   "source": [
    "# Modify stadium types and get outdoor/indoor open/close info\n",
    "def StadiumTypeAlter(i):\n",
    "    if pd.isna(i):\n",
    "        return np.nan\n",
    "    i = i.lower()\n",
    "    i = ''.join([c for c in i if c not in punctuation])\n",
    "    i = re.sub(' +', ' ', i)\n",
    "    i = i.strip()\n",
    "    i = i.replace('outside', 'outdoor')\n",
    "    i = i.replace('outdor', 'outdoor')\n",
    "    i = i.replace('outddors', 'outdoor')\n",
    "    i = i.replace('outdoors', 'outdoor')\n",
    "    i = i.replace('oudoor', 'outdoor')\n",
    "    i = i.replace('indoors', 'indoor')\n",
    "    i = i.replace('ourdoor', 'outdoor')\n",
    "    i = i.replace('retractable', 'rtr.')\n",
    "    if 'outdoor' in i or 'open' in i:\n",
    "        return 1\n",
    "    if 'indoor' in i or 'closed' in i:\n",
    "        return 0    \n",
    "    return np.nan"
   ]
  },
  {
   "cell_type": "code",
   "execution_count": 11,
   "metadata": {},
   "outputs": [],
   "source": [
    "train['StadiumType'] = train['StadiumType'].apply(StadiumTypeAlter)"
   ]
  },
  {
   "cell_type": "code",
   "execution_count": 12,
   "metadata": {},
   "outputs": [
    {
     "data": {
      "text/plain": [
       "0    1.0\n",
       "1    1.0\n",
       "2    1.0\n",
       "3    1.0\n",
       "4    1.0\n",
       "Name: StadiumType, dtype: float64"
      ]
     },
     "execution_count": 12,
     "metadata": {},
     "output_type": "execute_result"
    }
   ],
   "source": [
    "train['StadiumType'].head()"
   ]
  },
  {
   "cell_type": "code",
   "execution_count": 13,
   "metadata": {},
   "outputs": [
    {
     "data": {
      "text/plain": [
       "Grass                     166276\n",
       "Natural Grass             107096\n",
       "Field Turf                 47674\n",
       "Artificial                 44484\n",
       "FieldTurf                  33198\n",
       "UBU Speed Series-S5-M      32890\n",
       "A-Turf Titan               17204\n",
       "UBU Sports Speed S5-M       8558\n",
       "FieldTurf360                8272\n",
       "DD GrassMaster              8074\n",
       "Twenty-Four/Seven Turf      8030\n",
       "SISGrass                    7238\n",
       "FieldTurf 360               6974\n",
       "Natural grass               4796\n",
       "Artifical                   3894\n",
       "Natural                     1628\n",
       "Field turf                   990\n",
       "Naturall Grass               858\n",
       "natural grass                814\n",
       "grass                        814\n",
       "Name: Turf, dtype: int64"
      ]
     },
     "execution_count": 13,
     "metadata": {},
     "output_type": "execute_result"
    }
   ],
   "source": [
    "train['Turf'].value_counts()"
   ]
  },
  {
   "cell_type": "code",
   "execution_count": 14,
   "metadata": {},
   "outputs": [
    {
     "data": {
      "text/plain": [
       "0    False\n",
       "1    False\n",
       "2    False\n",
       "3    False\n",
       "4    False\n",
       "Name: Turf, dtype: bool"
      ]
     },
     "execution_count": 14,
     "metadata": {},
     "output_type": "execute_result"
    }
   ],
   "source": [
    "# Modify Turf\n",
    "Turf = {'Field Turf':'Artificial', 'A-Turf Titan':'Artificial', 'Grass':'Natural', 'UBU Sports Speed S5-M':'Artificial', \n",
    "        'Artificial':'Artificial', 'DD GrassMaster':'Artificial', 'Natural Grass':'Natural', \n",
    "        'UBU Speed Series-S5-M':'Artificial', 'FieldTurf':'Artificial', 'FieldTurf 360':'Artificial', 'Natural grass':'Natural', 'grass':'Natural', \n",
    "        'Natural':'Natural', 'Artifical':'Artificial', 'FieldTurf360':'Artificial', 'Naturall Grass':'Natural', 'Field turf':'Artificial', \n",
    "        'SISGrass':'Artificial', 'Twenty-Four/Seven Turf':'Artificial', 'natural grass':'Natural'} \n",
    "\n",
    "train['Turf'] = train['Turf'].map(Turf)\n",
    "train['Turf'] = train['Turf'] == 'Natural'\n",
    "\n",
    "train['Turf'].head()"
   ]
  },
  {
   "cell_type": "code",
   "execution_count": 15,
   "metadata": {},
   "outputs": [
    {
     "name": "stdout",
     "output_type": "stream",
     "text": [
      "ARI ARZ\n",
      "BAL BLT\n",
      "CLE CLV\n",
      "HOU HST\n"
     ]
    }
   ],
   "source": [
    "# Modify Possession Team\n",
    "train[(train['PossessionTeam']!=train['HomeTeamAbbr']) & (train['PossessionTeam']!=train['VisitorTeamAbbr'])][['PossessionTeam', 'HomeTeamAbbr', 'VisitorTeamAbbr']]\n",
    "diff_abbr = []\n",
    "for x,y  in zip(sorted(train['HomeTeamAbbr'].unique()), sorted(train['PossessionTeam'].unique())):\n",
    "    if x!=y:\n",
    "        print(x + \" \" + y)"
   ]
  },
  {
   "cell_type": "code",
   "execution_count": 16,
   "metadata": {},
   "outputs": [
    {
     "data": {
      "text/plain": [
       "0    NE\n",
       "1    NE\n",
       "2    NE\n",
       "3    NE\n",
       "4    NE\n",
       "Name: PossessionTeam, dtype: object"
      ]
     },
     "execution_count": 16,
     "metadata": {},
     "output_type": "execute_result"
    }
   ],
   "source": [
    "map_abbr = {'ARI': 'ARZ', 'BAL': 'BLT', 'CLE': 'CLV', 'HOU': 'HST'}\n",
    "for abb in train['PossessionTeam'].unique():\n",
    "    map_abbr[abb] = abb\n",
    "train['PossessionTeam'] = train['PossessionTeam'].map(map_abbr)\n",
    "train['HomeTeamAbbr'] = train['HomeTeamAbbr'].map(map_abbr)\n",
    "train['VisitorTeamAbbr'] = train['VisitorTeamAbbr'].map(map_abbr)\n",
    "train['HomePossesion'] = train['PossessionTeam'] == train['HomeTeamAbbr']\n",
    "train['Field_eq_Possession'] = train['FieldPosition'] == train['PossessionTeam']\n",
    "train['HomeField'] = train['FieldPosition'] == train['HomeTeamAbbr']\n",
    "train['PossessionTeam'].head()"
   ]
  },
  {
   "cell_type": "code",
   "execution_count": 17,
   "metadata": {},
   "outputs": [
    {
     "data": {
      "text/plain": [
       "SINGLEBACK    225434\n",
       "SHOTGUN       150964\n",
       "I_FORM        106062\n",
       "PISTOL         13420\n",
       "JUMBO          11462\n",
       "WILDCAT         1782\n",
       "EMPTY            506\n",
       "ACE               22\n",
       "Name: OffenseFormation, dtype: int64"
      ]
     },
     "execution_count": 17,
     "metadata": {},
     "output_type": "execute_result"
    }
   ],
   "source": [
    "# Check offense Formation,seems no need to modify\n",
    "train['OffenseFormation'].value_counts()"
   ]
  },
  {
   "cell_type": "code",
   "execution_count": 18,
   "metadata": {},
   "outputs": [
    {
     "data": {
      "text/plain": [
       "15:00:00    14476\n",
       "02:00:00     5236\n",
       "14:54:00     2156\n",
       "14:55:00     1958\n",
       "14:56:00     1276\n",
       "            ...  \n",
       "00:01:00      110\n",
       "14:58:00       88\n",
       "14:59:00       66\n",
       "14:39:00       44\n",
       "00:00:00       22\n",
       "Name: GameClock, Length: 901, dtype: int64"
      ]
     },
     "execution_count": 18,
     "metadata": {},
     "output_type": "execute_result"
    }
   ],
   "source": [
    "# Game Clock: divide the Game Clock by 15 minutes to get normalized time left in the quarter\n",
    "train['GameClock'].value_counts()"
   ]
  },
  {
   "cell_type": "code",
   "execution_count": 19,
   "metadata": {},
   "outputs": [],
   "source": [
    "def timeclock(i):\n",
    "    i = i.split(':')\n",
    "    out = int(i[0])*60 + int(i[1]) + int(i[2])/60\n",
    "    return out\n",
    "train['GameClock'] = train['GameClock'].apply(timeclock)"
   ]
  },
  {
   "cell_type": "code",
   "execution_count": 20,
   "metadata": {},
   "outputs": [
    {
     "data": {
      "text/plain": [
       "0    854.0\n",
       "1    854.0\n",
       "2    854.0\n",
       "3    854.0\n",
       "4    854.0\n",
       "Name: GameClock, dtype: float64"
      ]
     },
     "execution_count": 20,
     "metadata": {},
     "output_type": "execute_result"
    }
   ],
   "source": [
    "train['GameClock'].head()"
   ]
  },
  {
   "cell_type": "code",
   "execution_count": 21,
   "metadata": {},
   "outputs": [],
   "source": [
    "# Turn PlayerHeight into standardized numerical data (unit: inch)\n",
    "train['PlayerHeight'] = train['PlayerHeight'].apply(lambda x: 12*int(x.split('-')[0])+int(x.split('-')[1]))"
   ]
  },
  {
   "cell_type": "markdown",
   "metadata": {},
   "source": [
    "Add BMI as an indicator of health status of players"
   ]
  },
  {
   "cell_type": "code",
   "execution_count": 22,
   "metadata": {},
   "outputs": [],
   "source": [
    "# Create a new column showing the BMIs of players\n",
    "train['PlayerBMI'] = 703*(train['PlayerWeight']/(train['PlayerHeight'])**2)"
   ]
  },
  {
   "cell_type": "code",
   "execution_count": 23,
   "metadata": {},
   "outputs": [
    {
     "data": {
      "text/plain": [
       "0    2017-09-08T00:44:06.000Z\n",
       "1    2017-09-08T00:44:06.000Z\n",
       "2    2017-09-08T00:44:06.000Z\n",
       "3    2017-09-08T00:44:06.000Z\n",
       "4    2017-09-08T00:44:06.000Z\n",
       "Name: TimeHandoff, dtype: object"
      ]
     },
     "execution_count": 23,
     "metadata": {},
     "output_type": "execute_result"
    }
   ],
   "source": [
    "# Create a new column showing the durations of plays\n",
    "train['TimeHandoff'].head()"
   ]
  },
  {
   "cell_type": "code",
   "execution_count": 24,
   "metadata": {},
   "outputs": [
    {
     "data": {
      "text/plain": [
       "0    1.0\n",
       "1    1.0\n",
       "2    1.0\n",
       "3    1.0\n",
       "4    1.0\n",
       "Name: PlayDuration, dtype: float64"
      ]
     },
     "execution_count": 24,
     "metadata": {},
     "output_type": "execute_result"
    }
   ],
   "source": [
    "train['TimeHandoff'] = train['TimeHandoff'].apply(lambda x: datetime.datetime.strptime(x, \"%Y-%m-%dT%H:%M:%S.%fZ\"))\n",
    "train['TimeSnap'] = train['TimeSnap'].apply(lambda x: datetime.datetime.strptime(x, \"%Y-%m-%dT%H:%M:%S.%fZ\"))\n",
    "train['PlayDuration'] = train.apply(lambda row: (row['TimeHandoff'] - row['TimeSnap']).total_seconds(), axis=1)\n",
    "train['PlayDuration'].head()\n",
    "# Durations could be quite similar, but the data still worthy of exploratory analysis"
   ]
  },
  {
   "cell_type": "code",
   "execution_count": 25,
   "metadata": {},
   "outputs": [
    {
     "data": {
      "text/plain": [
       "0    28.692760\n",
       "1    28.457305\n",
       "2    28.629790\n",
       "3    34.795430\n",
       "4    30.061685\n",
       "Name: PlayerAge, dtype: float64"
      ]
     },
     "execution_count": 25,
     "metadata": {},
     "output_type": "execute_result"
    }
   ],
   "source": [
    "# Similarly, we create a column for players' ages by processing players' birth dates (unit: year)\n",
    "train['PlayerBirthDate'] = train['PlayerBirthDate'].apply(lambda x: datetime.datetime.strptime(x, \"%m/%d/%Y\"))\n",
    "seconds_in_year = 60*60*24*365.25\n",
    "train['PlayerAge'] = train.apply(lambda row: (row['TimeHandoff']-row['PlayerBirthDate']).total_seconds()/seconds_in_year, axis=1)\n",
    "train['PlayerAge'].head()"
   ]
  },
  {
   "cell_type": "code",
   "execution_count": 26,
   "metadata": {},
   "outputs": [
    {
     "data": {
      "text/plain": [
       "5                    53284\n",
       "6                    41580\n",
       "7                    39578\n",
       "4                    34584\n",
       "9                    31328\n",
       "10                   29788\n",
       "8                    29370\n",
       "3                    26862\n",
       "2                    24112\n",
       "12                   23584\n",
       "11                   17116\n",
       "15                   13926\n",
       "0                    13772\n",
       "1                    12078\n",
       "16                    9878\n",
       "13                    8404\n",
       "14                    6094\n",
       "17                    3872\n",
       "18                    1980\n",
       "13 MPH                1804\n",
       "23                    1166\n",
       "E                     1144\n",
       "SE                    1122\n",
       "7 MPH                 1100\n",
       "10-20                 1100\n",
       "Calm                  1100\n",
       "12-22                 1056\n",
       "6 mph                 1034\n",
       "20                    1012\n",
       "12mph                  968\n",
       "14-23                  968\n",
       "24                     968\n",
       "10MPH                  902\n",
       "4 MPh                  902\n",
       "10mph                  902\n",
       "SSW                    836\n",
       "15 gusts up to 25      836\n",
       "22                     836\n",
       "11-17                  726\n",
       "19                     660\n",
       "Name: WindSpeed, dtype: int64"
      ]
     },
     "execution_count": 26,
     "metadata": {},
     "output_type": "execute_result"
    }
   ],
   "source": [
    "# Standardize Wind Speed and Direction data\n",
    "train['WindSpeed'].value_counts()"
   ]
  },
  {
   "cell_type": "code",
   "execution_count": 27,
   "metadata": {},
   "outputs": [],
   "source": [
    "train['WindSpeed'] = train['WindSpeed'].apply(lambda x: x.lower().replace('mph', '').strip() if not pd.isna(x) else x)\n",
    "train['WindSpeed'] = train['WindSpeed'].apply(lambda x: (int(x.split('-')[0])+int(x.split('-')[1]))/2 if not pd.isna(x) and '-' in x else x)\n",
    "train['WindSpeed'] = train['WindSpeed'].apply(lambda x: (int(x.split()[0])+int(x.split()[-1]))/2 if not pd.isna(x) and type(x)!=float and 'gusts up to' in x else x)\n",
    "\n",
    "def str_to_float(txt):\n",
    "    try:\n",
    "        return float(txt)\n",
    "    except:\n",
    "        return -1\n",
    "train['WindSpeed'] = train['WindSpeed'].apply(str_to_float)"
   ]
  },
  {
   "cell_type": "code",
   "execution_count": 28,
   "metadata": {},
   "outputs": [
    {
     "data": {
      "text/plain": [
       "NE                 30250\n",
       "NW                 27236\n",
       "SW                 25828\n",
       "SE                 25784\n",
       "WSW                24222\n",
       "N                  23188\n",
       "W                  22198\n",
       "S                  21384\n",
       "NNE                20394\n",
       "South              20328\n",
       "SSW                19910\n",
       "WNW                19118\n",
       "North              17182\n",
       "NNW                14036\n",
       "West               13618\n",
       "SSE                13376\n",
       "E                  12826\n",
       "ENE                10802\n",
       "ESE                 9878\n",
       "East                7348\n",
       "Northwest           4070\n",
       "From SW             3872\n",
       "Northeast           3652\n",
       "NorthEast           3212\n",
       "From S              3146\n",
       "s                   2728\n",
       "SouthWest           2134\n",
       "Southeast           1936\n",
       "Southwest           1804\n",
       "W-NW                1804\n",
       "West-Southwest      1386\n",
       "8                   1144\n",
       "1                   1122\n",
       "North East          1100\n",
       "East Southeast      1078\n",
       "West Northwest      1056\n",
       "Calm                1056\n",
       "N-NE                1012\n",
       "From W               990\n",
       "From NNE             968\n",
       "W-SW                 968\n",
       "From SSW             968\n",
       "North/Northwest      968\n",
       "South Southeast      946\n",
       "From WSW             946\n",
       "From NNW             924\n",
       "EAST                 902\n",
       "From SSE             880\n",
       "South Southwest      858\n",
       "13                   836\n",
       "East North East      748\n",
       "from W               726\n",
       "From ESE             682\n",
       "Name: WindDirection, dtype: int64"
      ]
     },
     "execution_count": 28,
     "metadata": {},
     "output_type": "execute_result"
    }
   ],
   "source": [
    "train['WindDirection'].value_counts()"
   ]
  },
  {
   "cell_type": "code",
   "execution_count": 29,
   "metadata": {},
   "outputs": [],
   "source": [
    "def clean_WindDirection(txt):\n",
    "    if pd.isna(txt):\n",
    "        return np.nan\n",
    "    txt = txt.lower()\n",
    "    txt = ''.join([c for c in txt if c not in punctuation])\n",
    "    txt = txt.replace('from', '')\n",
    "    txt = txt.replace(' ', '')\n",
    "    txt = txt.replace('north', 'n')\n",
    "    txt = txt.replace('south', 's')\n",
    "    txt = txt.replace('west', 'w')\n",
    "    txt = txt.replace('east', 'e')\n",
    "    return txt\n",
    "train['WindDirection'] = train['WindDirection'].apply(clean_WindDirection)"
   ]
  },
  {
   "cell_type": "code",
   "execution_count": 30,
   "metadata": {},
   "outputs": [],
   "source": [
    "def transform_WindDirection(txt):\n",
    "    if pd.isna(txt):\n",
    "        return np.nan\n",
    "    \n",
    "    if txt=='n':\n",
    "        return 0\n",
    "    if txt=='nne' or txt=='nen':\n",
    "        return 1/8\n",
    "    if txt=='ne':\n",
    "        return 2/8\n",
    "    if txt=='ene' or txt=='nee':\n",
    "        return 3/8\n",
    "    if txt=='e':\n",
    "        return 4/8\n",
    "    if txt=='ese' or txt=='see':\n",
    "        return 5/8\n",
    "    if txt=='se':\n",
    "        return 6/8\n",
    "    if txt=='ses' or txt=='sse':\n",
    "        return 7/8\n",
    "    if txt=='s':\n",
    "        return 8/8\n",
    "    if txt=='ssw' or txt=='sws':\n",
    "        return 9/8\n",
    "    if txt=='sw':\n",
    "        return 10/8\n",
    "    if txt=='sww' or txt=='wsw':\n",
    "        return 11/8\n",
    "    if txt=='w':\n",
    "        return 12/8\n",
    "    if txt=='wnw' or txt=='nww':\n",
    "        return 13/8\n",
    "    if txt=='nw':\n",
    "        return 14/8\n",
    "    if txt=='nwn' or txt=='nnw':\n",
    "        return 15/8\n",
    "    return np.nan\n",
    "train['WindDirection'] = train['WindDirection'].apply(transform_WindDirection)"
   ]
  },
  {
   "cell_type": "code",
   "execution_count": 31,
   "metadata": {},
   "outputs": [
    {
     "data": {
      "text/plain": [
       "left     256454\n",
       "right    253308\n",
       "Name: PlayDirection, dtype: int64"
      ]
     },
     "execution_count": 31,
     "metadata": {},
     "output_type": "execute_result"
    }
   ],
   "source": [
    "# PlayDirection, Team\n",
    "train['PlayDirection'].value_counts()"
   ]
  },
  {
   "cell_type": "code",
   "execution_count": 32,
   "metadata": {},
   "outputs": [],
   "source": [
    "train['PlayDirection'] = train['PlayDirection'].apply(lambda x: x.strip() == 'right')\n",
    "train['Team'] = train['Team'].apply(lambda x: x.strip()=='home')"
   ]
  },
  {
   "cell_type": "code",
   "execution_count": 33,
   "metadata": {},
   "outputs": [
    {
     "data": {
      "text/plain": [
       "array(['Clear and warm', 'Sun & clouds', 'Sunny', 'Controlled Climate',\n",
       "       'Mostly Sunny', 'Clear', nan, 'Indoor', 'Mostly Cloudy',\n",
       "       'Mostly Coudy', 'Partly sunny', 'Partly Cloudy', 'Cloudy',\n",
       "       'Sunny, highs to upper 80s', 'Indoors', 'Light Rain', 'Showers',\n",
       "       'Partly cloudy', 'Partly Sunny', '30% Chance of Rain',\n",
       "       'Cloudy with periods of rain, thunder possible. Winds shifting to WNW, 10-20 mph.',\n",
       "       'Rain', 'Cloudy, fog started developing in 2nd quarter', 'Coudy',\n",
       "       'Rain likely, temps in low 40s.', 'Cold', 'N/A (Indoors)',\n",
       "       'Clear skies', 'cloudy', 'Fair', 'Mostly cloudy',\n",
       "       'Cloudy, chance of rain', 'Heavy lake effect snow', 'Party Cloudy',\n",
       "       'Cloudy, light snow accumulating 1-3\"', 'Cloudy and cold', 'Snow',\n",
       "       'Hazy', 'Scattered Showers', 'Cloudy and Cool', 'N/A Indoor',\n",
       "       'Rain Chance 40%', 'Clear and sunny', 'Mostly sunny',\n",
       "       'Sunny and warm', 'Partly clear', 'Cloudy, 50% change of rain',\n",
       "       'Clear and Sunny', 'Sunny, Windy', 'Clear and Cool',\n",
       "       'Sunny and clear', 'Mostly Sunny Skies', 'Partly Clouidy',\n",
       "       'Clear Skies', 'Sunny Skies', 'Overcast',\n",
       "       'T: 51; H: 55; W: NW 10 mph', 'Cloudy, Rain', 'Rain shower',\n",
       "       'Clear and cold', 'Rainy', 'Sunny and cold'], dtype=object)"
      ]
     },
     "execution_count": 33,
     "metadata": {},
     "output_type": "execute_result"
    }
   ],
   "source": [
    "# Standardize Weather\n",
    "train['GameWeather'].unique()"
   ]
  },
  {
   "cell_type": "code",
   "execution_count": 34,
   "metadata": {},
   "outputs": [],
   "source": [
    "train['GameWeather'] = train['GameWeather'].str.lower()\n",
    "indoor = \"indoor\"\n",
    "train['GameWeather'] = train['GameWeather'].apply(lambda x: indoor if not pd.isna(x) and indoor in x else x)\n",
    "train['GameWeather'] = train['GameWeather'].apply(lambda x: x.replace('coudy', 'cloudy').replace('clouidy', 'cloudy').replace('party', 'partly') if not pd.isna(x) else x)\n",
    "train['GameWeather'] = train['GameWeather'].apply(lambda x: x.replace('clear and sunny', 'sunny and clear') if not pd.isna(x) else x)\n",
    "train['GameWeather'] = train['GameWeather'].apply(lambda x: x.replace('skies', '').replace(\"mostly\", \"\").strip() if not pd.isna(x) else x)"
   ]
  },
  {
   "cell_type": "code",
   "execution_count": 35,
   "metadata": {},
   "outputs": [
    {
     "data": {
      "text/plain": [
       "[('cloudy', 193952),\n",
       " ('sunny', 127468),\n",
       " ('partly', 58256),\n",
       " ('clear', 55594),\n",
       " ('rain', 28952),\n",
       " ('indoor', 26950),\n",
       " ('controlled', 12540),\n",
       " ('climate', 12540),\n",
       " ('and', 10956),\n",
       " ('cloudy,', 4972),\n",
       " ('fair', 4972),\n",
       " ('snow', 4708),\n",
       " ('cold', 4510),\n",
       " ('of', 4026),\n",
       " ('light', 3608)]"
      ]
     },
     "execution_count": 35,
     "metadata": {},
     "output_type": "execute_result"
    }
   ],
   "source": [
    "# To deal with the variety of weather descriptions, some text analysis could be helpful\n",
    "from collections import Counter\n",
    "weather_count = Counter()\n",
    "for weather in train['GameWeather']:\n",
    "    if pd.isna(weather):\n",
    "        continue\n",
    "    for word in weather.split():\n",
    "        weather_count[word]+=1\n",
    "        \n",
    "weather_count.most_common()[:15]"
   ]
  },
  {
   "cell_type": "code",
   "execution_count": 36,
   "metadata": {},
   "outputs": [],
   "source": [
    "# Then we could decide on the measurement of weather conditions\n",
    "def weather(i):\n",
    "    out = 1\n",
    "    if pd.isna(i):\n",
    "        return 0\n",
    "    if 'partly' in i:\n",
    "        out*=0.5\n",
    "    if 'climate controlled' in i or 'indoor' in i:\n",
    "        return out*3\n",
    "    if 'sunny' in i or 'sun' in i:\n",
    "        return out*2\n",
    "    if 'clear' in i:\n",
    "        return out\n",
    "    if 'cloudy' in i:\n",
    "        return -out\n",
    "    if 'rain' in i or 'rainy' in i:\n",
    "        return -2*out\n",
    "    if 'snow' in i:\n",
    "        return -3*out\n",
    "    return 0\n",
    "\n",
    "train['GameWeather'] = train['GameWeather'].apply(weather)"
   ]
  },
  {
   "cell_type": "code",
   "execution_count": 37,
   "metadata": {},
   "outputs": [],
   "source": [
    "# Create a new column to show player types\n",
    "train['Rusher'] = train['NflId'] == train['NflIdRusher']"
   ]
  },
  {
   "cell_type": "code",
   "execution_count": 38,
   "metadata": {},
   "outputs": [],
   "source": [
    "# Anchoring offense moving left from {0,0} (modify X column)\n",
    "train['X'] = train.apply(lambda row: row['X'] if row['PlayDirection'] else 120-row['X'], axis=1)\n",
    "def new_orientation(a, play_direction):\n",
    "    if play_direction == 0:\n",
    "        new_angle = 360.0 - a\n",
    "        if new_angle == 360.0:\n",
    "            new_angle = 0.0\n",
    "        return new_angle\n",
    "    else:\n",
    "        return a    \n",
    "train['Orientation'] = train.apply(lambda row: new_orientation(row['Orientation'], row['PlayDirection']), axis=1)\n",
    "train['Dir'] = train.apply(lambda row: new_orientation(row['Dir'], row['PlayDirection']), axis=1)"
   ]
  },
  {
   "cell_type": "code",
   "execution_count": 39,
   "metadata": {},
   "outputs": [],
   "source": [
    "# At last we clean the YardsLeft columnn to get data of yards to the end zone\n",
    "train['YardsLeft'] = train.apply(lambda row: 100-row['YardLine'] if row['HomeField'] else row['YardLine'], axis=1)\n",
    "train['YardsLeft'] = train.apply(lambda row: row['YardsLeft'] if row['PlayDirection'] else 100-row['YardsLeft'], axis=1)\n",
    "# Drop lines with obviously wrong data\n",
    "train.drop(train.index[(train['YardsLeft']<train['Yards']) | (train['YardsLeft']-100>train['Yards'])], inplace=True)"
   ]
  },
  {
   "cell_type": "code",
   "execution_count": 40,
   "metadata": {},
   "outputs": [],
   "source": [
    "train.to_csv(\"kaggle_train_processed.csv\")"
   ]
  },
  {
   "cell_type": "markdown",
   "metadata": {},
   "source": [
    "## Adding team stats into the dataset"
   ]
  },
  {
   "cell_type": "code",
   "execution_count": 41,
   "metadata": {},
   "outputs": [],
   "source": [
    "import requests\n",
    "from bs4 import BeautifulSoup\n",
    "import numpy as np\n",
    "import pandas as pd\n",
    "import time"
   ]
  },
  {
   "cell_type": "code",
   "execution_count": 42,
   "metadata": {},
   "outputs": [],
   "source": [
    "# convert the abbreviation team name of the pbp file to the abbreviation team name used by the pro-football-reference website\n",
    "def pbp_to_pro(abbr):\n",
    "    corr_dict = {'ne':'nwe', 'no':'nor', 'lac':'sdg', 'sd':'sdg', 'la':'ram', 'sf':'sfo', 'tb':'tam', 'kc':'kan', 'gb':'gnb', 'ten':'oti','hou':'htx','bal':'rav','oak':'rai','ari':'crd','ind':'clt'}\n",
    "    if abbr in corr_dict.keys():\n",
    "        return corr_dict[abbr]\n",
    "    return abbr\n",
    "\n",
    "# convert the abbreviation team name of the train file to the abbreviation team name used by the pro-football-reference website\n",
    "def train_to_pro(abbr):    \n",
    "    train_name_dict = {'ARZ': 'crd', 'ARI': 'crd', 'ATL': 'atl', 'BLT': 'rav', 'BAL': 'rav', 'BUF': 'buf', 'CAR': 'car', 'CHI': 'chi', 'CIN': 'cin', 'CLV': 'cle', 'CLE': 'cle', 'DAL': 'dal', 'DEN': 'den', 'DET': 'det', 'GB': 'gnb', 'HST': 'htx', 'HOU': 'htx', 'IND': 'clt', 'JAX': 'jax', 'KC': 'kan', 'LAC': 'sdg', 'LA': 'ram', 'MIA': 'mia', 'MIN': 'min', 'NE': 'nwe', 'NO': 'nor', 'NYG': 'nyg', 'NYJ': 'nyj', 'OAK': 'rai', 'PHI': 'phi', 'PIT': 'pit', 'SF': 'sfo', 'SEA': 'sea', 'TB': 'tam', 'TEN': 'oti', 'WAS': 'was'}\n",
    "    return train_name_dict[abbr]\n",
    "\n",
    "# create a dict of full team name and abbreviation used by the pro-football-reference website\n",
    "def get_team_name():\n",
    "    team_name_dict = dict()\n",
    "    url = 'https://www.pro-football-reference.com/teams/'\n",
    "    response = requests.get(url)\n",
    "    result_page = BeautifulSoup(response.content,'lxml')\n",
    "    team_table = result_page.find(\"table\", {\"id\": 'teams_active'}).tbody\n",
    "    team_rows = team_table.find_all('tr')\n",
    "    for row in team_rows:\n",
    "        team = row.find('th', {'class': 'left'})\n",
    "        if team is not None:\n",
    "            team_name_dict[team.text] = team.find('a').get('href')[7:10]\n",
    "    team_name_dict['San Diego Chargers'] = 'sdg'\n",
    "    return team_name_dict\n",
    "\n",
    "# input a full team name, return the abbreviation used by the pro-football-reference website \n",
    "def get_team_abbr(team_list):\n",
    "    team_name_dict = get_team_name()\n",
    "    result = []\n",
    "    for team in team_list:\n",
    "        result.append(team_name_dict[team])\n",
    "    return result\n",
    "\n",
    "# calculate the team rank given a list of teams and their stats in one category\n",
    "def get_team_rank(stats):\n",
    "    sorted_list = []\n",
    "    index = 0\n",
    "    diff = stats.max() - stats.min()\n",
    "    for i in stats:\n",
    "        percent = (i-stats.min())/diff\n",
    "        if percent >= 0.75:\n",
    "            sorted_list.append('A')\n",
    "        elif percent >= 0.5:\n",
    "            sorted_list.append('B')\n",
    "        elif percent >= 0.25:\n",
    "            sorted_list.append('C')\n",
    "        else:\n",
    "            sorted_list.append('D')\n",
    "    return sorted_list\n",
    "\n",
    "# reverse the rank(since sometimes higher number doesn't mean better)\n",
    "def reverse_rank(stats):\n",
    "    r_dict = {'A':'D', 'B':'C', 'C':'B', 'D':'A'}\n",
    "    return r_dict[stats]\n",
    "\n",
    "# Given a dataframe, calculate all team ranks on every columns of categories\n",
    "def get_rank_df(df):\n",
    "    df_copy = df.copy()\n",
    "    columns = list(df_copy)\n",
    "    for col in columns[3:-1]:\n",
    "        df_copy[col] = get_team_rank(df[col])\n",
    "    return df_copy\n"
   ]
  },
  {
   "cell_type": "code",
   "execution_count": 43,
   "metadata": {},
   "outputs": [],
   "source": [
    "team_pass_2017 = pd.read_csv('2017_pass.csv')\n",
    "team_pass_2017 = team_pass_2017[:-3]\n",
    "team_rush_2017 = pd.read_csv('2017_rush.csv')\n",
    "team_rush_2017 = team_rush_2017[:-3]\n",
    "team_passdef_2017 = pd.read_csv('2017_passdef.csv')\n",
    "team_passdef_2017 = team_passdef_2017[:-3]\n",
    "team_rushdef_2017 = pd.read_csv('2017_rushdef.csv')\n",
    "team_rushdef_2017 = team_rushdef_2017[:-3]\n",
    "\n",
    "team_pass_2018 = pd.read_csv('2018_pass.csv')\n",
    "team_pass_2018 = team_pass_2018[:-3]\n",
    "team_rush_2018 = pd.read_csv('2018_rush.csv')\n",
    "team_rush_2018 = team_rush_2018[:-3]\n",
    "team_passdef_2018 = pd.read_csv('2018_passdef.csv')\n",
    "team_passdef_2018 = team_passdef_2018[:-3]\n",
    "team_rushdef_2018 = pd.read_csv('2018_rushdef.csv')\n",
    "team_rushdef_2018 = team_rushdef_2018[:-3]\n",
    "\n",
    "team_pass_2017['TmAbbr'] = get_team_abbr(team_pass_2017['Tm'])\n",
    "team_rush_2017['TmAbbr'] = get_team_abbr(team_rush_2017['Tm'])\n",
    "team_passdef_2017['TmAbbr'] = get_team_abbr(team_passdef_2017['Tm'])\n",
    "team_rushdef_2017['TmAbbr'] = get_team_abbr(team_rushdef_2017['Tm'])\n",
    "\n",
    "team_pass_2018['TmAbbr'] = get_team_abbr(team_pass_2018['Tm'])\n",
    "team_rush_2018['TmAbbr'] = get_team_abbr(team_rush_2018['Tm'])\n",
    "team_passdef_2018['TmAbbr'] = get_team_abbr(team_passdef_2018['Tm'])\n",
    "team_rushdef_2018['TmAbbr'] = get_team_abbr(team_rushdef_2018['Tm'])\n",
    "\n",
    "team_pass_rank_2017 = get_rank_df(team_pass_2017)\n",
    "team_rush_rank_2017 = get_rank_df(team_rush_2017)\n",
    "team_pass_rank_2017.set_index('TmAbbr', inplace=True)\n",
    "team_rush_rank_2017.set_index('TmAbbr', inplace=True)\n",
    "team_passdef_rank_2017 = get_rank_df(team_passdef_2017)\n",
    "team_rushdef_rank_2017 = get_rank_df(team_rushdef_2017)\n",
    "team_passdef_rank_2017.set_index('TmAbbr', inplace=True)\n",
    "team_rushdef_rank_2017.set_index('TmAbbr', inplace=True)\n",
    "\n",
    "team_pass_rank_2018 = get_rank_df(team_pass_2018)\n",
    "team_rush_rank_2018 = get_rank_df(team_rush_2018)\n",
    "team_pass_rank_2018.set_index('TmAbbr', inplace=True)\n",
    "team_rush_rank_2018.set_index('TmAbbr', inplace=True)\n",
    "team_passdef_rank_2018 = get_rank_df(team_passdef_2018)\n",
    "team_rushdef_rank_2018 = get_rank_df(team_rushdef_2018)\n",
    "team_passdef_rank_2018.set_index('TmAbbr', inplace=True)\n",
    "team_rushdef_rank_2018.set_index('TmAbbr', inplace=True)\n",
    "\n",
    "def add_team_stats(df, train=0):\n",
    "    off_pass_cmp_list = []\n",
    "    off_pass_att_list = []\n",
    "    off_pass_cmprate_list = []\n",
    "    off_pass_td_list = []\n",
    "    off_intrate_list  = []\n",
    "    off_sackrate_list = []\n",
    "    off_pass_yds_list = []\n",
    "    off_pass_yds_game_list = []\n",
    "    off_pass_yds_atm_list = []\n",
    "    off_qbr_list = []\n",
    "    off_rush_att_list = []\n",
    "    off_rush_yds_list = []\n",
    "    off_rush_yds_game_list = []\n",
    "    off_rush_yds_atm_list = []\n",
    "    off_rush_td_list = []\n",
    "    \n",
    "    def_pass_cmp_list = []\n",
    "    def_pass_att_list = []\n",
    "    def_pass_cmprate_list = []\n",
    "    def_pass_td_list = []\n",
    "    def_intrate_list  = []\n",
    "    def_sackrate_list = []\n",
    "    def_pass_yds_list = []\n",
    "    def_pass_yds_game_list = []\n",
    "    def_pass_yds_atm_list = []\n",
    "    def_rush_att_list = []\n",
    "    def_rush_yds_list = []\n",
    "    def_rush_yds_game_list = []\n",
    "    def_rush_yds_atm_list = []\n",
    "    def_rush_td_list = []\n",
    "    \n",
    "    for index, row in df.iterrows():\n",
    "        if train == 0:\n",
    "            all_list = [[team_pass_rank, team_rush_rank, team_passdef_rank, team_rushdef_rank]]\n",
    "            off_team = pbp_to_pro(row[7].lower())\n",
    "            def_team = pbp_to_pro(row[8].lower())\n",
    "        else:\n",
    "            all_list = [[team_pass_rank_2017, team_rush_rank_2017, team_passdef_rank_2017, team_rushdef_rank_2017], [team_pass_rank_2018, team_rush_rank_2018, team_passdef_rank_2018, team_rushdef_rank_2018]]\n",
    "            season = row[14]\n",
    "            if season == '2017':\n",
    "                season = 0\n",
    "            else:\n",
    "                season = 1\n",
    "            team1 = train_to_pro(row[38])\n",
    "            team2 = train_to_pro(row[39])\n",
    "            off_team = train_to_pro(row[18])\n",
    "            if off_team == team1:\n",
    "                def_team = team2\n",
    "            else:\n",
    "                def_team = team1\n",
    "        off_pass_cmp_list.append(all_list[season][0]['Cmp'][off_team])\n",
    "        off_pass_att_list.append(all_list[season][0]['Att'][off_team])\n",
    "        off_pass_cmprate_list.append(all_list[season][0]['Cmp%'][off_team])\n",
    "        off_pass_td_list.append(all_list[season][0]['TD'][off_team])\n",
    "        off_intrate_list.append(reverse_rank(all_list[season][0]['Int%'][off_team]))\n",
    "        off_sackrate_list.append(reverse_rank(all_list[season][0]['Sk%'][off_team]))\n",
    "        off_pass_yds_list.append(all_list[season][0]['Yds'][off_team])\n",
    "        off_pass_yds_game_list.append(all_list[season][0]['Y/G'][off_team])\n",
    "        off_pass_yds_atm_list.append(all_list[season][0]['Y/A'][off_team])\n",
    "        off_qbr_list.append(all_list[season][0]['Rate'][off_team])\n",
    "        off_rush_att_list.append(all_list[season][1]['Att'][off_team])\n",
    "        off_rush_yds_list.append(all_list[season][1]['Yds'][off_team])\n",
    "        off_rush_yds_game_list.append(all_list[season][1]['Y/G'][off_team])\n",
    "        off_rush_yds_atm_list.append(all_list[season][1]['Y/A'][off_team])\n",
    "        off_rush_td_list.append(all_list[season][1]['TD'][off_team])\n",
    "        \n",
    "        def_pass_cmp_list.append(reverse_rank(all_list[season][2]['Cmp'][def_team]))\n",
    "        def_pass_att_list.append(reverse_rank(all_list[season][2]['Att'][def_team]))\n",
    "        def_pass_cmprate_list.append(reverse_rank(all_list[season][2]['Cmp%'][def_team]))\n",
    "        def_pass_td_list.append(reverse_rank(all_list[season][2]['TD'][def_team]))\n",
    "        def_intrate_list.append(all_list[season][2]['Int%'][def_team])\n",
    "        def_sackrate_list.append(all_list[season][2]['Sk%'][def_team])\n",
    "        def_pass_yds_list.append(reverse_rank(all_list[season][2]['Yds'][def_team]))\n",
    "        def_pass_yds_game_list.append(reverse_rank(all_list[season][2]['Y/G'][def_team]))\n",
    "        def_pass_yds_atm_list.append(reverse_rank(all_list[season][2]['Y/A'][def_team]))\n",
    "        def_rush_att_list.append(reverse_rank(all_list[season][3]['Att'][def_team]))\n",
    "        def_rush_yds_list.append(reverse_rank(all_list[season][3]['Yds'][def_team]))\n",
    "        def_rush_yds_game_list.append(reverse_rank(all_list[season][3]['Y/G'][def_team]))\n",
    "        def_rush_yds_atm_list.append(reverse_rank(all_list[season][3]['Y/A'][def_team]))\n",
    "        def_rush_td_list.append(reverse_rank(all_list[season][3]['TD'][def_team]))\n",
    "        \n",
    "    df['Off Pass Cmp'] = off_pass_cmp_list\n",
    "    df['Off Pass Att'] = off_pass_att_list\n",
    "    df['Off Pass Cmp%'] = off_pass_cmprate_list\n",
    "    df['Off Pass TD'] = off_pass_td_list\n",
    "    df['Off Pass Int%'] = off_intrate_list\n",
    "    df['Off Pass Sk%'] = off_sackrate_list\n",
    "    df['Off Pass Yds'] = off_pass_yds_list\n",
    "    df['Off Pass Y/G'] = off_pass_yds_game_list\n",
    "    df['Off Pass Y/A'] = off_pass_yds_atm_list\n",
    "    df['Off Pass QBR'] = off_qbr_list\n",
    "    df['Off Rush Att'] = off_rush_att_list\n",
    "    df['Off Rush Yds'] = off_rush_yds_list\n",
    "    df['Off Rush Y/G'] = off_rush_yds_game_list\n",
    "    df['Off Rush Y/A'] = off_rush_yds_atm_list\n",
    "    df['Off Rush TD'] = off_rush_td_list\n",
    "\n",
    "    df['Def Pass Cmp'] = def_pass_cmp_list\n",
    "    df['Def Pass Att'] = def_pass_att_list\n",
    "    df['Def Pass Cmp%'] = def_pass_cmprate_list\n",
    "    df['Def Pass TD'] = def_pass_td_list\n",
    "    df['Def Pass Int%'] = def_intrate_list\n",
    "    df['Def Pass Sk%'] = def_sackrate_list\n",
    "    df['Def Pass Yds'] = def_pass_yds_list\n",
    "    df['Def Pass Y/G'] = def_pass_yds_game_list\n",
    "    df['Def Pass Y/A'] = def_pass_yds_atm_list\n",
    "    df['Def Rush Att'] = def_rush_att_list\n",
    "    df['Def Rush Yds'] = def_rush_yds_list\n",
    "    df['Def Rush Y/G'] = def_rush_yds_game_list\n",
    "    df['Def Rush Y/A'] = def_rush_yds_atm_list\n",
    "    df['Def Rush TD'] = def_rush_td_list\n",
    "    \n",
    "    return df\n",
    "\n",
    "# add team rank stats to the train.csv\n",
    "train = pd.read_csv('kaggle_train_processed.csv')\n",
    "train_team = add_team_stats(train, 1)\n",
    "train_team.to_csv('kaggle_train_processed_team.csv')"
   ]
  },
  {
   "cell_type": "code",
   "execution_count": 44,
   "metadata": {},
   "outputs": [],
   "source": [
    "train = pd.read_csv('kaggle_train_processed_team.csv',index_col=0)\n",
    "train.columns = ['Unnamed: 0.1', 'GameId', 'PlayId', 'Team', 'X', 'Y', 'S', 'A', 'Dis',\n",
    "       'Orientation', 'Dir', 'NflId', 'DisplayName', 'JerseyNumber', 'Season',\n",
    "       'YardLine', 'Quarter', 'GameClock', 'PossessionTeam', 'Down',\n",
    "       'Distance', 'FieldPosition', 'HomeScoreBeforePlay',\n",
    "       'VisitorScoreBeforePlay', 'NflIdRusher', 'OffenseFormation',\n",
    "       'OffensePersonnel', 'DefendersInTheBox', 'DefensePersonnel',\n",
    "       'PlayDirection', 'TimeHandoff', 'TimeSnap', 'Yards', 'PlayerHeight',\n",
    "       'PlayerWeight', 'PlayerBirthDate', 'PlayerCollegeName', 'Position',\n",
    "       'HomeTeamAbbr', 'VisitorTeamAbbr', 'Week', 'Stadium', 'Location',\n",
    "       'StadiumType', 'Turf', 'GameWeather', 'Temperature', 'Humidity',\n",
    "       'WindSpeed', 'WindDirection', 'DefendersInTheBox_vs_Distance',\n",
    "       'HomePossesion', 'Field_eq_Possession', 'HomeField', 'PlayerBMI',\n",
    "       'PlayDuration', 'PlayerAge', 'Rusher', 'YardsLeft', 'Off_Pass_Cmp',\n",
    "       'Off_Pass_Att', 'Off_Pass_CmpR', 'Off_Pass_TD', 'Off_Pass_IntR',\n",
    "       'Off_Pass_SkR', 'Off_Pass_Yds', 'Off_Pass_Y_G', 'Off_Pass_Y_A',\n",
    "       'Off_Pass_QBR', 'Off_Rush_Att', 'Off_Rush_Yds', 'Off_Rush_Y_G',\n",
    "       'Off_Rush_Y_A', 'Off_Rush_TD', 'Def_Pass_Cmp', 'Def_Pass_Att',\n",
    "       'Def_Pass_CmpR', 'Def_Pass_TD', 'Def_Pass_IntR', 'Def_Pass_SkR',\n",
    "       'Def_Pass_Yds', 'Def_Pass_Y_G', 'Def_Pass_Y_A', 'Def_Rush_Att',\n",
    "       'Def_Rush_Yds', 'Def_Rush_Y_G', 'Def_Rush_Y_A', 'Def_Rush_TD']\n",
    "train.to_csv('kaggle_train_processed_team.csv')"
   ]
  },
  {
   "cell_type": "code",
   "execution_count": null,
   "metadata": {},
   "outputs": [],
   "source": []
  }
 ],
 "metadata": {
  "kernelspec": {
   "display_name": "Python 3",
   "language": "python",
   "name": "python3"
  },
  "language_info": {
   "codemirror_mode": {
    "name": "ipython",
    "version": 3
   },
   "file_extension": ".py",
   "mimetype": "text/x-python",
   "name": "python",
   "nbconvert_exporter": "python",
   "pygments_lexer": "ipython3",
   "version": "3.7.0"
  }
 },
 "nbformat": 4,
 "nbformat_minor": 2
}
