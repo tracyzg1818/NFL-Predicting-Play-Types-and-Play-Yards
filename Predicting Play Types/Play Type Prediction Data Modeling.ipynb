{
 "cells": [
  {
   "cell_type": "markdown",
   "metadata": {},
   "source": [
    "# In this notebook, we do the following modeling and analysis:\n",
    "- Premodeling processing of features\n",
    "- Logistic Regression models to predict rush/pass\n",
    "- K-Nearest Neighbor models to predict rush/pass\n",
    "- Random Forest models to predict rush/pass\n",
    "- Gradient Boosting Machine models to predict rush/pass\n",
    "- eXtreme Boosting Machine models to predict rush/pass\n",
    "- Linear Discriminant Analysis models to predict rush/pass\n",
    "- Test set accuracy analysis by quarter\n",
    "- Test set accuracy analysis by down\n",
    "- Test set accuracy analysis by team"
   ]
  },
  {
   "cell_type": "code",
   "execution_count": 1,
   "metadata": {},
   "outputs": [
    {
     "name": "stderr",
     "output_type": "stream",
     "text": [
      "D:\\Anaconda\\lib\\site-packages\\sklearn\\cross_validation.py:41: DeprecationWarning: This module was deprecated in version 0.18 in favor of the model_selection module into which all the refactored classes and functions are moved. Also note that the interface of the new CV iterators are different from that of this module. This module will be removed in 0.20.\n",
      "  \"This module will be removed in 0.20.\", DeprecationWarning)\n"
     ]
    }
   ],
   "source": [
    "#initial import\n",
    "import pandas as pd\n",
    "import numpy as np\n",
    "import datetime\n",
    "import seaborn as sns\n",
    "import matplotlib.pyplot as plt\n",
    "import matplotlib.patches as patches\n",
    "import matplotlib.path as path\n",
    "%matplotlib inline\n",
    "\n",
    "from sklearn import preprocessing\n",
    "from sklearn import linear_model\n",
    "from sklearn.linear_model import LogisticRegression\n",
    "from sklearn.model_selection import train_test_split\n",
    "from sklearn.decomposition import PCA\n",
    "from sklearn.neighbors import KNeighborsClassifier\n",
    "from sklearn import metrics\n",
    "from sklearn.cross_validation import cross_val_score"
   ]
  },
  {
   "cell_type": "code",
   "execution_count": 2,
   "metadata": {},
   "outputs": [],
   "source": [
    "df = pd.read_csv(r'C:/Users/zhong/Downloads/pbp_2016_2019_cleaned_data_updated.csv')"
   ]
  },
  {
   "cell_type": "markdown",
   "metadata": {},
   "source": [
    "# Premodeling processing\n",
    "- Data Exploration\n",
    "- Generate 8 derived features and drop 53 redundant features\n",
    "- Split the data into training set and testing set"
   ]
  },
  {
   "cell_type": "markdown",
   "metadata": {},
   "source": [
    "<b>Basic Data Exploration</b>"
   ]
  },
  {
   "cell_type": "code",
   "execution_count": 3,
   "metadata": {},
   "outputs": [
    {
     "data": {
      "text/plain": [
       "(117738, 102)"
      ]
     },
     "execution_count": 3,
     "metadata": {},
     "output_type": "execute_result"
    }
   ],
   "source": [
    "df_logit = df\n",
    "# df_logit.describe()\n",
    "df_logit.shape"
   ]
  },
  {
   "cell_type": "code",
   "execution_count": 4,
   "metadata": {},
   "outputs": [
    {
     "data": {
      "text/plain": [
       "1    69221\n",
       "0    48517\n",
       "Name: IsPass, dtype: int64"
      ]
     },
     "execution_count": 4,
     "metadata": {},
     "output_type": "execute_result"
    }
   ],
   "source": [
    "df_logit['IsPass'].value_counts()"
   ]
  },
  {
   "cell_type": "markdown",
   "metadata": {},
   "source": [
    "- The above numbers mean both IsPass and IsRush have 0 null values."
   ]
  },
  {
   "cell_type": "code",
   "execution_count": 5,
   "metadata": {},
   "outputs": [
    {
     "data": {
      "image/png": "[encoded data removed]",
      "text/plain": [
       "<Figure size 432x288 with 1 Axes>"
      ]
     },
     "metadata": {
      "needs_background": "light"
     },
     "output_type": "display_data"
    }
   ],
   "source": [
    "sns.countplot(x = 'IsPass', data = df_logit, palette = 'hls')\n",
    "plt.show()"
   ]
  },
  {
   "cell_type": "code",
   "execution_count": 6,
   "metadata": {},
   "outputs": [
    {
     "data": {
      "image/png": "[encoded data removed]",
      "text/plain": [
       "<Figure size 432x288 with 1 Axes>"
      ]
     },
     "metadata": {},
     "output_type": "display_data"
    }
   ],
   "source": [
    "# Data to plot\n",
    "labels = 'Pass', 'Rush'\n",
    "sizes = [69221, 48517]\n",
    "colors = ['lightcoral', 'lightskyblue']\n",
    "\n",
    "# Plot\n",
    "plt.pie(sizes, labels=labels, colors=colors, autopct='%1.1f%%', startangle=140)\n",
    "plt.axis('equal')\n",
    "plt.show()"
   ]
  },
  {
   "cell_type": "markdown",
   "metadata": {},
   "source": [
    "<b>Observations from Rush and Pass group means</b>\n",
    "    <ul><li>Before-play features:</li>\n",
    "            <ul>Time: Slight difference</ul>\n",
    "            <ul>Down: Pass play seems to happen in latter downs (1.92 vs 1.57)</ul>\n",
    "            <ul>ToGo: Pass play seems to have larger Yards-to-go for the 1st down</ul>\n",
    "            <ul>YardLine: Rush play has slightly closer distance towards the touchdown area</ul>\n",
    "            <ul>PointDiff: Offense teams with larger point differences behind tend to pass</ul>\n",
    "            <ul><b>Offense_team_pass_data</b>: It's very interesting to notice that pass play teams have lower mean (representing higher average ranking) in most pass-related team rankings, except for pass rankings like QBR ranking and yards per game ranking</ul>\n",
    "            <ul><b>Offense_team_rush_data</b>: Rush play teams have lower mean (higher average ranking) in all the rush-related team rankings, which makes sense</b></ul>\n",
    "            <ul><b>Defense_team_pass_data</b>: Pass play teams have generally larger opponent team's pass defense rankings, meaning that they are facing teams that are less good at defending pass, which makes sense</ul>\n",
    "            <ul><b>Defense_team_rush_data</b>: Rush play teams have larger opponent team's rush defense rankings in all related features, meaning that they are facing teams with poorer rush defense rankings, which also makes sense</b></ul>\n",
    "    <li>In general, teams choose to pass when facing poorer pass defenders and choose to rush when facing poorer rush defenders, which is consistent with our intuition.</li>\n",
    "    <li>After-play features (play results):</li>\n",
    "            <ul>Yards: Pass play have significantly larger yards. (7.4 vs 4.48)</ul>\n",
    "            <ul>Pass plays are more likely to be incomplete and arouse penalties</ul>\n",
    "    \n"
   ]
  },
  {
   "cell_type": "code",
   "execution_count": 7,
   "metadata": {},
   "outputs": [
    {
     "data": {
      "text/html": [
       "<div>\n",
       "<style scoped>\n",
       "    .dataframe tbody tr th:only-of-type {\n",
       "        vertical-align: middle;\n",
       "    }\n",
       "\n",
       "    .dataframe tbody tr th {\n",
       "        vertical-align: top;\n",
       "    }\n",
       "\n",
       "    .dataframe thead th {\n",
       "        text-align: right;\n",
       "    }\n",
       "</style>\n",
       "<table border=\"1\" class=\"dataframe\">\n",
       "  <thead>\n",
       "    <tr style=\"text-align: right;\">\n",
       "      <th></th>\n",
       "      <th>GameId</th>\n",
       "      <th>Quarter</th>\n",
       "      <th>Minute</th>\n",
       "      <th>Second</th>\n",
       "      <th>Remaining</th>\n",
       "      <th>Down</th>\n",
       "      <th>ToGo</th>\n",
       "      <th>YardLine</th>\n",
       "      <th>SeriesFirstDown</th>\n",
       "      <th>SeasonYear</th>\n",
       "      <th>Yards</th>\n",
       "      <th>IsRush</th>\n",
       "    </tr>\n",
       "    <tr>\n",
       "      <th>IsPass</th>\n",
       "      <th></th>\n",
       "      <th></th>\n",
       "      <th></th>\n",
       "      <th></th>\n",
       "      <th></th>\n",
       "      <th></th>\n",
       "      <th></th>\n",
       "      <th></th>\n",
       "      <th></th>\n",
       "      <th></th>\n",
       "      <th></th>\n",
       "      <th></th>\n",
       "    </tr>\n",
       "  </thead>\n",
       "  <tbody>\n",
       "    <tr>\n",
       "      <td>0</td>\n",
       "      <td>2.017489e+09</td>\n",
       "      <td>2.517860</td>\n",
       "      <td>7.202012</td>\n",
       "      <td>28.683266</td>\n",
       "      <td>1794.730218</td>\n",
       "      <td>1.573613</td>\n",
       "      <td>8.241482</td>\n",
       "      <td>48.804769</td>\n",
       "      <td>0.222932</td>\n",
       "      <td>2017.366861</td>\n",
       "      <td>4.484160</td>\n",
       "      <td>1.0</td>\n",
       "    </tr>\n",
       "    <tr>\n",
       "      <td>1</td>\n",
       "      <td>2.017484e+09</td>\n",
       "      <td>2.578452</td>\n",
       "      <td>6.447292</td>\n",
       "      <td>28.514136</td>\n",
       "      <td>1694.745193</td>\n",
       "      <td>1.926973</td>\n",
       "      <td>8.950579</td>\n",
       "      <td>47.851375</td>\n",
       "      <td>0.327516</td>\n",
       "      <td>2017.362578</td>\n",
       "      <td>7.406264</td>\n",
       "      <td>0.0</td>\n",
       "    </tr>\n",
       "  </tbody>\n",
       "</table>\n",
       "</div>"
      ],
      "text/plain": [
       "              GameId   Quarter    Minute     Second    Remaining      Down  \\\n",
       "IsPass                                                                       \n",
       "0       2.017489e+09  2.517860  7.202012  28.683266  1794.730218  1.573613   \n",
       "1       2.017484e+09  2.578452  6.447292  28.514136  1694.745193  1.926973   \n",
       "\n",
       "            ToGo   YardLine  SeriesFirstDown   SeasonYear     Yards  IsRush  \n",
       "IsPass                                                                       \n",
       "0       8.241482  48.804769         0.222932  2017.366861  4.484160     1.0  \n",
       "1       8.950579  47.851375         0.327516  2017.362578  7.406264     0.0  "
      ]
     },
     "execution_count": 7,
     "metadata": {},
     "output_type": "execute_result"
    }
   ],
   "source": [
    "df_logit.groupby('IsPass').mean().iloc[:,:12]"
   ]
  },
  {
   "cell_type": "code",
   "execution_count": 8,
   "metadata": {},
   "outputs": [
    {
     "data": {
      "text/html": [
       "<div>\n",
       "<style scoped>\n",
       "    .dataframe tbody tr th:only-of-type {\n",
       "        vertical-align: middle;\n",
       "    }\n",
       "\n",
       "    .dataframe tbody tr th {\n",
       "        vertical-align: top;\n",
       "    }\n",
       "\n",
       "    .dataframe thead th {\n",
       "        text-align: right;\n",
       "    }\n",
       "</style>\n",
       "<table border=\"1\" class=\"dataframe\">\n",
       "  <thead>\n",
       "    <tr style=\"text-align: right;\">\n",
       "      <th></th>\n",
       "      <th>IsRush</th>\n",
       "      <th>IsIncomplete</th>\n",
       "      <th>IsTouchdown</th>\n",
       "      <th>IsChallenge</th>\n",
       "      <th>IsChallengeReversed</th>\n",
       "      <th>IsInterception</th>\n",
       "      <th>IsFumble</th>\n",
       "      <th>IsPenalty</th>\n",
       "      <th>YardLineFixed</th>\n",
       "      <th>IsPenaltyAccepted</th>\n",
       "      <th>IsNoPlay</th>\n",
       "    </tr>\n",
       "    <tr>\n",
       "      <th>IsPass</th>\n",
       "      <th></th>\n",
       "      <th></th>\n",
       "      <th></th>\n",
       "      <th></th>\n",
       "      <th></th>\n",
       "      <th></th>\n",
       "      <th></th>\n",
       "      <th></th>\n",
       "      <th></th>\n",
       "      <th></th>\n",
       "      <th></th>\n",
       "    </tr>\n",
       "  </thead>\n",
       "  <tbody>\n",
       "    <tr>\n",
       "      <td>0</td>\n",
       "      <td>1.0</td>\n",
       "      <td>0.000000</td>\n",
       "      <td>0.034132</td>\n",
       "      <td>0.002267</td>\n",
       "      <td>0.000783</td>\n",
       "      <td>0.000000</td>\n",
       "      <td>0.009481</td>\n",
       "      <td>0.054682</td>\n",
       "      <td>28.323742</td>\n",
       "      <td>0.049220</td>\n",
       "      <td>0.031144</td>\n",
       "    </tr>\n",
       "    <tr>\n",
       "      <td>1</td>\n",
       "      <td>0.0</td>\n",
       "      <td>0.358258</td>\n",
       "      <td>0.047124</td>\n",
       "      <td>0.007108</td>\n",
       "      <td>0.003048</td>\n",
       "      <td>0.023851</td>\n",
       "      <td>0.008653</td>\n",
       "      <td>0.087719</td>\n",
       "      <td>29.674752</td>\n",
       "      <td>0.070701</td>\n",
       "      <td>0.057829</td>\n",
       "    </tr>\n",
       "  </tbody>\n",
       "</table>\n",
       "</div>"
      ],
      "text/plain": [
       "        IsRush  IsIncomplete  IsTouchdown  IsChallenge  IsChallengeReversed  \\\n",
       "IsPass                                                                        \n",
       "0          1.0      0.000000     0.034132     0.002267             0.000783   \n",
       "1          0.0      0.358258     0.047124     0.007108             0.003048   \n",
       "\n",
       "        IsInterception  IsFumble  IsPenalty  YardLineFixed  IsPenaltyAccepted  \\\n",
       "IsPass                                                                          \n",
       "0             0.000000  0.009481   0.054682      28.323742           0.049220   \n",
       "1             0.023851  0.008653   0.087719      29.674752           0.070701   \n",
       "\n",
       "        IsNoPlay  \n",
       "IsPass            \n",
       "0       0.031144  \n",
       "1       0.057829  "
      ]
     },
     "execution_count": 8,
     "metadata": {},
     "output_type": "execute_result"
    }
   ],
   "source": [
    "df_logit.groupby('IsPass').mean().iloc[:,11:22]"
   ]
  },
  {
   "cell_type": "code",
   "execution_count": 9,
   "metadata": {},
   "outputs": [
    {
     "data": {
      "text/html": [
       "<div>\n",
       "<style scoped>\n",
       "    .dataframe tbody tr th:only-of-type {\n",
       "        vertical-align: middle;\n",
       "    }\n",
       "\n",
       "    .dataframe tbody tr th {\n",
       "        vertical-align: top;\n",
       "    }\n",
       "\n",
       "    .dataframe thead th {\n",
       "        text-align: right;\n",
       "    }\n",
       "</style>\n",
       "<table border=\"1\" class=\"dataframe\">\n",
       "  <thead>\n",
       "    <tr style=\"text-align: right;\">\n",
       "      <th></th>\n",
       "      <th>IsNoPlay</th>\n",
       "      <th>PenaltyYards</th>\n",
       "      <th>PointDiff</th>\n",
       "      <th>Off_Pass_Cmp_rank</th>\n",
       "      <th>Off_Pass_Att_rank</th>\n",
       "      <th>Off_Pass_Cmp%_rank</th>\n",
       "      <th>Off_Pass_TD_rank</th>\n",
       "      <th>Off_Pass_Int%_rank</th>\n",
       "    </tr>\n",
       "    <tr>\n",
       "      <th>IsPass</th>\n",
       "      <th></th>\n",
       "      <th></th>\n",
       "      <th></th>\n",
       "      <th></th>\n",
       "      <th></th>\n",
       "      <th></th>\n",
       "      <th></th>\n",
       "      <th></th>\n",
       "    </tr>\n",
       "  </thead>\n",
       "  <tbody>\n",
       "    <tr>\n",
       "      <td>0</td>\n",
       "      <td>0.031144</td>\n",
       "      <td>0.441783</td>\n",
       "      <td>-0.302286</td>\n",
       "      <td>2.707608</td>\n",
       "      <td>2.570955</td>\n",
       "      <td>2.522683</td>\n",
       "      <td>2.811241</td>\n",
       "      <td>2.176515</td>\n",
       "    </tr>\n",
       "    <tr>\n",
       "      <td>1</td>\n",
       "      <td>0.057829</td>\n",
       "      <td>0.727366</td>\n",
       "      <td>-2.881163</td>\n",
       "      <td>2.598200</td>\n",
       "      <td>2.445067</td>\n",
       "      <td>2.526459</td>\n",
       "      <td>2.800378</td>\n",
       "      <td>2.189162</td>\n",
       "    </tr>\n",
       "  </tbody>\n",
       "</table>\n",
       "</div>"
      ],
      "text/plain": [
       "        IsNoPlay  PenaltyYards  PointDiff  Off_Pass_Cmp_rank  \\\n",
       "IsPass                                                         \n",
       "0       0.031144      0.441783  -0.302286           2.707608   \n",
       "1       0.057829      0.727366  -2.881163           2.598200   \n",
       "\n",
       "        Off_Pass_Att_rank  Off_Pass_Cmp%_rank  Off_Pass_TD_rank  \\\n",
       "IsPass                                                            \n",
       "0                2.570955            2.522683          2.811241   \n",
       "1                2.445067            2.526459          2.800378   \n",
       "\n",
       "        Off_Pass_Int%_rank  \n",
       "IsPass                      \n",
       "0                 2.176515  \n",
       "1                 2.189162  "
      ]
     },
     "execution_count": 9,
     "metadata": {},
     "output_type": "execute_result"
    }
   ],
   "source": [
    "df_logit.groupby('IsPass').mean().iloc[:,21:29]"
   ]
  },
  {
   "cell_type": "code",
   "execution_count": 10,
   "metadata": {},
   "outputs": [
    {
     "data": {
      "text/html": [
       "<div>\n",
       "<style scoped>\n",
       "    .dataframe tbody tr th:only-of-type {\n",
       "        vertical-align: middle;\n",
       "    }\n",
       "\n",
       "    .dataframe tbody tr th {\n",
       "        vertical-align: top;\n",
       "    }\n",
       "\n",
       "    .dataframe thead th {\n",
       "        text-align: right;\n",
       "    }\n",
       "</style>\n",
       "<table border=\"1\" class=\"dataframe\">\n",
       "  <thead>\n",
       "    <tr style=\"text-align: right;\">\n",
       "      <th></th>\n",
       "      <th>Off_Pass_Int%_rank</th>\n",
       "      <th>Off_Pass_Sk%_rank</th>\n",
       "      <th>Off_Pass_Yds_rank</th>\n",
       "      <th>Off_Pass_Y/G_rank</th>\n",
       "      <th>Off_Pass_Y/A_rank</th>\n",
       "      <th>Off_Pass_QBR_rank</th>\n",
       "      <th>Off_Rush_Att_rank</th>\n",
       "    </tr>\n",
       "    <tr>\n",
       "      <th>IsPass</th>\n",
       "      <th></th>\n",
       "      <th></th>\n",
       "      <th></th>\n",
       "      <th></th>\n",
       "      <th></th>\n",
       "      <th></th>\n",
       "      <th></th>\n",
       "    </tr>\n",
       "  </thead>\n",
       "  <tbody>\n",
       "    <tr>\n",
       "      <td>0</td>\n",
       "      <td>2.176515</td>\n",
       "      <td>2.275821</td>\n",
       "      <td>2.618319</td>\n",
       "      <td>2.618319</td>\n",
       "      <td>2.519694</td>\n",
       "      <td>2.381598</td>\n",
       "      <td>2.775275</td>\n",
       "    </tr>\n",
       "    <tr>\n",
       "      <td>1</td>\n",
       "      <td>2.189162</td>\n",
       "      <td>2.240129</td>\n",
       "      <td>2.542480</td>\n",
       "      <td>2.542480</td>\n",
       "      <td>2.557273</td>\n",
       "      <td>2.409471</td>\n",
       "      <td>2.911616</td>\n",
       "    </tr>\n",
       "  </tbody>\n",
       "</table>\n",
       "</div>"
      ],
      "text/plain": [
       "        Off_Pass_Int%_rank  Off_Pass_Sk%_rank  Off_Pass_Yds_rank  \\\n",
       "IsPass                                                             \n",
       "0                 2.176515           2.275821           2.618319   \n",
       "1                 2.189162           2.240129           2.542480   \n",
       "\n",
       "        Off_Pass_Y/G_rank  Off_Pass_Y/A_rank  Off_Pass_QBR_rank  \\\n",
       "IsPass                                                            \n",
       "0                2.618319           2.519694           2.381598   \n",
       "1                2.542480           2.557273           2.409471   \n",
       "\n",
       "        Off_Rush_Att_rank  \n",
       "IsPass                     \n",
       "0                2.775275  \n",
       "1                2.911616  "
      ]
     },
     "execution_count": 10,
     "metadata": {},
     "output_type": "execute_result"
    }
   ],
   "source": [
    "df_logit.groupby('IsPass').mean().iloc[:,28:35]"
   ]
  },
  {
   "cell_type": "code",
   "execution_count": 11,
   "metadata": {},
   "outputs": [
    {
     "data": {
      "text/html": [
       "<div>\n",
       "<style scoped>\n",
       "    .dataframe tbody tr th:only-of-type {\n",
       "        vertical-align: middle;\n",
       "    }\n",
       "\n",
       "    .dataframe tbody tr th {\n",
       "        vertical-align: top;\n",
       "    }\n",
       "\n",
       "    .dataframe thead th {\n",
       "        text-align: right;\n",
       "    }\n",
       "</style>\n",
       "<table border=\"1\" class=\"dataframe\">\n",
       "  <thead>\n",
       "    <tr style=\"text-align: right;\">\n",
       "      <th></th>\n",
       "      <th>Off_Rush_Att_rank</th>\n",
       "      <th>Off_Rush_Yds_rank</th>\n",
       "      <th>Off_Rush_Y/G_rank</th>\n",
       "      <th>Off_Rush_Y/A_rank</th>\n",
       "      <th>Off_Rush_TD_rank</th>\n",
       "      <th>Def_Pass_Cmp_rank</th>\n",
       "      <th>Def_Pass_Att_rank</th>\n",
       "    </tr>\n",
       "    <tr>\n",
       "      <th>IsPass</th>\n",
       "      <th></th>\n",
       "      <th></th>\n",
       "      <th></th>\n",
       "      <th></th>\n",
       "      <th></th>\n",
       "      <th></th>\n",
       "      <th></th>\n",
       "    </tr>\n",
       "  </thead>\n",
       "  <tbody>\n",
       "    <tr>\n",
       "      <td>0</td>\n",
       "      <td>2.775275</td>\n",
       "      <td>2.772451</td>\n",
       "      <td>2.772451</td>\n",
       "      <td>2.543541</td>\n",
       "      <td>2.906115</td>\n",
       "      <td>2.498403</td>\n",
       "      <td>2.312571</td>\n",
       "    </tr>\n",
       "    <tr>\n",
       "      <td>1</td>\n",
       "      <td>2.911616</td>\n",
       "      <td>2.896188</td>\n",
       "      <td>2.896188</td>\n",
       "      <td>2.585762</td>\n",
       "      <td>2.976828</td>\n",
       "      <td>2.569899</td>\n",
       "      <td>2.410468</td>\n",
       "    </tr>\n",
       "  </tbody>\n",
       "</table>\n",
       "</div>"
      ],
      "text/plain": [
       "        Off_Rush_Att_rank  Off_Rush_Yds_rank  Off_Rush_Y/G_rank  \\\n",
       "IsPass                                                            \n",
       "0                2.775275           2.772451           2.772451   \n",
       "1                2.911616           2.896188           2.896188   \n",
       "\n",
       "        Off_Rush_Y/A_rank  Off_Rush_TD_rank  Def_Pass_Cmp_rank  \\\n",
       "IsPass                                                           \n",
       "0                2.543541          2.906115           2.498403   \n",
       "1                2.585762          2.976828           2.569899   \n",
       "\n",
       "        Def_Pass_Att_rank  \n",
       "IsPass                     \n",
       "0                2.312571  \n",
       "1                2.410468  "
      ]
     },
     "execution_count": 11,
     "metadata": {},
     "output_type": "execute_result"
    }
   ],
   "source": [
    "df_logit.groupby('IsPass').mean().iloc[:,34:41]"
   ]
  },
  {
   "cell_type": "code",
   "execution_count": 12,
   "metadata": {},
   "outputs": [
    {
     "data": {
      "text/html": [
       "<div>\n",
       "<style scoped>\n",
       "    .dataframe tbody tr th:only-of-type {\n",
       "        vertical-align: middle;\n",
       "    }\n",
       "\n",
       "    .dataframe tbody tr th {\n",
       "        vertical-align: top;\n",
       "    }\n",
       "\n",
       "    .dataframe thead th {\n",
       "        text-align: right;\n",
       "    }\n",
       "</style>\n",
       "<table border=\"1\" class=\"dataframe\">\n",
       "  <thead>\n",
       "    <tr style=\"text-align: right;\">\n",
       "      <th></th>\n",
       "      <th>Def_Pass_Att_rank</th>\n",
       "      <th>Def_Pass_Cmp%_rank</th>\n",
       "      <th>Def_Pass_TD_rank</th>\n",
       "      <th>Def_Pass_Int%_rank</th>\n",
       "      <th>Def_Pass_Sk%_rank</th>\n",
       "      <th>Def_Pass_Yds_rank</th>\n",
       "      <th>Def_Pass_Y/G_rank</th>\n",
       "    </tr>\n",
       "    <tr>\n",
       "      <th>IsPass</th>\n",
       "      <th></th>\n",
       "      <th></th>\n",
       "      <th></th>\n",
       "      <th></th>\n",
       "      <th></th>\n",
       "      <th></th>\n",
       "      <th></th>\n",
       "    </tr>\n",
       "  </thead>\n",
       "  <tbody>\n",
       "    <tr>\n",
       "      <td>0</td>\n",
       "      <td>2.312571</td>\n",
       "      <td>2.393244</td>\n",
       "      <td>2.661521</td>\n",
       "      <td>2.597935</td>\n",
       "      <td>2.701672</td>\n",
       "      <td>2.910588</td>\n",
       "      <td>2.910588</td>\n",
       "    </tr>\n",
       "    <tr>\n",
       "      <td>1</td>\n",
       "      <td>2.410468</td>\n",
       "      <td>2.384060</td>\n",
       "      <td>2.658413</td>\n",
       "      <td>2.586412</td>\n",
       "      <td>2.705884</td>\n",
       "      <td>2.950579</td>\n",
       "      <td>2.950579</td>\n",
       "    </tr>\n",
       "  </tbody>\n",
       "</table>\n",
       "</div>"
      ],
      "text/plain": [
       "        Def_Pass_Att_rank  Def_Pass_Cmp%_rank  Def_Pass_TD_rank  \\\n",
       "IsPass                                                            \n",
       "0                2.312571            2.393244          2.661521   \n",
       "1                2.410468            2.384060          2.658413   \n",
       "\n",
       "        Def_Pass_Int%_rank  Def_Pass_Sk%_rank  Def_Pass_Yds_rank  \\\n",
       "IsPass                                                             \n",
       "0                 2.597935           2.701672           2.910588   \n",
       "1                 2.586412           2.705884           2.950579   \n",
       "\n",
       "        Def_Pass_Y/G_rank  \n",
       "IsPass                     \n",
       "0                2.910588  \n",
       "1                2.950579  "
      ]
     },
     "execution_count": 12,
     "metadata": {},
     "output_type": "execute_result"
    }
   ],
   "source": [
    "df_logit.groupby('IsPass').mean().iloc[:,40:47]"
   ]
  },
  {
   "cell_type": "code",
   "execution_count": 13,
   "metadata": {},
   "outputs": [
    {
     "data": {
      "text/html": [
       "<div>\n",
       "<style scoped>\n",
       "    .dataframe tbody tr th:only-of-type {\n",
       "        vertical-align: middle;\n",
       "    }\n",
       "\n",
       "    .dataframe tbody tr th {\n",
       "        vertical-align: top;\n",
       "    }\n",
       "\n",
       "    .dataframe thead th {\n",
       "        text-align: right;\n",
       "    }\n",
       "</style>\n",
       "<table border=\"1\" class=\"dataframe\">\n",
       "  <thead>\n",
       "    <tr style=\"text-align: right;\">\n",
       "      <th></th>\n",
       "      <th>Def_Pass_Y/G_rank</th>\n",
       "      <th>Def_Pass_Y/A_rank</th>\n",
       "      <th>Def_Rush_Att_rank</th>\n",
       "      <th>Def_Rush_Yds_rank</th>\n",
       "      <th>Def_Rush_Y/G_rank</th>\n",
       "      <th>Def_Rush_Y/A_rank</th>\n",
       "      <th>Def_Rush_TD_rank</th>\n",
       "    </tr>\n",
       "    <tr>\n",
       "      <th>IsPass</th>\n",
       "      <th></th>\n",
       "      <th></th>\n",
       "      <th></th>\n",
       "      <th></th>\n",
       "      <th></th>\n",
       "      <th></th>\n",
       "      <th></th>\n",
       "    </tr>\n",
       "  </thead>\n",
       "  <tbody>\n",
       "    <tr>\n",
       "      <td>0</td>\n",
       "      <td>2.910588</td>\n",
       "      <td>2.717192</td>\n",
       "      <td>2.454253</td>\n",
       "      <td>2.270503</td>\n",
       "      <td>2.270503</td>\n",
       "      <td>2.676464</td>\n",
       "      <td>2.227755</td>\n",
       "    </tr>\n",
       "    <tr>\n",
       "      <td>1</td>\n",
       "      <td>2.950579</td>\n",
       "      <td>2.683608</td>\n",
       "      <td>2.337008</td>\n",
       "      <td>2.178038</td>\n",
       "      <td>2.178038</td>\n",
       "      <td>2.649239</td>\n",
       "      <td>2.170859</td>\n",
       "    </tr>\n",
       "  </tbody>\n",
       "</table>\n",
       "</div>"
      ],
      "text/plain": [
       "        Def_Pass_Y/G_rank  Def_Pass_Y/A_rank  Def_Rush_Att_rank  \\\n",
       "IsPass                                                            \n",
       "0                2.910588           2.717192           2.454253   \n",
       "1                2.950579           2.683608           2.337008   \n",
       "\n",
       "        Def_Rush_Yds_rank  Def_Rush_Y/G_rank  Def_Rush_Y/A_rank  \\\n",
       "IsPass                                                            \n",
       "0                2.270503           2.270503           2.676464   \n",
       "1                2.178038           2.178038           2.649239   \n",
       "\n",
       "        Def_Rush_TD_rank  \n",
       "IsPass                    \n",
       "0               2.227755  \n",
       "1               2.170859  "
      ]
     },
     "execution_count": 13,
     "metadata": {},
     "output_type": "execute_result"
    }
   ],
   "source": [
    "df_logit.groupby('IsPass').mean().iloc[:,46:53]"
   ]
  },
  {
   "cell_type": "code",
   "execution_count": 14,
   "metadata": {},
   "outputs": [
    {
     "data": {
      "text/html": [
       "<div>\n",
       "<style scoped>\n",
       "    .dataframe tbody tr th:only-of-type {\n",
       "        vertical-align: middle;\n",
       "    }\n",
       "\n",
       "    .dataframe tbody tr th {\n",
       "        vertical-align: top;\n",
       "    }\n",
       "\n",
       "    .dataframe thead th {\n",
       "        text-align: right;\n",
       "    }\n",
       "</style>\n",
       "<table border=\"1\" class=\"dataframe\">\n",
       "  <thead>\n",
       "    <tr style=\"text-align: right;\">\n",
       "      <th></th>\n",
       "      <th>Def_Rush_TD_rank</th>\n",
       "      <th>Off_Pass_Overall_rank</th>\n",
       "      <th>Off_Rush_Overall_rank</th>\n",
       "      <th>Def_Pass_Overall_rank</th>\n",
       "      <th>Def_Rush_Overall_rank</th>\n",
       "    </tr>\n",
       "    <tr>\n",
       "      <th>IsPass</th>\n",
       "      <th></th>\n",
       "      <th></th>\n",
       "      <th></th>\n",
       "      <th></th>\n",
       "      <th></th>\n",
       "    </tr>\n",
       "  </thead>\n",
       "  <tbody>\n",
       "    <tr>\n",
       "      <td>0</td>\n",
       "      <td>2.227755</td>\n",
       "      <td>2.466455</td>\n",
       "      <td>2.917246</td>\n",
       "      <td>2.592906</td>\n",
       "      <td>2.271328</td>\n",
       "    </tr>\n",
       "    <tr>\n",
       "      <td>1</td>\n",
       "      <td>2.170859</td>\n",
       "      <td>2.416377</td>\n",
       "      <td>3.059389</td>\n",
       "      <td>2.621184</td>\n",
       "      <td>2.163375</td>\n",
       "    </tr>\n",
       "  </tbody>\n",
       "</table>\n",
       "</div>"
      ],
      "text/plain": [
       "        Def_Rush_TD_rank  Off_Pass_Overall_rank  Off_Rush_Overall_rank  \\\n",
       "IsPass                                                                   \n",
       "0               2.227755               2.466455               2.917246   \n",
       "1               2.170859               2.416377               3.059389   \n",
       "\n",
       "        Def_Pass_Overall_rank  Def_Rush_Overall_rank  \n",
       "IsPass                                                \n",
       "0                    2.592906               2.271328  \n",
       "1                    2.621184               2.163375  "
      ]
     },
     "execution_count": 14,
     "metadata": {},
     "output_type": "execute_result"
    }
   ],
   "source": [
    "df_logit.groupby('IsPass').mean().iloc[:,52:]"
   ]
  },
  {
   "cell_type": "markdown",
   "metadata": {},
   "source": [
    "<b>Categorical means</b>\n",
    "<li>Shotgun (also no huddle shotgun) tends to be used for pass play, under center (also no huddle) tends to be used for rush play</li>\n",
    "<li>The data points of field goal, punt and wildcat are so few. So we decide to <b>drop these three types of play</b> and only consider the other four main formations</li>"
   ]
  },
  {
   "cell_type": "code",
   "execution_count": 15,
   "metadata": {},
   "outputs": [
    {
     "data": {
      "text/plain": [
       "Formation\n",
       "FIELD GOAL           1.000000\n",
       "NO HUDDLE            0.401932\n",
       "NO HUDDLE SHOTGUN    0.777791\n",
       "PUNT                 1.000000\n",
       "SHOTGUN              0.743874\n",
       "UNDER CENTER         0.318748\n",
       "WILDCAT              0.000000\n",
       "Name: IsPass, dtype: float64"
      ]
     },
     "execution_count": 15,
     "metadata": {},
     "output_type": "execute_result"
    }
   ],
   "source": [
    "df_logit.groupby('Formation').mean()['IsPass']"
   ]
  },
  {
   "cell_type": "code",
   "execution_count": 16,
   "metadata": {},
   "outputs": [
    {
     "data": {
      "text/plain": [
       "SHOTGUN              64765\n",
       "UNDER CENTER         42212\n",
       "NO HUDDLE SHOTGUN     8681\n",
       "NO HUDDLE             2070\n",
       "WILDCAT                  5\n",
       "PUNT                     3\n",
       "FIELD GOAL               2\n",
       "Name: Formation, dtype: int64"
      ]
     },
     "execution_count": 16,
     "metadata": {},
     "output_type": "execute_result"
    }
   ],
   "source": [
    "df_logit['Formation'].value_counts()"
   ]
  },
  {
   "cell_type": "code",
   "execution_count": 17,
   "metadata": {},
   "outputs": [],
   "source": [
    "# df[(df['Formation']=='FIELD GOAL') | (df['Formation']=='PUNT') | (df['Formation']=='WILDCAT')]['Formation']\n",
    "# df[(df['Formation']=='FIELD GOAL') | (df['Formation']=='PUNT') | (df['Formation']=='WILDCAT')].index"
   ]
  },
  {
   "cell_type": "code",
   "execution_count": 18,
   "metadata": {},
   "outputs": [],
   "source": [
    "# df_logit['IsShotgun'] = np.where((df_logit['Formation']=='SHOTGUN') | (df_logit['Formation']=='NO HUDDLE SHOTGUN'), 1, 0)\n",
    "# df_logit['IsUndercenter'] = np.where((df_logit['Formation']=='UNDER CENTER') | (df_logit['Formation']=='NO HUDDLE'), 1, 0)\n",
    "# df_logit[['Formation','IsShotgun','IsUndercenter']]\n",
    "# (df_logit['IsShotgun']+df_logit['IsUndercenter']).unique()"
   ]
  },
  {
   "cell_type": "markdown",
   "metadata": {},
   "source": [
    "<b>Generate 4 binary variables of the four formations</b>"
   ]
  },
  {
   "cell_type": "code",
   "execution_count": 19,
   "metadata": {},
   "outputs": [
    {
     "data": {
      "text/html": [
       "<div>\n",
       "<style scoped>\n",
       "    .dataframe tbody tr th:only-of-type {\n",
       "        vertical-align: middle;\n",
       "    }\n",
       "\n",
       "    .dataframe tbody tr th {\n",
       "        vertical-align: top;\n",
       "    }\n",
       "\n",
       "    .dataframe thead th {\n",
       "        text-align: right;\n",
       "    }\n",
       "</style>\n",
       "<table border=\"1\" class=\"dataframe\">\n",
       "  <thead>\n",
       "    <tr style=\"text-align: right;\">\n",
       "      <th></th>\n",
       "      <th>Formation</th>\n",
       "      <th>IsHuddleShotgun</th>\n",
       "      <th>IsHuddleUndercenter</th>\n",
       "      <th>IsNohuddleShotgun</th>\n",
       "      <th>IsNohuddleUndercenter</th>\n",
       "    </tr>\n",
       "  </thead>\n",
       "  <tbody>\n",
       "    <tr>\n",
       "      <td>0</td>\n",
       "      <td>SHOTGUN</td>\n",
       "      <td>1</td>\n",
       "      <td>0</td>\n",
       "      <td>0</td>\n",
       "      <td>0</td>\n",
       "    </tr>\n",
       "    <tr>\n",
       "      <td>1</td>\n",
       "      <td>SHOTGUN</td>\n",
       "      <td>1</td>\n",
       "      <td>0</td>\n",
       "      <td>0</td>\n",
       "      <td>0</td>\n",
       "    </tr>\n",
       "    <tr>\n",
       "      <td>2</td>\n",
       "      <td>SHOTGUN</td>\n",
       "      <td>1</td>\n",
       "      <td>0</td>\n",
       "      <td>0</td>\n",
       "      <td>0</td>\n",
       "    </tr>\n",
       "    <tr>\n",
       "      <td>3</td>\n",
       "      <td>SHOTGUN</td>\n",
       "      <td>1</td>\n",
       "      <td>0</td>\n",
       "      <td>0</td>\n",
       "      <td>0</td>\n",
       "    </tr>\n",
       "    <tr>\n",
       "      <td>4</td>\n",
       "      <td>SHOTGUN</td>\n",
       "      <td>1</td>\n",
       "      <td>0</td>\n",
       "      <td>0</td>\n",
       "      <td>0</td>\n",
       "    </tr>\n",
       "    <tr>\n",
       "      <td>...</td>\n",
       "      <td>...</td>\n",
       "      <td>...</td>\n",
       "      <td>...</td>\n",
       "      <td>...</td>\n",
       "      <td>...</td>\n",
       "    </tr>\n",
       "    <tr>\n",
       "      <td>117733</td>\n",
       "      <td>UNDER CENTER</td>\n",
       "      <td>0</td>\n",
       "      <td>1</td>\n",
       "      <td>0</td>\n",
       "      <td>0</td>\n",
       "    </tr>\n",
       "    <tr>\n",
       "      <td>117734</td>\n",
       "      <td>SHOTGUN</td>\n",
       "      <td>1</td>\n",
       "      <td>0</td>\n",
       "      <td>0</td>\n",
       "      <td>0</td>\n",
       "    </tr>\n",
       "    <tr>\n",
       "      <td>117735</td>\n",
       "      <td>UNDER CENTER</td>\n",
       "      <td>0</td>\n",
       "      <td>1</td>\n",
       "      <td>0</td>\n",
       "      <td>0</td>\n",
       "    </tr>\n",
       "    <tr>\n",
       "      <td>117736</td>\n",
       "      <td>UNDER CENTER</td>\n",
       "      <td>0</td>\n",
       "      <td>1</td>\n",
       "      <td>0</td>\n",
       "      <td>0</td>\n",
       "    </tr>\n",
       "    <tr>\n",
       "      <td>117737</td>\n",
       "      <td>SHOTGUN</td>\n",
       "      <td>1</td>\n",
       "      <td>0</td>\n",
       "      <td>0</td>\n",
       "      <td>0</td>\n",
       "    </tr>\n",
       "  </tbody>\n",
       "</table>\n",
       "<p>117728 rows × 5 columns</p>\n",
       "</div>"
      ],
      "text/plain": [
       "           Formation  IsHuddleShotgun  IsHuddleUndercenter  IsNohuddleShotgun  \\\n",
       "0            SHOTGUN                1                    0                  0   \n",
       "1            SHOTGUN                1                    0                  0   \n",
       "2            SHOTGUN                1                    0                  0   \n",
       "3            SHOTGUN                1                    0                  0   \n",
       "4            SHOTGUN                1                    0                  0   \n",
       "...              ...              ...                  ...                ...   \n",
       "117733  UNDER CENTER                0                    1                  0   \n",
       "117734       SHOTGUN                1                    0                  0   \n",
       "117735  UNDER CENTER                0                    1                  0   \n",
       "117736  UNDER CENTER                0                    1                  0   \n",
       "117737       SHOTGUN                1                    0                  0   \n",
       "\n",
       "        IsNohuddleUndercenter  \n",
       "0                           0  \n",
       "1                           0  \n",
       "2                           0  \n",
       "3                           0  \n",
       "4                           0  \n",
       "...                       ...  \n",
       "117733                      0  \n",
       "117734                      0  \n",
       "117735                      0  \n",
       "117736                      0  \n",
       "117737                      0  \n",
       "\n",
       "[117728 rows x 5 columns]"
      ]
     },
     "execution_count": 19,
     "metadata": {},
     "output_type": "execute_result"
    }
   ],
   "source": [
    "df_logit.drop(index = df[(df['Formation']=='FIELD GOAL') | (df['Formation']=='PUNT') | (df['Formation']=='WILDCAT')].index, inplace=True)\n",
    "df_logit['IsHuddleShotgun'] = np.where(df_logit['Formation']=='SHOTGUN', 1, 0)\n",
    "df_logit['IsHuddleUndercenter'] = np.where(df_logit['Formation']=='UNDER CENTER', 1, 0)\n",
    "df_logit['IsNohuddleShotgun'] = np.where((df_logit['Formation']=='NO HUDDLE SHOTGUN'), 1, 0)\n",
    "df_logit['IsNohuddleUndercenter'] = np.where((df_logit['Formation']=='NO HUDDLE'), 1, 0)\n",
    "df_logit[['Formation','IsHuddleShotgun','IsHuddleUndercenter','IsNohuddleShotgun','IsNohuddleUndercenter']]\n",
    "# (df_logit['IsHuddleShotgun']+df_logit['IsHuddleUndercenter']+df_logit['IsNohuddleShotgun']+df_logit['IsNohuddleUndercenter']).unique()"
   ]
  },
  {
   "cell_type": "code",
   "execution_count": 20,
   "metadata": {},
   "outputs": [
    {
     "data": {
      "text/plain": [
       "array(['SHORT LEFT', 'SHORT RIGHT', 'SHORT MIDDLE', 'DEEP LEFT', nan,\n",
       "       'DEEP RIGHT', 'DEEP MIDDLE'], dtype=object)"
      ]
     },
     "execution_count": 20,
     "metadata": {},
     "output_type": "execute_result"
    }
   ],
   "source": [
    "df_logit['PassType'].unique()"
   ]
  },
  {
   "cell_type": "code",
   "execution_count": 21,
   "metadata": {},
   "outputs": [
    {
     "name": "stdout",
     "output_type": "stream",
     "text": [
      "24798\n",
      "0\n",
      "44418\n",
      "48512\n"
     ]
    }
   ],
   "source": [
    "# df_logit[['IsIncomplete','IsPass']]\n",
    "print(len(df_logit[(df_logit['IsIncomplete']==1) & (df_logit['IsPass']==1)]['IsIncomplete']))\n",
    "print(len(df_logit[(df_logit['IsIncomplete']==1) & (df_logit['IsPass']==0)]['IsIncomplete']))\n",
    "print(len(df_logit[(df_logit['IsIncomplete']==0) & (df_logit['IsPass']==1)]['IsIncomplete']))\n",
    "print(len(df_logit[(df_logit['IsIncomplete']==0) & (df_logit['IsPass']==0)]['IsIncomplete']))"
   ]
  },
  {
   "cell_type": "markdown",
   "metadata": {},
   "source": [
    "<b>Generate 3 cumulative variables and 1 distance_to_touchdown variable</b>\n",
    "<li>cum_intcps_in_game: Cumulated interception times in the game\n",
    "<li>cum_fumbles_in_game: Cumulated fumble times in the game\n",
    "<li>cum_passincplts_in_game: Cumulated pass incompletes in the game\n",
    "<li>distance_to_TD: Offense Team's distance from current yard line to the TouchDown area, = 100 - YardLine"
   ]
  },
  {
   "cell_type": "code",
   "execution_count": 22,
   "metadata": {},
   "outputs": [
    {
     "data": {
      "text/html": [
       "<div>\n",
       "<style scoped>\n",
       "    .dataframe tbody tr th:only-of-type {\n",
       "        vertical-align: middle;\n",
       "    }\n",
       "\n",
       "    .dataframe tbody tr th {\n",
       "        vertical-align: top;\n",
       "    }\n",
       "\n",
       "    .dataframe thead th {\n",
       "        text-align: right;\n",
       "    }\n",
       "</style>\n",
       "<table border=\"1\" class=\"dataframe\">\n",
       "  <thead>\n",
       "    <tr style=\"text-align: right;\">\n",
       "      <th></th>\n",
       "      <th>GameId</th>\n",
       "      <th>GameDate</th>\n",
       "      <th>Quarter</th>\n",
       "      <th>Minute</th>\n",
       "      <th>Second</th>\n",
       "      <th>Remaining</th>\n",
       "      <th>OffenseTeam</th>\n",
       "      <th>DefenseTeam</th>\n",
       "      <th>Down</th>\n",
       "      <th>ToGo</th>\n",
       "      <th>...</th>\n",
       "      <th>Def_Rush_Y/A_rank</th>\n",
       "      <th>Def_Rush_TD_rank</th>\n",
       "      <th>Off_Pass_Overall_rank</th>\n",
       "      <th>Off_Rush_Overall_rank</th>\n",
       "      <th>Def_Pass_Overall_rank</th>\n",
       "      <th>Def_Rush_Overall_rank</th>\n",
       "      <th>IsHuddleShotgun</th>\n",
       "      <th>IsHuddleUndercenter</th>\n",
       "      <th>IsNohuddleShotgun</th>\n",
       "      <th>IsNohuddleUndercenter</th>\n",
       "    </tr>\n",
       "  </thead>\n",
       "  <tbody>\n",
       "    <tr>\n",
       "      <td>117555</td>\n",
       "      <td>2019112411</td>\n",
       "      <td>2019/11/24</td>\n",
       "      <td>1</td>\n",
       "      <td>14</td>\n",
       "      <td>53</td>\n",
       "      <td>3593</td>\n",
       "      <td>PHI</td>\n",
       "      <td>SEA</td>\n",
       "      <td>1</td>\n",
       "      <td>10</td>\n",
       "      <td>...</td>\n",
       "      <td>3</td>\n",
       "      <td>3</td>\n",
       "      <td>2</td>\n",
       "      <td>3</td>\n",
       "      <td>4</td>\n",
       "      <td>2</td>\n",
       "      <td>0</td>\n",
       "      <td>1</td>\n",
       "      <td>0</td>\n",
       "      <td>0</td>\n",
       "    </tr>\n",
       "    <tr>\n",
       "      <td>117556</td>\n",
       "      <td>2019112411</td>\n",
       "      <td>2019/11/24</td>\n",
       "      <td>1</td>\n",
       "      <td>14</td>\n",
       "      <td>18</td>\n",
       "      <td>3558</td>\n",
       "      <td>PHI</td>\n",
       "      <td>SEA</td>\n",
       "      <td>2</td>\n",
       "      <td>8</td>\n",
       "      <td>...</td>\n",
       "      <td>3</td>\n",
       "      <td>3</td>\n",
       "      <td>2</td>\n",
       "      <td>3</td>\n",
       "      <td>4</td>\n",
       "      <td>2</td>\n",
       "      <td>0</td>\n",
       "      <td>1</td>\n",
       "      <td>0</td>\n",
       "      <td>0</td>\n",
       "    </tr>\n",
       "    <tr>\n",
       "      <td>117557</td>\n",
       "      <td>2019112411</td>\n",
       "      <td>2019/11/24</td>\n",
       "      <td>1</td>\n",
       "      <td>13</td>\n",
       "      <td>39</td>\n",
       "      <td>3519</td>\n",
       "      <td>PHI</td>\n",
       "      <td>SEA</td>\n",
       "      <td>3</td>\n",
       "      <td>7</td>\n",
       "      <td>...</td>\n",
       "      <td>3</td>\n",
       "      <td>3</td>\n",
       "      <td>2</td>\n",
       "      <td>3</td>\n",
       "      <td>4</td>\n",
       "      <td>2</td>\n",
       "      <td>0</td>\n",
       "      <td>0</td>\n",
       "      <td>1</td>\n",
       "      <td>0</td>\n",
       "    </tr>\n",
       "    <tr>\n",
       "      <td>117558</td>\n",
       "      <td>2019112411</td>\n",
       "      <td>2019/11/24</td>\n",
       "      <td>1</td>\n",
       "      <td>13</td>\n",
       "      <td>23</td>\n",
       "      <td>3503</td>\n",
       "      <td>SEA</td>\n",
       "      <td>PHI</td>\n",
       "      <td>1</td>\n",
       "      <td>10</td>\n",
       "      <td>...</td>\n",
       "      <td>2</td>\n",
       "      <td>2</td>\n",
       "      <td>2</td>\n",
       "      <td>2</td>\n",
       "      <td>3</td>\n",
       "      <td>1</td>\n",
       "      <td>0</td>\n",
       "      <td>1</td>\n",
       "      <td>0</td>\n",
       "      <td>0</td>\n",
       "    </tr>\n",
       "    <tr>\n",
       "      <td>117559</td>\n",
       "      <td>2019112411</td>\n",
       "      <td>2019/11/24</td>\n",
       "      <td>1</td>\n",
       "      <td>12</td>\n",
       "      <td>45</td>\n",
       "      <td>3465</td>\n",
       "      <td>SEA</td>\n",
       "      <td>PHI</td>\n",
       "      <td>2</td>\n",
       "      <td>8</td>\n",
       "      <td>...</td>\n",
       "      <td>2</td>\n",
       "      <td>2</td>\n",
       "      <td>2</td>\n",
       "      <td>2</td>\n",
       "      <td>3</td>\n",
       "      <td>1</td>\n",
       "      <td>1</td>\n",
       "      <td>0</td>\n",
       "      <td>0</td>\n",
       "      <td>0</td>\n",
       "    </tr>\n",
       "    <tr>\n",
       "      <td>...</td>\n",
       "      <td>...</td>\n",
       "      <td>...</td>\n",
       "      <td>...</td>\n",
       "      <td>...</td>\n",
       "      <td>...</td>\n",
       "      <td>...</td>\n",
       "      <td>...</td>\n",
       "      <td>...</td>\n",
       "      <td>...</td>\n",
       "      <td>...</td>\n",
       "      <td>...</td>\n",
       "      <td>...</td>\n",
       "      <td>...</td>\n",
       "      <td>...</td>\n",
       "      <td>...</td>\n",
       "      <td>...</td>\n",
       "      <td>...</td>\n",
       "      <td>...</td>\n",
       "      <td>...</td>\n",
       "      <td>...</td>\n",
       "      <td>...</td>\n",
       "    </tr>\n",
       "    <tr>\n",
       "      <td>6168</td>\n",
       "      <td>2016090800</td>\n",
       "      <td>2016/09/08</td>\n",
       "      <td>4</td>\n",
       "      <td>0</td>\n",
       "      <td>51</td>\n",
       "      <td>51</td>\n",
       "      <td>CAR</td>\n",
       "      <td>DEN</td>\n",
       "      <td>1</td>\n",
       "      <td>10</td>\n",
       "      <td>...</td>\n",
       "      <td>3</td>\n",
       "      <td>2</td>\n",
       "      <td>3</td>\n",
       "      <td>3</td>\n",
       "      <td>1</td>\n",
       "      <td>3</td>\n",
       "      <td>1</td>\n",
       "      <td>0</td>\n",
       "      <td>0</td>\n",
       "      <td>0</td>\n",
       "    </tr>\n",
       "    <tr>\n",
       "      <td>6169</td>\n",
       "      <td>2016090800</td>\n",
       "      <td>2016/09/08</td>\n",
       "      <td>4</td>\n",
       "      <td>0</td>\n",
       "      <td>42</td>\n",
       "      <td>42</td>\n",
       "      <td>CAR</td>\n",
       "      <td>DEN</td>\n",
       "      <td>2</td>\n",
       "      <td>10</td>\n",
       "      <td>...</td>\n",
       "      <td>3</td>\n",
       "      <td>2</td>\n",
       "      <td>3</td>\n",
       "      <td>3</td>\n",
       "      <td>1</td>\n",
       "      <td>3</td>\n",
       "      <td>1</td>\n",
       "      <td>0</td>\n",
       "      <td>0</td>\n",
       "      <td>0</td>\n",
       "    </tr>\n",
       "    <tr>\n",
       "      <td>6170</td>\n",
       "      <td>2016090800</td>\n",
       "      <td>2016/09/08</td>\n",
       "      <td>4</td>\n",
       "      <td>0</td>\n",
       "      <td>36</td>\n",
       "      <td>36</td>\n",
       "      <td>CAR</td>\n",
       "      <td>DEN</td>\n",
       "      <td>2</td>\n",
       "      <td>10</td>\n",
       "      <td>...</td>\n",
       "      <td>3</td>\n",
       "      <td>2</td>\n",
       "      <td>3</td>\n",
       "      <td>3</td>\n",
       "      <td>1</td>\n",
       "      <td>3</td>\n",
       "      <td>1</td>\n",
       "      <td>0</td>\n",
       "      <td>0</td>\n",
       "      <td>0</td>\n",
       "    </tr>\n",
       "    <tr>\n",
       "      <td>6171</td>\n",
       "      <td>2016090800</td>\n",
       "      <td>2016/09/08</td>\n",
       "      <td>4</td>\n",
       "      <td>0</td>\n",
       "      <td>29</td>\n",
       "      <td>29</td>\n",
       "      <td>CAR</td>\n",
       "      <td>DEN</td>\n",
       "      <td>3</td>\n",
       "      <td>10</td>\n",
       "      <td>...</td>\n",
       "      <td>3</td>\n",
       "      <td>2</td>\n",
       "      <td>3</td>\n",
       "      <td>3</td>\n",
       "      <td>1</td>\n",
       "      <td>3</td>\n",
       "      <td>0</td>\n",
       "      <td>0</td>\n",
       "      <td>1</td>\n",
       "      <td>0</td>\n",
       "    </tr>\n",
       "    <tr>\n",
       "      <td>6172</td>\n",
       "      <td>2016090800</td>\n",
       "      <td>2016/09/08</td>\n",
       "      <td>4</td>\n",
       "      <td>0</td>\n",
       "      <td>14</td>\n",
       "      <td>14</td>\n",
       "      <td>CAR</td>\n",
       "      <td>DEN</td>\n",
       "      <td>2</td>\n",
       "      <td>10</td>\n",
       "      <td>...</td>\n",
       "      <td>3</td>\n",
       "      <td>2</td>\n",
       "      <td>3</td>\n",
       "      <td>3</td>\n",
       "      <td>1</td>\n",
       "      <td>3</td>\n",
       "      <td>0</td>\n",
       "      <td>1</td>\n",
       "      <td>0</td>\n",
       "      <td>0</td>\n",
       "    </tr>\n",
       "  </tbody>\n",
       "</table>\n",
       "<p>117728 rows × 106 columns</p>\n",
       "</div>"
      ],
      "text/plain": [
       "            GameId    GameDate  Quarter  Minute  Second  Remaining  \\\n",
       "117555  2019112411  2019/11/24        1      14      53       3593   \n",
       "117556  2019112411  2019/11/24        1      14      18       3558   \n",
       "117557  2019112411  2019/11/24        1      13      39       3519   \n",
       "117558  2019112411  2019/11/24        1      13      23       3503   \n",
       "117559  2019112411  2019/11/24        1      12      45       3465   \n",
       "...            ...         ...      ...     ...     ...        ...   \n",
       "6168    2016090800  2016/09/08        4       0      51         51   \n",
       "6169    2016090800  2016/09/08        4       0      42         42   \n",
       "6170    2016090800  2016/09/08        4       0      36         36   \n",
       "6171    2016090800  2016/09/08        4       0      29         29   \n",
       "6172    2016090800  2016/09/08        4       0      14         14   \n",
       "\n",
       "       OffenseTeam DefenseTeam  Down  ToGo  ...  Def_Rush_Y/A_rank  \\\n",
       "117555         PHI         SEA     1    10  ...                  3   \n",
       "117556         PHI         SEA     2     8  ...                  3   \n",
       "117557         PHI         SEA     3     7  ...                  3   \n",
       "117558         SEA         PHI     1    10  ...                  2   \n",
       "117559         SEA         PHI     2     8  ...                  2   \n",
       "...            ...         ...   ...   ...  ...                ...   \n",
       "6168           CAR         DEN     1    10  ...                  3   \n",
       "6169           CAR         DEN     2    10  ...                  3   \n",
       "6170           CAR         DEN     2    10  ...                  3   \n",
       "6171           CAR         DEN     3    10  ...                  3   \n",
       "6172           CAR         DEN     2    10  ...                  3   \n",
       "\n",
       "        Def_Rush_TD_rank Off_Pass_Overall_rank  Off_Rush_Overall_rank  \\\n",
       "117555                 3                     2                      3   \n",
       "117556                 3                     2                      3   \n",
       "117557                 3                     2                      3   \n",
       "117558                 2                     2                      2   \n",
       "117559                 2                     2                      2   \n",
       "...                  ...                   ...                    ...   \n",
       "6168                   2                     3                      3   \n",
       "6169                   2                     3                      3   \n",
       "6170                   2                     3                      3   \n",
       "6171                   2                     3                      3   \n",
       "6172                   2                     3                      3   \n",
       "\n",
       "        Def_Pass_Overall_rank Def_Rush_Overall_rank IsHuddleShotgun  \\\n",
       "117555                      4                     2               0   \n",
       "117556                      4                     2               0   \n",
       "117557                      4                     2               0   \n",
       "117558                      3                     1               0   \n",
       "117559                      3                     1               1   \n",
       "...                       ...                   ...             ...   \n",
       "6168                        1                     3               1   \n",
       "6169                        1                     3               1   \n",
       "6170                        1                     3               1   \n",
       "6171                        1                     3               0   \n",
       "6172                        1                     3               0   \n",
       "\n",
       "        IsHuddleUndercenter  IsNohuddleShotgun  IsNohuddleUndercenter  \n",
       "117555                    1                  0                      0  \n",
       "117556                    1                  0                      0  \n",
       "117557                    0                  1                      0  \n",
       "117558                    1                  0                      0  \n",
       "117559                    0                  0                      0  \n",
       "...                     ...                ...                    ...  \n",
       "6168                      0                  0                      0  \n",
       "6169                      0                  0                      0  \n",
       "6170                      0                  0                      0  \n",
       "6171                      0                  1                      0  \n",
       "6172                      1                  0                      0  \n",
       "\n",
       "[117728 rows x 106 columns]"
      ]
     },
     "execution_count": 22,
     "metadata": {},
     "output_type": "execute_result"
    }
   ],
   "source": [
    "df_logit = df_logit.sort_values(by = ['GameId', 'Remaining'], ascending = False)\n",
    "# df_logit = df_logit.reset_index(drop=True)\n",
    "df_logit"
   ]
  },
  {
   "cell_type": "code",
   "execution_count": 23,
   "metadata": {},
   "outputs": [],
   "source": [
    "# len(df_logit[df_logit['GameId'] == 2016091105])    \n",
    "# df_logit[df_logit['GameId'] == 2016091105]\n",
    "# len(df_logit['GameId'].unique())\n",
    "# df_logit['GameId'].unique()\n",
    "# df_logit[df_logit['GameId'] == 2016091105][:30]['IsIncomplete']"
   ]
  },
  {
   "cell_type": "code",
   "execution_count": 24,
   "metadata": {},
   "outputs": [],
   "source": [
    "def gen_cum_data(col):\n",
    "    uniqueid_array = df_logit['GameId'].unique()\n",
    "    result_list = list()\n",
    "    \n",
    "    for j in range(len(uniqueid_array)):\n",
    "        df_list = list()\n",
    "        subdf = df_logit[df_logit['GameId'] == uniqueid_array[j]]\n",
    "        for i in range(len(subdf)):\n",
    "            df_list.append(sum(subdf[:i][col]))\n",
    "        result_list.extend(df_list)\n",
    "        \n",
    "    return result_list"
   ]
  },
  {
   "cell_type": "code",
   "execution_count": 25,
   "metadata": {
    "scrolled": true
   },
   "outputs": [],
   "source": [
    "df_logit['distance_to_TD'] = 100 - df_logit['YardLine']\n",
    "df_logit['cum_intcps_in_game'] = gen_cum_data('IsInterception')\n",
    "# df_logit[['Remaining','IsInterception','cum_intcps_in_game']][:40]\n",
    "df_logit['cum_fumbles_in_game'] = gen_cum_data('IsFumble')\n",
    "df_logit['cum_passincplts_in_game'] = gen_cum_data('IsIncomplete')"
   ]
  },
  {
   "cell_type": "code",
   "execution_count": 26,
   "metadata": {
    "scrolled": true
   },
   "outputs": [
    {
     "data": {
      "text/html": [
       "<div>\n",
       "<style scoped>\n",
       "    .dataframe tbody tr th:only-of-type {\n",
       "        vertical-align: middle;\n",
       "    }\n",
       "\n",
       "    .dataframe tbody tr th {\n",
       "        vertical-align: top;\n",
       "    }\n",
       "\n",
       "    .dataframe thead th {\n",
       "        text-align: right;\n",
       "    }\n",
       "</style>\n",
       "<table border=\"1\" class=\"dataframe\">\n",
       "  <thead>\n",
       "    <tr style=\"text-align: right;\">\n",
       "      <th></th>\n",
       "      <th>GameId</th>\n",
       "      <th>Remaining</th>\n",
       "      <th>distance_to_TD</th>\n",
       "      <th>IsIncomplete</th>\n",
       "      <th>cum_passincplts_in_game</th>\n",
       "      <th>IsFumble</th>\n",
       "      <th>cum_fumbles_in_game</th>\n",
       "      <th>IsInterception</th>\n",
       "      <th>cum_intcps_in_game</th>\n",
       "    </tr>\n",
       "  </thead>\n",
       "  <tbody>\n",
       "    <tr>\n",
       "      <td>67715</td>\n",
       "      <td>2018120211</td>\n",
       "      <td>1369</td>\n",
       "      <td>1</td>\n",
       "      <td>0</td>\n",
       "      <td>12</td>\n",
       "      <td>0</td>\n",
       "      <td>0</td>\n",
       "      <td>0</td>\n",
       "      <td>1</td>\n",
       "    </tr>\n",
       "    <tr>\n",
       "      <td>82063</td>\n",
       "      <td>2018120211</td>\n",
       "      <td>1356</td>\n",
       "      <td>76</td>\n",
       "      <td>0</td>\n",
       "      <td>12</td>\n",
       "      <td>0</td>\n",
       "      <td>0</td>\n",
       "      <td>0</td>\n",
       "      <td>1</td>\n",
       "    </tr>\n",
       "    <tr>\n",
       "      <td>82062</td>\n",
       "      <td>2018120211</td>\n",
       "      <td>1320</td>\n",
       "      <td>72</td>\n",
       "      <td>0</td>\n",
       "      <td>12</td>\n",
       "      <td>0</td>\n",
       "      <td>0</td>\n",
       "      <td>0</td>\n",
       "      <td>1</td>\n",
       "    </tr>\n",
       "    <tr>\n",
       "      <td>82061</td>\n",
       "      <td>2018120211</td>\n",
       "      <td>1284</td>\n",
       "      <td>68</td>\n",
       "      <td>0</td>\n",
       "      <td>12</td>\n",
       "      <td>0</td>\n",
       "      <td>0</td>\n",
       "      <td>0</td>\n",
       "      <td>1</td>\n",
       "    </tr>\n",
       "    <tr>\n",
       "      <td>82060</td>\n",
       "      <td>2018120211</td>\n",
       "      <td>1258</td>\n",
       "      <td>68</td>\n",
       "      <td>0</td>\n",
       "      <td>12</td>\n",
       "      <td>0</td>\n",
       "      <td>0</td>\n",
       "      <td>0</td>\n",
       "      <td>1</td>\n",
       "    </tr>\n",
       "    <tr>\n",
       "      <td>82059</td>\n",
       "      <td>2018120211</td>\n",
       "      <td>1219</td>\n",
       "      <td>65</td>\n",
       "      <td>0</td>\n",
       "      <td>12</td>\n",
       "      <td>0</td>\n",
       "      <td>0</td>\n",
       "      <td>0</td>\n",
       "      <td>1</td>\n",
       "    </tr>\n",
       "    <tr>\n",
       "      <td>82058</td>\n",
       "      <td>2018120211</td>\n",
       "      <td>1180</td>\n",
       "      <td>64</td>\n",
       "      <td>0</td>\n",
       "      <td>12</td>\n",
       "      <td>0</td>\n",
       "      <td>0</td>\n",
       "      <td>0</td>\n",
       "      <td>1</td>\n",
       "    </tr>\n",
       "    <tr>\n",
       "      <td>67714</td>\n",
       "      <td>2018120211</td>\n",
       "      <td>1138</td>\n",
       "      <td>46</td>\n",
       "      <td>0</td>\n",
       "      <td>12</td>\n",
       "      <td>0</td>\n",
       "      <td>0</td>\n",
       "      <td>0</td>\n",
       "      <td>1</td>\n",
       "    </tr>\n",
       "    <tr>\n",
       "      <td>67713</td>\n",
       "      <td>2018120211</td>\n",
       "      <td>1102</td>\n",
       "      <td>43</td>\n",
       "      <td>0</td>\n",
       "      <td>12</td>\n",
       "      <td>0</td>\n",
       "      <td>0</td>\n",
       "      <td>0</td>\n",
       "      <td>1</td>\n",
       "    </tr>\n",
       "    <tr>\n",
       "      <td>67712</td>\n",
       "      <td>2018120211</td>\n",
       "      <td>1074</td>\n",
       "      <td>35</td>\n",
       "      <td>1</td>\n",
       "      <td>12</td>\n",
       "      <td>0</td>\n",
       "      <td>0</td>\n",
       "      <td>0</td>\n",
       "      <td>1</td>\n",
       "    </tr>\n",
       "    <tr>\n",
       "      <td>67711</td>\n",
       "      <td>2018120211</td>\n",
       "      <td>1068</td>\n",
       "      <td>35</td>\n",
       "      <td>0</td>\n",
       "      <td>13</td>\n",
       "      <td>0</td>\n",
       "      <td>0</td>\n",
       "      <td>0</td>\n",
       "      <td>1</td>\n",
       "    </tr>\n",
       "    <tr>\n",
       "      <td>67710</td>\n",
       "      <td>2018120211</td>\n",
       "      <td>1023</td>\n",
       "      <td>30</td>\n",
       "      <td>0</td>\n",
       "      <td>13</td>\n",
       "      <td>0</td>\n",
       "      <td>0</td>\n",
       "      <td>0</td>\n",
       "      <td>1</td>\n",
       "    </tr>\n",
       "    <tr>\n",
       "      <td>67709</td>\n",
       "      <td>2018120211</td>\n",
       "      <td>981</td>\n",
       "      <td>22</td>\n",
       "      <td>0</td>\n",
       "      <td>13</td>\n",
       "      <td>0</td>\n",
       "      <td>0</td>\n",
       "      <td>0</td>\n",
       "      <td>1</td>\n",
       "    </tr>\n",
       "    <tr>\n",
       "      <td>67708</td>\n",
       "      <td>2018120211</td>\n",
       "      <td>943</td>\n",
       "      <td>21</td>\n",
       "      <td>1</td>\n",
       "      <td>13</td>\n",
       "      <td>0</td>\n",
       "      <td>0</td>\n",
       "      <td>0</td>\n",
       "      <td>1</td>\n",
       "    </tr>\n",
       "    <tr>\n",
       "      <td>67707</td>\n",
       "      <td>2018120211</td>\n",
       "      <td>938</td>\n",
       "      <td>21</td>\n",
       "      <td>1</td>\n",
       "      <td>14</td>\n",
       "      <td>0</td>\n",
       "      <td>0</td>\n",
       "      <td>0</td>\n",
       "      <td>1</td>\n",
       "    </tr>\n",
       "    <tr>\n",
       "      <td>82057</td>\n",
       "      <td>2018120211</td>\n",
       "      <td>926</td>\n",
       "      <td>75</td>\n",
       "      <td>0</td>\n",
       "      <td>15</td>\n",
       "      <td>0</td>\n",
       "      <td>0</td>\n",
       "      <td>0</td>\n",
       "      <td>1</td>\n",
       "    </tr>\n",
       "    <tr>\n",
       "      <td>67706</td>\n",
       "      <td>2018120211</td>\n",
       "      <td>900</td>\n",
       "      <td>50</td>\n",
       "      <td>1</td>\n",
       "      <td>15</td>\n",
       "      <td>0</td>\n",
       "      <td>0</td>\n",
       "      <td>0</td>\n",
       "      <td>1</td>\n",
       "    </tr>\n",
       "    <tr>\n",
       "      <td>67705</td>\n",
       "      <td>2018120211</td>\n",
       "      <td>890</td>\n",
       "      <td>50</td>\n",
       "      <td>1</td>\n",
       "      <td>16</td>\n",
       "      <td>0</td>\n",
       "      <td>0</td>\n",
       "      <td>0</td>\n",
       "      <td>1</td>\n",
       "    </tr>\n",
       "    <tr>\n",
       "      <td>82056</td>\n",
       "      <td>2018120211</td>\n",
       "      <td>878</td>\n",
       "      <td>90</td>\n",
       "      <td>1</td>\n",
       "      <td>17</td>\n",
       "      <td>0</td>\n",
       "      <td>0</td>\n",
       "      <td>0</td>\n",
       "      <td>1</td>\n",
       "    </tr>\n",
       "    <tr>\n",
       "      <td>82055</td>\n",
       "      <td>2018120211</td>\n",
       "      <td>872</td>\n",
       "      <td>90</td>\n",
       "      <td>0</td>\n",
       "      <td>18</td>\n",
       "      <td>0</td>\n",
       "      <td>0</td>\n",
       "      <td>0</td>\n",
       "      <td>1</td>\n",
       "    </tr>\n",
       "    <tr>\n",
       "      <td>82054</td>\n",
       "      <td>2018120211</td>\n",
       "      <td>833</td>\n",
       "      <td>88</td>\n",
       "      <td>1</td>\n",
       "      <td>18</td>\n",
       "      <td>0</td>\n",
       "      <td>0</td>\n",
       "      <td>0</td>\n",
       "      <td>1</td>\n",
       "    </tr>\n",
       "    <tr>\n",
       "      <td>82053</td>\n",
       "      <td>2018120211</td>\n",
       "      <td>817</td>\n",
       "      <td>64</td>\n",
       "      <td>0</td>\n",
       "      <td>19</td>\n",
       "      <td>0</td>\n",
       "      <td>0</td>\n",
       "      <td>0</td>\n",
       "      <td>1</td>\n",
       "    </tr>\n",
       "    <tr>\n",
       "      <td>82052</td>\n",
       "      <td>2018120211</td>\n",
       "      <td>783</td>\n",
       "      <td>64</td>\n",
       "      <td>0</td>\n",
       "      <td>19</td>\n",
       "      <td>0</td>\n",
       "      <td>0</td>\n",
       "      <td>0</td>\n",
       "      <td>1</td>\n",
       "    </tr>\n",
       "    <tr>\n",
       "      <td>82051</td>\n",
       "      <td>2018120211</td>\n",
       "      <td>743</td>\n",
       "      <td>53</td>\n",
       "      <td>0</td>\n",
       "      <td>19</td>\n",
       "      <td>0</td>\n",
       "      <td>0</td>\n",
       "      <td>0</td>\n",
       "      <td>1</td>\n",
       "    </tr>\n",
       "    <tr>\n",
       "      <td>67704</td>\n",
       "      <td>2018120211</td>\n",
       "      <td>704</td>\n",
       "      <td>9</td>\n",
       "      <td>0</td>\n",
       "      <td>19</td>\n",
       "      <td>0</td>\n",
       "      <td>0</td>\n",
       "      <td>0</td>\n",
       "      <td>1</td>\n",
       "    </tr>\n",
       "    <tr>\n",
       "      <td>67703</td>\n",
       "      <td>2018120211</td>\n",
       "      <td>658</td>\n",
       "      <td>10</td>\n",
       "      <td>1</td>\n",
       "      <td>19</td>\n",
       "      <td>0</td>\n",
       "      <td>0</td>\n",
       "      <td>0</td>\n",
       "      <td>1</td>\n",
       "    </tr>\n",
       "    <tr>\n",
       "      <td>67702</td>\n",
       "      <td>2018120211</td>\n",
       "      <td>657</td>\n",
       "      <td>5</td>\n",
       "      <td>0</td>\n",
       "      <td>20</td>\n",
       "      <td>0</td>\n",
       "      <td>0</td>\n",
       "      <td>0</td>\n",
       "      <td>1</td>\n",
       "    </tr>\n",
       "    <tr>\n",
       "      <td>67701</td>\n",
       "      <td>2018120211</td>\n",
       "      <td>581</td>\n",
       "      <td>6</td>\n",
       "      <td>1</td>\n",
       "      <td>20</td>\n",
       "      <td>0</td>\n",
       "      <td>0</td>\n",
       "      <td>0</td>\n",
       "      <td>1</td>\n",
       "    </tr>\n",
       "    <tr>\n",
       "      <td>82050</td>\n",
       "      <td>2018120211</td>\n",
       "      <td>569</td>\n",
       "      <td>75</td>\n",
       "      <td>0</td>\n",
       "      <td>21</td>\n",
       "      <td>0</td>\n",
       "      <td>0</td>\n",
       "      <td>0</td>\n",
       "      <td>1</td>\n",
       "    </tr>\n",
       "    <tr>\n",
       "      <td>82049</td>\n",
       "      <td>2018120211</td>\n",
       "      <td>534</td>\n",
       "      <td>67</td>\n",
       "      <td>0</td>\n",
       "      <td>21</td>\n",
       "      <td>0</td>\n",
       "      <td>0</td>\n",
       "      <td>0</td>\n",
       "      <td>1</td>\n",
       "    </tr>\n",
       "  </tbody>\n",
       "</table>\n",
       "</div>"
      ],
      "text/plain": [
       "           GameId  Remaining  distance_to_TD  IsIncomplete  \\\n",
       "67715  2018120211       1369               1             0   \n",
       "82063  2018120211       1356              76             0   \n",
       "82062  2018120211       1320              72             0   \n",
       "82061  2018120211       1284              68             0   \n",
       "82060  2018120211       1258              68             0   \n",
       "82059  2018120211       1219              65             0   \n",
       "82058  2018120211       1180              64             0   \n",
       "67714  2018120211       1138              46             0   \n",
       "67713  2018120211       1102              43             0   \n",
       "67712  2018120211       1074              35             1   \n",
       "67711  2018120211       1068              35             0   \n",
       "67710  2018120211       1023              30             0   \n",
       "67709  2018120211        981              22             0   \n",
       "67708  2018120211        943              21             1   \n",
       "67707  2018120211        938              21             1   \n",
       "82057  2018120211        926              75             0   \n",
       "67706  2018120211        900              50             1   \n",
       "67705  2018120211        890              50             1   \n",
       "82056  2018120211        878              90             1   \n",
       "82055  2018120211        872              90             0   \n",
       "82054  2018120211        833              88             1   \n",
       "82053  2018120211        817              64             0   \n",
       "82052  2018120211        783              64             0   \n",
       "82051  2018120211        743              53             0   \n",
       "67704  2018120211        704               9             0   \n",
       "67703  2018120211        658              10             1   \n",
       "67702  2018120211        657               5             0   \n",
       "67701  2018120211        581               6             1   \n",
       "82050  2018120211        569              75             0   \n",
       "82049  2018120211        534              67             0   \n",
       "\n",
       "       cum_passincplts_in_game  IsFumble  cum_fumbles_in_game  IsInterception  \\\n",
       "67715                       12         0                    0               0   \n",
       "82063                       12         0                    0               0   \n",
       "82062                       12         0                    0               0   \n",
       "82061                       12         0                    0               0   \n",
       "82060                       12         0                    0               0   \n",
       "82059                       12         0                    0               0   \n",
       "82058                       12         0                    0               0   \n",
       "67714                       12         0                    0               0   \n",
       "67713                       12         0                    0               0   \n",
       "67712                       12         0                    0               0   \n",
       "67711                       13         0                    0               0   \n",
       "67710                       13         0                    0               0   \n",
       "67709                       13         0                    0               0   \n",
       "67708                       13         0                    0               0   \n",
       "67707                       14         0                    0               0   \n",
       "82057                       15         0                    0               0   \n",
       "67706                       15         0                    0               0   \n",
       "67705                       16         0                    0               0   \n",
       "82056                       17         0                    0               0   \n",
       "82055                       18         0                    0               0   \n",
       "82054                       18         0                    0               0   \n",
       "82053                       19         0                    0               0   \n",
       "82052                       19         0                    0               0   \n",
       "82051                       19         0                    0               0   \n",
       "67704                       19         0                    0               0   \n",
       "67703                       19         0                    0               0   \n",
       "67702                       20         0                    0               0   \n",
       "67701                       20         0                    0               0   \n",
       "82050                       21         0                    0               0   \n",
       "82049                       21         0                    0               0   \n",
       "\n",
       "       cum_intcps_in_game  \n",
       "67715                   1  \n",
       "82063                   1  \n",
       "82062                   1  \n",
       "82061                   1  \n",
       "82060                   1  \n",
       "82059                   1  \n",
       "82058                   1  \n",
       "67714                   1  \n",
       "67713                   1  \n",
       "67712                   1  \n",
       "67711                   1  \n",
       "67710                   1  \n",
       "67709                   1  \n",
       "67708                   1  \n",
       "67707                   1  \n",
       "82057                   1  \n",
       "67706                   1  \n",
       "67705                   1  \n",
       "82056                   1  \n",
       "82055                   1  \n",
       "82054                   1  \n",
       "82053                   1  \n",
       "82052                   1  \n",
       "82051                   1  \n",
       "67704                   1  \n",
       "67703                   1  \n",
       "67702                   1  \n",
       "67701                   1  \n",
       "82050                   1  \n",
       "82049                   1  "
      ]
     },
     "execution_count": 26,
     "metadata": {},
     "output_type": "execute_result"
    }
   ],
   "source": [
    "df_logit[['GameId','Remaining','distance_to_TD','IsIncomplete','cum_passincplts_in_game','IsFumble','cum_fumbles_in_game','IsInterception','cum_intcps_in_game']][30000:30030]"
   ]
  },
  {
   "cell_type": "code",
   "execution_count": null,
   "metadata": {},
   "outputs": [],
   "source": [
    "# df_logit['PenaltyYards'].hist()"
   ]
  },
  {
   "cell_type": "code",
   "execution_count": null,
   "metadata": {},
   "outputs": [],
   "source": [
    "# df_logit.columns[65:]"
   ]
  },
  {
   "cell_type": "markdown",
   "metadata": {},
   "source": [
    "<b>Drop 53 after-play features and redundant features</b>\n",
    "- Drop features that are results of plays.\n",
    "- Drop redundant categorical features.\n",
    "- Drop team featues that are redundant, e.g. completion rate could be calculated from total completions/total attempts, thus should be droped."
   ]
  },
  {
   "cell_type": "code",
   "execution_count": 27,
   "metadata": {},
   "outputs": [
    {
     "name": "stdout",
     "output_type": "stream",
     "text": [
      "53\n"
     ]
    }
   ],
   "source": [
    "la = ['Off_Pass_Cmp', 'Off_Pass_Att','Off_Pass_Cmp_pct', 'Off_Pass_TD', 'Off_Pass_Int_pct','Off_Pass_Sk_pct',\\\n",
    "                         'Off_Pass_Yds', 'Off_Pass_YperG', 'Off_Pass_YperA', 'Off_Pass_QBR', 'Off_Rush_Att', 'Off_Rush_Yds', \\\n",
    "                         'Off_Rush_YperG', 'Off_Rush_YperA', 'Off_Rush_TD', 'Def_Pass_Cmp', 'Def_Pass_Att', 'Def_Pass_Cmp_pct', \\\n",
    "                         'Def_Pass_TD', 'Def_Pass_Int_pct', 'Def_Pass_Sk_pct', 'Def_Pass_Yds', 'Def_Pass_YperG', 'Def_Pass_YperA',\\\n",
    "                         'Def_Rush_Att', 'Def_Rush_Yds', 'Def_Rush_YperG', 'Def_Rush_YperA','Def_Rush_TD', 'Off_Pass_Overall', \\\n",
    "                         'Off_Rush_Overall','Def_Pass_Overall', 'Def_Rush_Overall']\n",
    "lb = ['SeriesFirstDown', 'PlayType','IsIncomplete', 'IsTouchdown', 'IsChallenge', 'IsChallengeReversed',\\\n",
    "                                    'IsInterception','IsFumble', 'IsPenalty','IsPenaltyAccepted', 'PenaltyTeam', 'IsNoPlay','PenaltyType', \\\n",
    "                                    'PenaltyYards']\n",
    "\n",
    "lc = ['Off_Pass_Cmp%_rank','Def_Pass_Cmp%_rank','Off_Pass_Yds_rank','Def_Pass_Yds_rank','Off_Rush_Yds_rank',\\\n",
    "                                    'Def_Rush_Yds_rank']\n",
    "\n",
    "print(len(la)+len(lb)+len(lc))"
   ]
  },
  {
   "cell_type": "code",
   "execution_count": 28,
   "metadata": {},
   "outputs": [
    {
     "data": {
      "text/html": [
       "<div>\n",
       "<style scoped>\n",
       "    .dataframe tbody tr th:only-of-type {\n",
       "        vertical-align: middle;\n",
       "    }\n",
       "\n",
       "    .dataframe tbody tr th {\n",
       "        vertical-align: top;\n",
       "    }\n",
       "\n",
       "    .dataframe thead th {\n",
       "        text-align: right;\n",
       "    }\n",
       "</style>\n",
       "<table border=\"1\" class=\"dataframe\">\n",
       "  <thead>\n",
       "    <tr style=\"text-align: right;\">\n",
       "      <th></th>\n",
       "      <th>GameId</th>\n",
       "      <th>GameDate</th>\n",
       "      <th>Quarter</th>\n",
       "      <th>Minute</th>\n",
       "      <th>Second</th>\n",
       "      <th>Remaining</th>\n",
       "      <th>OffenseTeam</th>\n",
       "      <th>DefenseTeam</th>\n",
       "      <th>Down</th>\n",
       "      <th>ToGo</th>\n",
       "      <th>...</th>\n",
       "      <th>Def_Pass_Overall_rank</th>\n",
       "      <th>Def_Rush_Overall_rank</th>\n",
       "      <th>IsHuddleShotgun</th>\n",
       "      <th>IsHuddleUndercenter</th>\n",
       "      <th>IsNohuddleShotgun</th>\n",
       "      <th>IsNohuddleUndercenter</th>\n",
       "      <th>distance_to_TD</th>\n",
       "      <th>cum_intcps_in_game</th>\n",
       "      <th>cum_fumbles_in_game</th>\n",
       "      <th>cum_passincplts_in_game</th>\n",
       "    </tr>\n",
       "  </thead>\n",
       "  <tbody>\n",
       "    <tr>\n",
       "      <td>117555</td>\n",
       "      <td>2019112411</td>\n",
       "      <td>2019/11/24</td>\n",
       "      <td>1</td>\n",
       "      <td>14</td>\n",
       "      <td>53</td>\n",
       "      <td>3593</td>\n",
       "      <td>PHI</td>\n",
       "      <td>SEA</td>\n",
       "      <td>1</td>\n",
       "      <td>10</td>\n",
       "      <td>...</td>\n",
       "      <td>4</td>\n",
       "      <td>2</td>\n",
       "      <td>0</td>\n",
       "      <td>1</td>\n",
       "      <td>0</td>\n",
       "      <td>0</td>\n",
       "      <td>63</td>\n",
       "      <td>0</td>\n",
       "      <td>0</td>\n",
       "      <td>0</td>\n",
       "    </tr>\n",
       "    <tr>\n",
       "      <td>117556</td>\n",
       "      <td>2019112411</td>\n",
       "      <td>2019/11/24</td>\n",
       "      <td>1</td>\n",
       "      <td>14</td>\n",
       "      <td>18</td>\n",
       "      <td>3558</td>\n",
       "      <td>PHI</td>\n",
       "      <td>SEA</td>\n",
       "      <td>2</td>\n",
       "      <td>8</td>\n",
       "      <td>...</td>\n",
       "      <td>4</td>\n",
       "      <td>2</td>\n",
       "      <td>0</td>\n",
       "      <td>1</td>\n",
       "      <td>0</td>\n",
       "      <td>0</td>\n",
       "      <td>61</td>\n",
       "      <td>0</td>\n",
       "      <td>0</td>\n",
       "      <td>0</td>\n",
       "    </tr>\n",
       "    <tr>\n",
       "      <td>117557</td>\n",
       "      <td>2019112411</td>\n",
       "      <td>2019/11/24</td>\n",
       "      <td>1</td>\n",
       "      <td>13</td>\n",
       "      <td>39</td>\n",
       "      <td>3519</td>\n",
       "      <td>PHI</td>\n",
       "      <td>SEA</td>\n",
       "      <td>3</td>\n",
       "      <td>7</td>\n",
       "      <td>...</td>\n",
       "      <td>4</td>\n",
       "      <td>2</td>\n",
       "      <td>0</td>\n",
       "      <td>0</td>\n",
       "      <td>1</td>\n",
       "      <td>0</td>\n",
       "      <td>60</td>\n",
       "      <td>0</td>\n",
       "      <td>0</td>\n",
       "      <td>0</td>\n",
       "    </tr>\n",
       "    <tr>\n",
       "      <td>117558</td>\n",
       "      <td>2019112411</td>\n",
       "      <td>2019/11/24</td>\n",
       "      <td>1</td>\n",
       "      <td>13</td>\n",
       "      <td>23</td>\n",
       "      <td>3503</td>\n",
       "      <td>SEA</td>\n",
       "      <td>PHI</td>\n",
       "      <td>1</td>\n",
       "      <td>10</td>\n",
       "      <td>...</td>\n",
       "      <td>3</td>\n",
       "      <td>1</td>\n",
       "      <td>0</td>\n",
       "      <td>1</td>\n",
       "      <td>0</td>\n",
       "      <td>0</td>\n",
       "      <td>78</td>\n",
       "      <td>0</td>\n",
       "      <td>0</td>\n",
       "      <td>1</td>\n",
       "    </tr>\n",
       "    <tr>\n",
       "      <td>117559</td>\n",
       "      <td>2019112411</td>\n",
       "      <td>2019/11/24</td>\n",
       "      <td>1</td>\n",
       "      <td>12</td>\n",
       "      <td>45</td>\n",
       "      <td>3465</td>\n",
       "      <td>SEA</td>\n",
       "      <td>PHI</td>\n",
       "      <td>2</td>\n",
       "      <td>8</td>\n",
       "      <td>...</td>\n",
       "      <td>3</td>\n",
       "      <td>1</td>\n",
       "      <td>1</td>\n",
       "      <td>0</td>\n",
       "      <td>0</td>\n",
       "      <td>0</td>\n",
       "      <td>76</td>\n",
       "      <td>0</td>\n",
       "      <td>0</td>\n",
       "      <td>1</td>\n",
       "    </tr>\n",
       "    <tr>\n",
       "      <td>...</td>\n",
       "      <td>...</td>\n",
       "      <td>...</td>\n",
       "      <td>...</td>\n",
       "      <td>...</td>\n",
       "      <td>...</td>\n",
       "      <td>...</td>\n",
       "      <td>...</td>\n",
       "      <td>...</td>\n",
       "      <td>...</td>\n",
       "      <td>...</td>\n",
       "      <td>...</td>\n",
       "      <td>...</td>\n",
       "      <td>...</td>\n",
       "      <td>...</td>\n",
       "      <td>...</td>\n",
       "      <td>...</td>\n",
       "      <td>...</td>\n",
       "      <td>...</td>\n",
       "      <td>...</td>\n",
       "      <td>...</td>\n",
       "      <td>...</td>\n",
       "    </tr>\n",
       "    <tr>\n",
       "      <td>6168</td>\n",
       "      <td>2016090800</td>\n",
       "      <td>2016/09/08</td>\n",
       "      <td>4</td>\n",
       "      <td>0</td>\n",
       "      <td>51</td>\n",
       "      <td>51</td>\n",
       "      <td>CAR</td>\n",
       "      <td>DEN</td>\n",
       "      <td>1</td>\n",
       "      <td>10</td>\n",
       "      <td>...</td>\n",
       "      <td>1</td>\n",
       "      <td>3</td>\n",
       "      <td>1</td>\n",
       "      <td>0</td>\n",
       "      <td>0</td>\n",
       "      <td>0</td>\n",
       "      <td>53</td>\n",
       "      <td>3</td>\n",
       "      <td>1</td>\n",
       "      <td>18</td>\n",
       "    </tr>\n",
       "    <tr>\n",
       "      <td>6169</td>\n",
       "      <td>2016090800</td>\n",
       "      <td>2016/09/08</td>\n",
       "      <td>4</td>\n",
       "      <td>0</td>\n",
       "      <td>42</td>\n",
       "      <td>42</td>\n",
       "      <td>CAR</td>\n",
       "      <td>DEN</td>\n",
       "      <td>2</td>\n",
       "      <td>10</td>\n",
       "      <td>...</td>\n",
       "      <td>1</td>\n",
       "      <td>3</td>\n",
       "      <td>1</td>\n",
       "      <td>0</td>\n",
       "      <td>0</td>\n",
       "      <td>0</td>\n",
       "      <td>53</td>\n",
       "      <td>3</td>\n",
       "      <td>1</td>\n",
       "      <td>19</td>\n",
       "    </tr>\n",
       "    <tr>\n",
       "      <td>6170</td>\n",
       "      <td>2016090800</td>\n",
       "      <td>2016/09/08</td>\n",
       "      <td>4</td>\n",
       "      <td>0</td>\n",
       "      <td>36</td>\n",
       "      <td>36</td>\n",
       "      <td>CAR</td>\n",
       "      <td>DEN</td>\n",
       "      <td>2</td>\n",
       "      <td>10</td>\n",
       "      <td>...</td>\n",
       "      <td>1</td>\n",
       "      <td>3</td>\n",
       "      <td>1</td>\n",
       "      <td>0</td>\n",
       "      <td>0</td>\n",
       "      <td>0</td>\n",
       "      <td>53</td>\n",
       "      <td>3</td>\n",
       "      <td>1</td>\n",
       "      <td>20</td>\n",
       "    </tr>\n",
       "    <tr>\n",
       "      <td>6171</td>\n",
       "      <td>2016090800</td>\n",
       "      <td>2016/09/08</td>\n",
       "      <td>4</td>\n",
       "      <td>0</td>\n",
       "      <td>29</td>\n",
       "      <td>29</td>\n",
       "      <td>CAR</td>\n",
       "      <td>DEN</td>\n",
       "      <td>3</td>\n",
       "      <td>10</td>\n",
       "      <td>...</td>\n",
       "      <td>1</td>\n",
       "      <td>3</td>\n",
       "      <td>0</td>\n",
       "      <td>0</td>\n",
       "      <td>1</td>\n",
       "      <td>0</td>\n",
       "      <td>53</td>\n",
       "      <td>3</td>\n",
       "      <td>1</td>\n",
       "      <td>21</td>\n",
       "    </tr>\n",
       "    <tr>\n",
       "      <td>6172</td>\n",
       "      <td>2016090800</td>\n",
       "      <td>2016/09/08</td>\n",
       "      <td>4</td>\n",
       "      <td>0</td>\n",
       "      <td>14</td>\n",
       "      <td>14</td>\n",
       "      <td>CAR</td>\n",
       "      <td>DEN</td>\n",
       "      <td>2</td>\n",
       "      <td>10</td>\n",
       "      <td>...</td>\n",
       "      <td>1</td>\n",
       "      <td>3</td>\n",
       "      <td>0</td>\n",
       "      <td>1</td>\n",
       "      <td>0</td>\n",
       "      <td>0</td>\n",
       "      <td>37</td>\n",
       "      <td>3</td>\n",
       "      <td>1</td>\n",
       "      <td>21</td>\n",
       "    </tr>\n",
       "  </tbody>\n",
       "</table>\n",
       "<p>117728 rows × 57 columns</p>\n",
       "</div>"
      ],
      "text/plain": [
       "            GameId    GameDate  Quarter  Minute  Second  Remaining  \\\n",
       "117555  2019112411  2019/11/24        1      14      53       3593   \n",
       "117556  2019112411  2019/11/24        1      14      18       3558   \n",
       "117557  2019112411  2019/11/24        1      13      39       3519   \n",
       "117558  2019112411  2019/11/24        1      13      23       3503   \n",
       "117559  2019112411  2019/11/24        1      12      45       3465   \n",
       "...            ...         ...      ...     ...     ...        ...   \n",
       "6168    2016090800  2016/09/08        4       0      51         51   \n",
       "6169    2016090800  2016/09/08        4       0      42         42   \n",
       "6170    2016090800  2016/09/08        4       0      36         36   \n",
       "6171    2016090800  2016/09/08        4       0      29         29   \n",
       "6172    2016090800  2016/09/08        4       0      14         14   \n",
       "\n",
       "       OffenseTeam DefenseTeam  Down  ToGo  ...  Def_Pass_Overall_rank  \\\n",
       "117555         PHI         SEA     1    10  ...                      4   \n",
       "117556         PHI         SEA     2     8  ...                      4   \n",
       "117557         PHI         SEA     3     7  ...                      4   \n",
       "117558         SEA         PHI     1    10  ...                      3   \n",
       "117559         SEA         PHI     2     8  ...                      3   \n",
       "...            ...         ...   ...   ...  ...                    ...   \n",
       "6168           CAR         DEN     1    10  ...                      1   \n",
       "6169           CAR         DEN     2    10  ...                      1   \n",
       "6170           CAR         DEN     2    10  ...                      1   \n",
       "6171           CAR         DEN     3    10  ...                      1   \n",
       "6172           CAR         DEN     2    10  ...                      1   \n",
       "\n",
       "       Def_Rush_Overall_rank  IsHuddleShotgun  IsHuddleUndercenter  \\\n",
       "117555                     2                0                    1   \n",
       "117556                     2                0                    1   \n",
       "117557                     2                0                    0   \n",
       "117558                     1                0                    1   \n",
       "117559                     1                1                    0   \n",
       "...                      ...              ...                  ...   \n",
       "6168                       3                1                    0   \n",
       "6169                       3                1                    0   \n",
       "6170                       3                1                    0   \n",
       "6171                       3                0                    0   \n",
       "6172                       3                0                    1   \n",
       "\n",
       "       IsNohuddleShotgun  IsNohuddleUndercenter  distance_to_TD  \\\n",
       "117555                 0                      0              63   \n",
       "117556                 0                      0              61   \n",
       "117557                 1                      0              60   \n",
       "117558                 0                      0              78   \n",
       "117559                 0                      0              76   \n",
       "...                  ...                    ...             ...   \n",
       "6168                   0                      0              53   \n",
       "6169                   0                      0              53   \n",
       "6170                   0                      0              53   \n",
       "6171                   1                      0              53   \n",
       "6172                   0                      0              37   \n",
       "\n",
       "       cum_intcps_in_game cum_fumbles_in_game  cum_passincplts_in_game  \n",
       "117555                  0                   0                        0  \n",
       "117556                  0                   0                        0  \n",
       "117557                  0                   0                        0  \n",
       "117558                  0                   0                        1  \n",
       "117559                  0                   0                        1  \n",
       "...                   ...                 ...                      ...  \n",
       "6168                    3                   1                       18  \n",
       "6169                    3                   1                       19  \n",
       "6170                    3                   1                       20  \n",
       "6171                    3                   1                       21  \n",
       "6172                    3                   1                       21  \n",
       "\n",
       "[117728 rows x 57 columns]"
      ]
     },
     "execution_count": 28,
     "metadata": {},
     "output_type": "execute_result"
    }
   ],
   "source": [
    "df_logit = df_logit.drop(columns = ['SeriesFirstDown', 'PlayType','IsIncomplete', 'IsTouchdown', 'IsChallenge', 'IsChallengeReversed',\\\n",
    "                                    'IsInterception','IsFumble', 'IsPenalty','IsPenaltyAccepted', 'PenaltyTeam', 'IsNoPlay','PenaltyType', \\\n",
    "                                    'PenaltyYards'])\n",
    "\n",
    "df_logit = df_logit.drop(columns = ['Off_Pass_Cmp', 'Off_Pass_Att','Off_Pass_Cmp_pct', 'Off_Pass_TD', 'Off_Pass_Int_pct','Off_Pass_Sk_pct',\\\n",
    "                         'Off_Pass_Yds', 'Off_Pass_YperG', 'Off_Pass_YperA', 'Off_Pass_QBR', 'Off_Rush_Att', 'Off_Rush_Yds', \\\n",
    "                         'Off_Rush_YperG', 'Off_Rush_YperA', 'Off_Rush_TD', 'Def_Pass_Cmp', 'Def_Pass_Att', 'Def_Pass_Cmp_pct', \\\n",
    "                         'Def_Pass_TD', 'Def_Pass_Int_pct', 'Def_Pass_Sk_pct', 'Def_Pass_Yds', 'Def_Pass_YperG', 'Def_Pass_YperA',\\\n",
    "                         'Def_Rush_Att', 'Def_Rush_Yds', 'Def_Rush_YperG', 'Def_Rush_YperA','Def_Rush_TD', 'Off_Pass_Overall', \\\n",
    "                         'Off_Rush_Overall','Def_Pass_Overall', 'Def_Rush_Overall'])\n",
    "\n",
    "df_logit = df_logit.drop(columns = ['Off_Pass_Cmp%_rank','Def_Pass_Cmp%_rank','Off_Pass_Yds_rank','Def_Pass_Yds_rank','Off_Rush_Yds_rank',\\\n",
    "                                    'Def_Rush_Yds_rank'])\n",
    "\n",
    "df_logit"
   ]
  },
  {
   "cell_type": "code",
   "execution_count": null,
   "metadata": {},
   "outputs": [],
   "source": []
  },
  {
   "cell_type": "markdown",
   "metadata": {},
   "source": [
    "<b>Shuffle the dataset</b>\n",
    "- Since the df_logit dataframe is ordered by gamedate and remaining time, which may influence the randomness of our sampling, we shuffle the df_logit dataset and assign it to a temporary dataset df_tmp"
   ]
  },
  {
   "cell_type": "code",
   "execution_count": 29,
   "metadata": {},
   "outputs": [
    {
     "data": {
      "text/html": [
       "<div>\n",
       "<style scoped>\n",
       "    .dataframe tbody tr th:only-of-type {\n",
       "        vertical-align: middle;\n",
       "    }\n",
       "\n",
       "    .dataframe tbody tr th {\n",
       "        vertical-align: top;\n",
       "    }\n",
       "\n",
       "    .dataframe thead th {\n",
       "        text-align: right;\n",
       "    }\n",
       "</style>\n",
       "<table border=\"1\" class=\"dataframe\">\n",
       "  <thead>\n",
       "    <tr style=\"text-align: right;\">\n",
       "      <th></th>\n",
       "      <th>GameId</th>\n",
       "      <th>GameDate</th>\n",
       "      <th>Quarter</th>\n",
       "      <th>Minute</th>\n",
       "      <th>Second</th>\n",
       "      <th>Remaining</th>\n",
       "      <th>OffenseTeam</th>\n",
       "      <th>DefenseTeam</th>\n",
       "      <th>Down</th>\n",
       "      <th>ToGo</th>\n",
       "      <th>...</th>\n",
       "      <th>Def_Pass_Overall_rank</th>\n",
       "      <th>Def_Rush_Overall_rank</th>\n",
       "      <th>IsHuddleShotgun</th>\n",
       "      <th>IsHuddleUndercenter</th>\n",
       "      <th>IsNohuddleShotgun</th>\n",
       "      <th>IsNohuddleUndercenter</th>\n",
       "      <th>distance_to_TD</th>\n",
       "      <th>cum_intcps_in_game</th>\n",
       "      <th>cum_fumbles_in_game</th>\n",
       "      <th>cum_passincplts_in_game</th>\n",
       "    </tr>\n",
       "  </thead>\n",
       "  <tbody>\n",
       "    <tr>\n",
       "      <td>0</td>\n",
       "      <td>2017111206</td>\n",
       "      <td>2017/11/12</td>\n",
       "      <td>2</td>\n",
       "      <td>5</td>\n",
       "      <td>41</td>\n",
       "      <td>2141</td>\n",
       "      <td>TEN</td>\n",
       "      <td>CIN</td>\n",
       "      <td>1</td>\n",
       "      <td>9</td>\n",
       "      <td>...</td>\n",
       "      <td>2</td>\n",
       "      <td>4</td>\n",
       "      <td>0</td>\n",
       "      <td>1</td>\n",
       "      <td>0</td>\n",
       "      <td>0</td>\n",
       "      <td>9</td>\n",
       "      <td>0</td>\n",
       "      <td>0</td>\n",
       "      <td>7</td>\n",
       "    </tr>\n",
       "    <tr>\n",
       "      <td>1</td>\n",
       "      <td>2018102810</td>\n",
       "      <td>2018/10/28</td>\n",
       "      <td>3</td>\n",
       "      <td>0</td>\n",
       "      <td>25</td>\n",
       "      <td>925</td>\n",
       "      <td>GB</td>\n",
       "      <td>LAR</td>\n",
       "      <td>1</td>\n",
       "      <td>10</td>\n",
       "      <td>...</td>\n",
       "      <td>2</td>\n",
       "      <td>2</td>\n",
       "      <td>0</td>\n",
       "      <td>0</td>\n",
       "      <td>1</td>\n",
       "      <td>0</td>\n",
       "      <td>33</td>\n",
       "      <td>0</td>\n",
       "      <td>0</td>\n",
       "      <td>26</td>\n",
       "    </tr>\n",
       "    <tr>\n",
       "      <td>2</td>\n",
       "      <td>2016101604</td>\n",
       "      <td>2016/10/16</td>\n",
       "      <td>3</td>\n",
       "      <td>0</td>\n",
       "      <td>59</td>\n",
       "      <td>959</td>\n",
       "      <td>CIN</td>\n",
       "      <td>NE</td>\n",
       "      <td>3</td>\n",
       "      <td>2</td>\n",
       "      <td>...</td>\n",
       "      <td>2</td>\n",
       "      <td>1</td>\n",
       "      <td>1</td>\n",
       "      <td>0</td>\n",
       "      <td>0</td>\n",
       "      <td>0</td>\n",
       "      <td>50</td>\n",
       "      <td>0</td>\n",
       "      <td>0</td>\n",
       "      <td>16</td>\n",
       "    </tr>\n",
       "    <tr>\n",
       "      <td>3</td>\n",
       "      <td>2017122406</td>\n",
       "      <td>2017/12/24</td>\n",
       "      <td>1</td>\n",
       "      <td>11</td>\n",
       "      <td>26</td>\n",
       "      <td>3386</td>\n",
       "      <td>LAC</td>\n",
       "      <td>NYJ</td>\n",
       "      <td>2</td>\n",
       "      <td>7</td>\n",
       "      <td>...</td>\n",
       "      <td>3</td>\n",
       "      <td>3</td>\n",
       "      <td>1</td>\n",
       "      <td>0</td>\n",
       "      <td>0</td>\n",
       "      <td>0</td>\n",
       "      <td>96</td>\n",
       "      <td>0</td>\n",
       "      <td>0</td>\n",
       "      <td>1</td>\n",
       "    </tr>\n",
       "    <tr>\n",
       "      <td>4</td>\n",
       "      <td>2017123102</td>\n",
       "      <td>2017/12/31</td>\n",
       "      <td>4</td>\n",
       "      <td>2</td>\n",
       "      <td>10</td>\n",
       "      <td>130</td>\n",
       "      <td>GB</td>\n",
       "      <td>DET</td>\n",
       "      <td>1</td>\n",
       "      <td>10</td>\n",
       "      <td>...</td>\n",
       "      <td>3</td>\n",
       "      <td>4</td>\n",
       "      <td>1</td>\n",
       "      <td>0</td>\n",
       "      <td>0</td>\n",
       "      <td>0</td>\n",
       "      <td>64</td>\n",
       "      <td>2</td>\n",
       "      <td>1</td>\n",
       "      <td>24</td>\n",
       "    </tr>\n",
       "    <tr>\n",
       "      <td>...</td>\n",
       "      <td>...</td>\n",
       "      <td>...</td>\n",
       "      <td>...</td>\n",
       "      <td>...</td>\n",
       "      <td>...</td>\n",
       "      <td>...</td>\n",
       "      <td>...</td>\n",
       "      <td>...</td>\n",
       "      <td>...</td>\n",
       "      <td>...</td>\n",
       "      <td>...</td>\n",
       "      <td>...</td>\n",
       "      <td>...</td>\n",
       "      <td>...</td>\n",
       "      <td>...</td>\n",
       "      <td>...</td>\n",
       "      <td>...</td>\n",
       "      <td>...</td>\n",
       "      <td>...</td>\n",
       "      <td>...</td>\n",
       "      <td>...</td>\n",
       "    </tr>\n",
       "    <tr>\n",
       "      <td>117723</td>\n",
       "      <td>2016111000</td>\n",
       "      <td>2016/11/10</td>\n",
       "      <td>2</td>\n",
       "      <td>12</td>\n",
       "      <td>27</td>\n",
       "      <td>2547</td>\n",
       "      <td>BAL</td>\n",
       "      <td>CLE</td>\n",
       "      <td>2</td>\n",
       "      <td>8</td>\n",
       "      <td>...</td>\n",
       "      <td>3</td>\n",
       "      <td>4</td>\n",
       "      <td>0</td>\n",
       "      <td>1</td>\n",
       "      <td>0</td>\n",
       "      <td>0</td>\n",
       "      <td>25</td>\n",
       "      <td>1</td>\n",
       "      <td>0</td>\n",
       "      <td>7</td>\n",
       "    </tr>\n",
       "    <tr>\n",
       "      <td>117724</td>\n",
       "      <td>2016101601</td>\n",
       "      <td>2016/10/16</td>\n",
       "      <td>4</td>\n",
       "      <td>11</td>\n",
       "      <td>34</td>\n",
       "      <td>694</td>\n",
       "      <td>CHI</td>\n",
       "      <td>JAX</td>\n",
       "      <td>1</td>\n",
       "      <td>10</td>\n",
       "      <td>...</td>\n",
       "      <td>2</td>\n",
       "      <td>3</td>\n",
       "      <td>0</td>\n",
       "      <td>1</td>\n",
       "      <td>0</td>\n",
       "      <td>0</td>\n",
       "      <td>28</td>\n",
       "      <td>1</td>\n",
       "      <td>0</td>\n",
       "      <td>30</td>\n",
       "    </tr>\n",
       "    <tr>\n",
       "      <td>117725</td>\n",
       "      <td>2016112009</td>\n",
       "      <td>2016/11/20</td>\n",
       "      <td>3</td>\n",
       "      <td>12</td>\n",
       "      <td>23</td>\n",
       "      <td>1643</td>\n",
       "      <td>SF</td>\n",
       "      <td>NE</td>\n",
       "      <td>1</td>\n",
       "      <td>10</td>\n",
       "      <td>...</td>\n",
       "      <td>2</td>\n",
       "      <td>1</td>\n",
       "      <td>1</td>\n",
       "      <td>0</td>\n",
       "      <td>0</td>\n",
       "      <td>0</td>\n",
       "      <td>69</td>\n",
       "      <td>0</td>\n",
       "      <td>1</td>\n",
       "      <td>8</td>\n",
       "    </tr>\n",
       "    <tr>\n",
       "      <td>117726</td>\n",
       "      <td>2017121705</td>\n",
       "      <td>2017/12/17</td>\n",
       "      <td>3</td>\n",
       "      <td>12</td>\n",
       "      <td>18</td>\n",
       "      <td>1638</td>\n",
       "      <td>NO</td>\n",
       "      <td>NYJ</td>\n",
       "      <td>2</td>\n",
       "      <td>4</td>\n",
       "      <td>...</td>\n",
       "      <td>3</td>\n",
       "      <td>3</td>\n",
       "      <td>0</td>\n",
       "      <td>1</td>\n",
       "      <td>0</td>\n",
       "      <td>0</td>\n",
       "      <td>87</td>\n",
       "      <td>1</td>\n",
       "      <td>0</td>\n",
       "      <td>13</td>\n",
       "    </tr>\n",
       "    <tr>\n",
       "      <td>117727</td>\n",
       "      <td>2016121500</td>\n",
       "      <td>2016/12/15</td>\n",
       "      <td>1</td>\n",
       "      <td>12</td>\n",
       "      <td>50</td>\n",
       "      <td>3470</td>\n",
       "      <td>SEA</td>\n",
       "      <td>LAR</td>\n",
       "      <td>2</td>\n",
       "      <td>6</td>\n",
       "      <td>...</td>\n",
       "      <td>4</td>\n",
       "      <td>1</td>\n",
       "      <td>0</td>\n",
       "      <td>1</td>\n",
       "      <td>0</td>\n",
       "      <td>0</td>\n",
       "      <td>59</td>\n",
       "      <td>0</td>\n",
       "      <td>0</td>\n",
       "      <td>1</td>\n",
       "    </tr>\n",
       "  </tbody>\n",
       "</table>\n",
       "<p>117728 rows × 57 columns</p>\n",
       "</div>"
      ],
      "text/plain": [
       "            GameId    GameDate  Quarter  Minute  Second  Remaining  \\\n",
       "0       2017111206  2017/11/12        2       5      41       2141   \n",
       "1       2018102810  2018/10/28        3       0      25        925   \n",
       "2       2016101604  2016/10/16        3       0      59        959   \n",
       "3       2017122406  2017/12/24        1      11      26       3386   \n",
       "4       2017123102  2017/12/31        4       2      10        130   \n",
       "...            ...         ...      ...     ...     ...        ...   \n",
       "117723  2016111000  2016/11/10        2      12      27       2547   \n",
       "117724  2016101601  2016/10/16        4      11      34        694   \n",
       "117725  2016112009  2016/11/20        3      12      23       1643   \n",
       "117726  2017121705  2017/12/17        3      12      18       1638   \n",
       "117727  2016121500  2016/12/15        1      12      50       3470   \n",
       "\n",
       "       OffenseTeam DefenseTeam  Down  ToGo  ...  Def_Pass_Overall_rank  \\\n",
       "0              TEN         CIN     1     9  ...                      2   \n",
       "1               GB         LAR     1    10  ...                      2   \n",
       "2              CIN          NE     3     2  ...                      2   \n",
       "3              LAC         NYJ     2     7  ...                      3   \n",
       "4               GB         DET     1    10  ...                      3   \n",
       "...            ...         ...   ...   ...  ...                    ...   \n",
       "117723         BAL         CLE     2     8  ...                      3   \n",
       "117724         CHI         JAX     1    10  ...                      2   \n",
       "117725          SF          NE     1    10  ...                      2   \n",
       "117726          NO         NYJ     2     4  ...                      3   \n",
       "117727         SEA         LAR     2     6  ...                      4   \n",
       "\n",
       "       Def_Rush_Overall_rank  IsHuddleShotgun  IsHuddleUndercenter  \\\n",
       "0                          4                0                    1   \n",
       "1                          2                0                    0   \n",
       "2                          1                1                    0   \n",
       "3                          3                1                    0   \n",
       "4                          4                1                    0   \n",
       "...                      ...              ...                  ...   \n",
       "117723                     4                0                    1   \n",
       "117724                     3                0                    1   \n",
       "117725                     1                1                    0   \n",
       "117726                     3                0                    1   \n",
       "117727                     1                0                    1   \n",
       "\n",
       "       IsNohuddleShotgun  IsNohuddleUndercenter  distance_to_TD  \\\n",
       "0                      0                      0               9   \n",
       "1                      1                      0              33   \n",
       "2                      0                      0              50   \n",
       "3                      0                      0              96   \n",
       "4                      0                      0              64   \n",
       "...                  ...                    ...             ...   \n",
       "117723                 0                      0              25   \n",
       "117724                 0                      0              28   \n",
       "117725                 0                      0              69   \n",
       "117726                 0                      0              87   \n",
       "117727                 0                      0              59   \n",
       "\n",
       "       cum_intcps_in_game cum_fumbles_in_game  cum_passincplts_in_game  \n",
       "0                       0                   0                        7  \n",
       "1                       0                   0                       26  \n",
       "2                       0                   0                       16  \n",
       "3                       0                   0                        1  \n",
       "4                       2                   1                       24  \n",
       "...                   ...                 ...                      ...  \n",
       "117723                  1                   0                        7  \n",
       "117724                  1                   0                       30  \n",
       "117725                  0                   1                        8  \n",
       "117726                  1                   0                       13  \n",
       "117727                  0                   0                        1  \n",
       "\n",
       "[117728 rows x 57 columns]"
      ]
     },
     "execution_count": 29,
     "metadata": {},
     "output_type": "execute_result"
    }
   ],
   "source": [
    "df_tmp = df_logit.sample(frac = 1).reset_index(drop = True)  # shuffle the original data set\n",
    "df_tmp"
   ]
  },
  {
   "cell_type": "code",
   "execution_count": 30,
   "metadata": {},
   "outputs": [],
   "source": [
    "# df_test = df_tmp[round(0.9*len(df_tmp)):]  # take 10% of the original data set as the test set, which is randomly chosen\n",
    "# df_train = df_tmp[:round(0.9*len(df_tmp))]   #take 90% of the original data set as the training set\n",
    "# df_test.to_csv(r'C:\\Users\\zhong\\Downloads\\pbp_test_data.csv', index = False)\n",
    "# df_train.to_csv(r'C:\\Users\\zhong\\Downloads\\pbp_train_data.csv', index = False)"
   ]
  },
  {
   "cell_type": "markdown",
   "metadata": {},
   "source": [
    "<b>Split the dataset to training set and testing set</b>\n",
    "- We leave 20% of the original dataset as the testing set, and use 80% of the original data as the training set\n",
    "- And export the two datasets as csv format"
   ]
  },
  {
   "cell_type": "code",
   "execution_count": 31,
   "metadata": {},
   "outputs": [],
   "source": [
    "data, test = train_test_split(df_tmp, test_size = 0.2, random_state = 10)"
   ]
  },
  {
   "cell_type": "code",
   "execution_count": 32,
   "metadata": {},
   "outputs": [],
   "source": [
    "data.to_csv(r'C:\\Users\\zhong\\Downloads\\pbp_modeling_data.csv',index = False)"
   ]
  },
  {
   "cell_type": "code",
   "execution_count": 33,
   "metadata": {},
   "outputs": [],
   "source": [
    "test.to_csv(r'C:\\Users\\zhong\\Downloads\\pbp_testing_data.csv',index = False)"
   ]
  },
  {
   "cell_type": "code",
   "execution_count": 34,
   "metadata": {},
   "outputs": [
    {
     "data": {
      "text/html": [
       "<div>\n",
       "<style scoped>\n",
       "    .dataframe tbody tr th:only-of-type {\n",
       "        vertical-align: middle;\n",
       "    }\n",
       "\n",
       "    .dataframe tbody tr th {\n",
       "        vertical-align: top;\n",
       "    }\n",
       "\n",
       "    .dataframe thead th {\n",
       "        text-align: right;\n",
       "    }\n",
       "</style>\n",
       "<table border=\"1\" class=\"dataframe\">\n",
       "  <thead>\n",
       "    <tr style=\"text-align: right;\">\n",
       "      <th></th>\n",
       "      <th>GameId</th>\n",
       "      <th>Quarter</th>\n",
       "      <th>Minute</th>\n",
       "      <th>Second</th>\n",
       "      <th>Remaining</th>\n",
       "      <th>Down</th>\n",
       "      <th>ToGo</th>\n",
       "      <th>YardLine</th>\n",
       "      <th>SeasonYear</th>\n",
       "      <th>Yards</th>\n",
       "      <th>...</th>\n",
       "      <th>Def_Pass_Overall_rank</th>\n",
       "      <th>Def_Rush_Overall_rank</th>\n",
       "      <th>IsHuddleShotgun</th>\n",
       "      <th>IsHuddleUndercenter</th>\n",
       "      <th>IsNohuddleShotgun</th>\n",
       "      <th>IsNohuddleUndercenter</th>\n",
       "      <th>distance_to_TD</th>\n",
       "      <th>cum_intcps_in_game</th>\n",
       "      <th>cum_fumbles_in_game</th>\n",
       "      <th>cum_passincplts_in_game</th>\n",
       "    </tr>\n",
       "  </thead>\n",
       "  <tbody>\n",
       "    <tr>\n",
       "      <td>count</td>\n",
       "      <td>9.418200e+04</td>\n",
       "      <td>94182.000000</td>\n",
       "      <td>94182.000000</td>\n",
       "      <td>94182.000000</td>\n",
       "      <td>94182.000000</td>\n",
       "      <td>94182.000000</td>\n",
       "      <td>94182.000000</td>\n",
       "      <td>94182.000000</td>\n",
       "      <td>94182.000000</td>\n",
       "      <td>94182.000000</td>\n",
       "      <td>...</td>\n",
       "      <td>94182.000000</td>\n",
       "      <td>94182.000000</td>\n",
       "      <td>94182.000000</td>\n",
       "      <td>94182.000000</td>\n",
       "      <td>94182.000000</td>\n",
       "      <td>94182.000000</td>\n",
       "      <td>94182.000000</td>\n",
       "      <td>94182.000000</td>\n",
       "      <td>94182.000000</td>\n",
       "      <td>94182.000000</td>\n",
       "    </tr>\n",
       "    <tr>\n",
       "      <td>mean</td>\n",
       "      <td>2.017487e+09</td>\n",
       "      <td>2.553195</td>\n",
       "      <td>6.753987</td>\n",
       "      <td>28.518093</td>\n",
       "      <td>1735.881920</td>\n",
       "      <td>1.780234</td>\n",
       "      <td>8.660200</td>\n",
       "      <td>48.223663</td>\n",
       "      <td>2017.365027</td>\n",
       "      <td>6.188507</td>\n",
       "      <td>...</td>\n",
       "      <td>2.610732</td>\n",
       "      <td>2.205029</td>\n",
       "      <td>0.548682</td>\n",
       "      <td>0.359772</td>\n",
       "      <td>0.074101</td>\n",
       "      <td>0.017445</td>\n",
       "      <td>51.776337</td>\n",
       "      <td>0.773311</td>\n",
       "      <td>0.532437</td>\n",
       "      <td>12.811779</td>\n",
       "    </tr>\n",
       "    <tr>\n",
       "      <td>std</td>\n",
       "      <td>1.058984e+06</td>\n",
       "      <td>1.128737</td>\n",
       "      <td>4.514385</td>\n",
       "      <td>17.761872</td>\n",
       "      <td>1055.724838</td>\n",
       "      <td>0.814752</td>\n",
       "      <td>3.996027</td>\n",
       "      <td>24.430102</td>\n",
       "      <td>1.074169</td>\n",
       "      <td>9.014051</td>\n",
       "      <td>...</td>\n",
       "      <td>0.787377</td>\n",
       "      <td>1.061287</td>\n",
       "      <td>0.497627</td>\n",
       "      <td>0.479936</td>\n",
       "      <td>0.261937</td>\n",
       "      <td>0.130923</td>\n",
       "      <td>24.430102</td>\n",
       "      <td>1.003303</td>\n",
       "      <td>0.786498</td>\n",
       "      <td>8.697750</td>\n",
       "    </tr>\n",
       "    <tr>\n",
       "      <td>min</td>\n",
       "      <td>2.016091e+09</td>\n",
       "      <td>1.000000</td>\n",
       "      <td>0.000000</td>\n",
       "      <td>0.000000</td>\n",
       "      <td>-898.000000</td>\n",
       "      <td>0.000000</td>\n",
       "      <td>0.000000</td>\n",
       "      <td>1.000000</td>\n",
       "      <td>2016.000000</td>\n",
       "      <td>-23.000000</td>\n",
       "      <td>...</td>\n",
       "      <td>1.000000</td>\n",
       "      <td>1.000000</td>\n",
       "      <td>0.000000</td>\n",
       "      <td>0.000000</td>\n",
       "      <td>0.000000</td>\n",
       "      <td>0.000000</td>\n",
       "      <td>1.000000</td>\n",
       "      <td>0.000000</td>\n",
       "      <td>0.000000</td>\n",
       "      <td>0.000000</td>\n",
       "    </tr>\n",
       "    <tr>\n",
       "      <td>25%</td>\n",
       "      <td>2.016122e+09</td>\n",
       "      <td>2.000000</td>\n",
       "      <td>3.000000</td>\n",
       "      <td>13.000000</td>\n",
       "      <td>829.000000</td>\n",
       "      <td>1.000000</td>\n",
       "      <td>6.000000</td>\n",
       "      <td>27.000000</td>\n",
       "      <td>2016.000000</td>\n",
       "      <td>0.000000</td>\n",
       "      <td>...</td>\n",
       "      <td>2.000000</td>\n",
       "      <td>1.000000</td>\n",
       "      <td>0.000000</td>\n",
       "      <td>0.000000</td>\n",
       "      <td>0.000000</td>\n",
       "      <td>0.000000</td>\n",
       "      <td>33.000000</td>\n",
       "      <td>0.000000</td>\n",
       "      <td>0.000000</td>\n",
       "      <td>5.000000</td>\n",
       "    </tr>\n",
       "    <tr>\n",
       "      <td>50%</td>\n",
       "      <td>2.017122e+09</td>\n",
       "      <td>3.000000</td>\n",
       "      <td>7.000000</td>\n",
       "      <td>28.000000</td>\n",
       "      <td>1800.000000</td>\n",
       "      <td>2.000000</td>\n",
       "      <td>10.000000</td>\n",
       "      <td>44.000000</td>\n",
       "      <td>2017.000000</td>\n",
       "      <td>4.000000</td>\n",
       "      <td>...</td>\n",
       "      <td>3.000000</td>\n",
       "      <td>2.000000</td>\n",
       "      <td>1.000000</td>\n",
       "      <td>0.000000</td>\n",
       "      <td>0.000000</td>\n",
       "      <td>0.000000</td>\n",
       "      <td>56.000000</td>\n",
       "      <td>0.000000</td>\n",
       "      <td>0.000000</td>\n",
       "      <td>12.000000</td>\n",
       "    </tr>\n",
       "    <tr>\n",
       "      <td>75%</td>\n",
       "      <td>2.018121e+09</td>\n",
       "      <td>4.000000</td>\n",
       "      <td>11.000000</td>\n",
       "      <td>44.000000</td>\n",
       "      <td>2632.000000</td>\n",
       "      <td>2.000000</td>\n",
       "      <td>10.000000</td>\n",
       "      <td>67.000000</td>\n",
       "      <td>2018.000000</td>\n",
       "      <td>9.000000</td>\n",
       "      <td>...</td>\n",
       "      <td>3.000000</td>\n",
       "      <td>3.000000</td>\n",
       "      <td>1.000000</td>\n",
       "      <td>1.000000</td>\n",
       "      <td>0.000000</td>\n",
       "      <td>0.000000</td>\n",
       "      <td>73.000000</td>\n",
       "      <td>1.000000</td>\n",
       "      <td>1.000000</td>\n",
       "      <td>19.000000</td>\n",
       "    </tr>\n",
       "    <tr>\n",
       "      <td>max</td>\n",
       "      <td>2.019112e+09</td>\n",
       "      <td>5.000000</td>\n",
       "      <td>15.000000</td>\n",
       "      <td>59.000000</td>\n",
       "      <td>3600.000000</td>\n",
       "      <td>4.000000</td>\n",
       "      <td>43.000000</td>\n",
       "      <td>99.000000</td>\n",
       "      <td>2019.000000</td>\n",
       "      <td>104.000000</td>\n",
       "      <td>...</td>\n",
       "      <td>4.000000</td>\n",
       "      <td>4.000000</td>\n",
       "      <td>1.000000</td>\n",
       "      <td>1.000000</td>\n",
       "      <td>1.000000</td>\n",
       "      <td>1.000000</td>\n",
       "      <td>99.000000</td>\n",
       "      <td>7.000000</td>\n",
       "      <td>6.000000</td>\n",
       "      <td>47.000000</td>\n",
       "    </tr>\n",
       "  </tbody>\n",
       "</table>\n",
       "<p>8 rows × 49 columns</p>\n",
       "</div>"
      ],
      "text/plain": [
       "             GameId       Quarter        Minute        Second     Remaining  \\\n",
       "count  9.418200e+04  94182.000000  94182.000000  94182.000000  94182.000000   \n",
       "mean   2.017487e+09      2.553195      6.753987     28.518093   1735.881920   \n",
       "std    1.058984e+06      1.128737      4.514385     17.761872   1055.724838   \n",
       "min    2.016091e+09      1.000000      0.000000      0.000000   -898.000000   \n",
       "25%    2.016122e+09      2.000000      3.000000     13.000000    829.000000   \n",
       "50%    2.017122e+09      3.000000      7.000000     28.000000   1800.000000   \n",
       "75%    2.018121e+09      4.000000     11.000000     44.000000   2632.000000   \n",
       "max    2.019112e+09      5.000000     15.000000     59.000000   3600.000000   \n",
       "\n",
       "               Down          ToGo      YardLine    SeasonYear         Yards  \\\n",
       "count  94182.000000  94182.000000  94182.000000  94182.000000  94182.000000   \n",
       "mean       1.780234      8.660200     48.223663   2017.365027      6.188507   \n",
       "std        0.814752      3.996027     24.430102      1.074169      9.014051   \n",
       "min        0.000000      0.000000      1.000000   2016.000000    -23.000000   \n",
       "25%        1.000000      6.000000     27.000000   2016.000000      0.000000   \n",
       "50%        2.000000     10.000000     44.000000   2017.000000      4.000000   \n",
       "75%        2.000000     10.000000     67.000000   2018.000000      9.000000   \n",
       "max        4.000000     43.000000     99.000000   2019.000000    104.000000   \n",
       "\n",
       "       ...  Def_Pass_Overall_rank  Def_Rush_Overall_rank  IsHuddleShotgun  \\\n",
       "count  ...           94182.000000           94182.000000     94182.000000   \n",
       "mean   ...               2.610732               2.205029         0.548682   \n",
       "std    ...               0.787377               1.061287         0.497627   \n",
       "min    ...               1.000000               1.000000         0.000000   \n",
       "25%    ...               2.000000               1.000000         0.000000   \n",
       "50%    ...               3.000000               2.000000         1.000000   \n",
       "75%    ...               3.000000               3.000000         1.000000   \n",
       "max    ...               4.000000               4.000000         1.000000   \n",
       "\n",
       "       IsHuddleUndercenter  IsNohuddleShotgun  IsNohuddleUndercenter  \\\n",
       "count         94182.000000       94182.000000           94182.000000   \n",
       "mean              0.359772           0.074101               0.017445   \n",
       "std               0.479936           0.261937               0.130923   \n",
       "min               0.000000           0.000000               0.000000   \n",
       "25%               0.000000           0.000000               0.000000   \n",
       "50%               0.000000           0.000000               0.000000   \n",
       "75%               1.000000           0.000000               0.000000   \n",
       "max               1.000000           1.000000               1.000000   \n",
       "\n",
       "       distance_to_TD  cum_intcps_in_game  cum_fumbles_in_game  \\\n",
       "count    94182.000000        94182.000000         94182.000000   \n",
       "mean        51.776337            0.773311             0.532437   \n",
       "std         24.430102            1.003303             0.786498   \n",
       "min          1.000000            0.000000             0.000000   \n",
       "25%         33.000000            0.000000             0.000000   \n",
       "50%         56.000000            0.000000             0.000000   \n",
       "75%         73.000000            1.000000             1.000000   \n",
       "max         99.000000            7.000000             6.000000   \n",
       "\n",
       "       cum_passincplts_in_game  \n",
       "count             94182.000000  \n",
       "mean                 12.811779  \n",
       "std                   8.697750  \n",
       "min                   0.000000  \n",
       "25%                   5.000000  \n",
       "50%                  12.000000  \n",
       "75%                  19.000000  \n",
       "max                  47.000000  \n",
       "\n",
       "[8 rows x 49 columns]"
      ]
     },
     "execution_count": 34,
     "metadata": {},
     "output_type": "execute_result"
    }
   ],
   "source": [
    "data.describe()"
   ]
  },
  {
   "cell_type": "code",
   "execution_count": 35,
   "metadata": {},
   "outputs": [
    {
     "data": {
      "text/html": [
       "<div>\n",
       "<style scoped>\n",
       "    .dataframe tbody tr th:only-of-type {\n",
       "        vertical-align: middle;\n",
       "    }\n",
       "\n",
       "    .dataframe tbody tr th {\n",
       "        vertical-align: top;\n",
       "    }\n",
       "\n",
       "    .dataframe thead th {\n",
       "        text-align: right;\n",
       "    }\n",
       "</style>\n",
       "<table border=\"1\" class=\"dataframe\">\n",
       "  <thead>\n",
       "    <tr style=\"text-align: right;\">\n",
       "      <th></th>\n",
       "      <th>GameId</th>\n",
       "      <th>Quarter</th>\n",
       "      <th>Minute</th>\n",
       "      <th>Second</th>\n",
       "      <th>Remaining</th>\n",
       "      <th>Down</th>\n",
       "      <th>ToGo</th>\n",
       "      <th>YardLine</th>\n",
       "      <th>SeasonYear</th>\n",
       "      <th>Yards</th>\n",
       "      <th>...</th>\n",
       "      <th>Def_Pass_Overall_rank</th>\n",
       "      <th>Def_Rush_Overall_rank</th>\n",
       "      <th>IsHuddleShotgun</th>\n",
       "      <th>IsHuddleUndercenter</th>\n",
       "      <th>IsNohuddleShotgun</th>\n",
       "      <th>IsNohuddleUndercenter</th>\n",
       "      <th>distance_to_TD</th>\n",
       "      <th>cum_intcps_in_game</th>\n",
       "      <th>cum_fumbles_in_game</th>\n",
       "      <th>cum_passincplts_in_game</th>\n",
       "    </tr>\n",
       "  </thead>\n",
       "  <tbody>\n",
       "    <tr>\n",
       "      <td>count</td>\n",
       "      <td>2.354600e+04</td>\n",
       "      <td>23546.000000</td>\n",
       "      <td>23546.000000</td>\n",
       "      <td>23546.000000</td>\n",
       "      <td>23546.000000</td>\n",
       "      <td>23546.000000</td>\n",
       "      <td>23546.000000</td>\n",
       "      <td>23546.000000</td>\n",
       "      <td>23546.000000</td>\n",
       "      <td>23546.000000</td>\n",
       "      <td>...</td>\n",
       "      <td>23546.000000</td>\n",
       "      <td>23546.000000</td>\n",
       "      <td>23546.000000</td>\n",
       "      <td>23546.000000</td>\n",
       "      <td>23546.000000</td>\n",
       "      <td>23546.000000</td>\n",
       "      <td>23546.000000</td>\n",
       "      <td>23546.000000</td>\n",
       "      <td>23546.000000</td>\n",
       "      <td>23546.000000</td>\n",
       "    </tr>\n",
       "    <tr>\n",
       "      <td>mean</td>\n",
       "      <td>2.017483e+09</td>\n",
       "      <td>2.554744</td>\n",
       "      <td>6.775758</td>\n",
       "      <td>28.850166</td>\n",
       "      <td>1736.126136</td>\n",
       "      <td>1.785569</td>\n",
       "      <td>8.650259</td>\n",
       "      <td>48.323877</td>\n",
       "      <td>2017.361463</td>\n",
       "      <td>6.258685</td>\n",
       "      <td>...</td>\n",
       "      <td>2.604689</td>\n",
       "      <td>2.219358</td>\n",
       "      <td>0.555891</td>\n",
       "      <td>0.353691</td>\n",
       "      <td>0.072284</td>\n",
       "      <td>0.018135</td>\n",
       "      <td>51.676123</td>\n",
       "      <td>0.788244</td>\n",
       "      <td>0.526714</td>\n",
       "      <td>12.813726</td>\n",
       "    </tr>\n",
       "    <tr>\n",
       "      <td>std</td>\n",
       "      <td>1.062650e+06</td>\n",
       "      <td>1.125808</td>\n",
       "      <td>4.503424</td>\n",
       "      <td>17.708960</td>\n",
       "      <td>1053.448232</td>\n",
       "      <td>0.813100</td>\n",
       "      <td>3.983769</td>\n",
       "      <td>24.322352</td>\n",
       "      <td>1.077001</td>\n",
       "      <td>8.978357</td>\n",
       "      <td>...</td>\n",
       "      <td>0.789140</td>\n",
       "      <td>1.063857</td>\n",
       "      <td>0.496877</td>\n",
       "      <td>0.478125</td>\n",
       "      <td>0.258963</td>\n",
       "      <td>0.133441</td>\n",
       "      <td>24.322352</td>\n",
       "      <td>1.013944</td>\n",
       "      <td>0.776532</td>\n",
       "      <td>8.677725</td>\n",
       "    </tr>\n",
       "    <tr>\n",
       "      <td>min</td>\n",
       "      <td>2.016091e+09</td>\n",
       "      <td>1.000000</td>\n",
       "      <td>0.000000</td>\n",
       "      <td>0.000000</td>\n",
       "      <td>-898.000000</td>\n",
       "      <td>0.000000</td>\n",
       "      <td>0.000000</td>\n",
       "      <td>1.000000</td>\n",
       "      <td>2016.000000</td>\n",
       "      <td>-12.000000</td>\n",
       "      <td>...</td>\n",
       "      <td>1.000000</td>\n",
       "      <td>1.000000</td>\n",
       "      <td>0.000000</td>\n",
       "      <td>0.000000</td>\n",
       "      <td>0.000000</td>\n",
       "      <td>0.000000</td>\n",
       "      <td>1.000000</td>\n",
       "      <td>0.000000</td>\n",
       "      <td>0.000000</td>\n",
       "      <td>0.000000</td>\n",
       "    </tr>\n",
       "    <tr>\n",
       "      <td>25%</td>\n",
       "      <td>2.016122e+09</td>\n",
       "      <td>2.000000</td>\n",
       "      <td>3.000000</td>\n",
       "      <td>14.000000</td>\n",
       "      <td>840.000000</td>\n",
       "      <td>1.000000</td>\n",
       "      <td>6.000000</td>\n",
       "      <td>28.000000</td>\n",
       "      <td>2016.000000</td>\n",
       "      <td>0.000000</td>\n",
       "      <td>...</td>\n",
       "      <td>2.000000</td>\n",
       "      <td>1.000000</td>\n",
       "      <td>0.000000</td>\n",
       "      <td>0.000000</td>\n",
       "      <td>0.000000</td>\n",
       "      <td>0.000000</td>\n",
       "      <td>33.000000</td>\n",
       "      <td>0.000000</td>\n",
       "      <td>0.000000</td>\n",
       "      <td>5.000000</td>\n",
       "    </tr>\n",
       "    <tr>\n",
       "      <td>50%</td>\n",
       "      <td>2.017122e+09</td>\n",
       "      <td>3.000000</td>\n",
       "      <td>7.000000</td>\n",
       "      <td>29.000000</td>\n",
       "      <td>1800.000000</td>\n",
       "      <td>2.000000</td>\n",
       "      <td>10.000000</td>\n",
       "      <td>45.000000</td>\n",
       "      <td>2017.000000</td>\n",
       "      <td>4.000000</td>\n",
       "      <td>...</td>\n",
       "      <td>3.000000</td>\n",
       "      <td>2.000000</td>\n",
       "      <td>1.000000</td>\n",
       "      <td>0.000000</td>\n",
       "      <td>0.000000</td>\n",
       "      <td>0.000000</td>\n",
       "      <td>55.000000</td>\n",
       "      <td>0.000000</td>\n",
       "      <td>0.000000</td>\n",
       "      <td>12.000000</td>\n",
       "    </tr>\n",
       "    <tr>\n",
       "      <td>75%</td>\n",
       "      <td>2.018121e+09</td>\n",
       "      <td>4.000000</td>\n",
       "      <td>11.000000</td>\n",
       "      <td>44.000000</td>\n",
       "      <td>2620.000000</td>\n",
       "      <td>2.000000</td>\n",
       "      <td>10.000000</td>\n",
       "      <td>67.000000</td>\n",
       "      <td>2018.000000</td>\n",
       "      <td>9.000000</td>\n",
       "      <td>...</td>\n",
       "      <td>3.000000</td>\n",
       "      <td>3.000000</td>\n",
       "      <td>1.000000</td>\n",
       "      <td>1.000000</td>\n",
       "      <td>0.000000</td>\n",
       "      <td>0.000000</td>\n",
       "      <td>72.000000</td>\n",
       "      <td>1.000000</td>\n",
       "      <td>1.000000</td>\n",
       "      <td>19.000000</td>\n",
       "    </tr>\n",
       "    <tr>\n",
       "      <td>max</td>\n",
       "      <td>2.019112e+09</td>\n",
       "      <td>5.000000</td>\n",
       "      <td>15.000000</td>\n",
       "      <td>59.000000</td>\n",
       "      <td>3600.000000</td>\n",
       "      <td>4.000000</td>\n",
       "      <td>44.000000</td>\n",
       "      <td>99.000000</td>\n",
       "      <td>2019.000000</td>\n",
       "      <td>99.000000</td>\n",
       "      <td>...</td>\n",
       "      <td>4.000000</td>\n",
       "      <td>4.000000</td>\n",
       "      <td>1.000000</td>\n",
       "      <td>1.000000</td>\n",
       "      <td>1.000000</td>\n",
       "      <td>1.000000</td>\n",
       "      <td>99.000000</td>\n",
       "      <td>7.000000</td>\n",
       "      <td>6.000000</td>\n",
       "      <td>46.000000</td>\n",
       "    </tr>\n",
       "  </tbody>\n",
       "</table>\n",
       "<p>8 rows × 49 columns</p>\n",
       "</div>"
      ],
      "text/plain": [
       "             GameId       Quarter        Minute        Second     Remaining  \\\n",
       "count  2.354600e+04  23546.000000  23546.000000  23546.000000  23546.000000   \n",
       "mean   2.017483e+09      2.554744      6.775758     28.850166   1736.126136   \n",
       "std    1.062650e+06      1.125808      4.503424     17.708960   1053.448232   \n",
       "min    2.016091e+09      1.000000      0.000000      0.000000   -898.000000   \n",
       "25%    2.016122e+09      2.000000      3.000000     14.000000    840.000000   \n",
       "50%    2.017122e+09      3.000000      7.000000     29.000000   1800.000000   \n",
       "75%    2.018121e+09      4.000000     11.000000     44.000000   2620.000000   \n",
       "max    2.019112e+09      5.000000     15.000000     59.000000   3600.000000   \n",
       "\n",
       "               Down          ToGo      YardLine    SeasonYear         Yards  \\\n",
       "count  23546.000000  23546.000000  23546.000000  23546.000000  23546.000000   \n",
       "mean       1.785569      8.650259     48.323877   2017.361463      6.258685   \n",
       "std        0.813100      3.983769     24.322352      1.077001      8.978357   \n",
       "min        0.000000      0.000000      1.000000   2016.000000    -12.000000   \n",
       "25%        1.000000      6.000000     28.000000   2016.000000      0.000000   \n",
       "50%        2.000000     10.000000     45.000000   2017.000000      4.000000   \n",
       "75%        2.000000     10.000000     67.000000   2018.000000      9.000000   \n",
       "max        4.000000     44.000000     99.000000   2019.000000     99.000000   \n",
       "\n",
       "       ...  Def_Pass_Overall_rank  Def_Rush_Overall_rank  IsHuddleShotgun  \\\n",
       "count  ...           23546.000000           23546.000000     23546.000000   \n",
       "mean   ...               2.604689               2.219358         0.555891   \n",
       "std    ...               0.789140               1.063857         0.496877   \n",
       "min    ...               1.000000               1.000000         0.000000   \n",
       "25%    ...               2.000000               1.000000         0.000000   \n",
       "50%    ...               3.000000               2.000000         1.000000   \n",
       "75%    ...               3.000000               3.000000         1.000000   \n",
       "max    ...               4.000000               4.000000         1.000000   \n",
       "\n",
       "       IsHuddleUndercenter  IsNohuddleShotgun  IsNohuddleUndercenter  \\\n",
       "count         23546.000000       23546.000000           23546.000000   \n",
       "mean              0.353691           0.072284               0.018135   \n",
       "std               0.478125           0.258963               0.133441   \n",
       "min               0.000000           0.000000               0.000000   \n",
       "25%               0.000000           0.000000               0.000000   \n",
       "50%               0.000000           0.000000               0.000000   \n",
       "75%               1.000000           0.000000               0.000000   \n",
       "max               1.000000           1.000000               1.000000   \n",
       "\n",
       "       distance_to_TD  cum_intcps_in_game  cum_fumbles_in_game  \\\n",
       "count    23546.000000        23546.000000         23546.000000   \n",
       "mean        51.676123            0.788244             0.526714   \n",
       "std         24.322352            1.013944             0.776532   \n",
       "min          1.000000            0.000000             0.000000   \n",
       "25%         33.000000            0.000000             0.000000   \n",
       "50%         55.000000            0.000000             0.000000   \n",
       "75%         72.000000            1.000000             1.000000   \n",
       "max         99.000000            7.000000             6.000000   \n",
       "\n",
       "       cum_passincplts_in_game  \n",
       "count             23546.000000  \n",
       "mean                 12.813726  \n",
       "std                   8.677725  \n",
       "min                   0.000000  \n",
       "25%                   5.000000  \n",
       "50%                  12.000000  \n",
       "75%                  19.000000  \n",
       "max                  46.000000  \n",
       "\n",
       "[8 rows x 49 columns]"
      ]
     },
     "execution_count": 35,
     "metadata": {},
     "output_type": "execute_result"
    }
   ],
   "source": [
    "test.describe()"
   ]
  },
  {
   "cell_type": "code",
   "execution_count": null,
   "metadata": {},
   "outputs": [],
   "source": []
  },
  {
   "cell_type": "markdown",
   "metadata": {},
   "source": [
    "# Logistic models using all the features"
   ]
  },
  {
   "cell_type": "markdown",
   "metadata": {},
   "source": [
    "<b>Several Logistic Regression Assumptions that we keep in mind</b>\n",
    "<li>1. Binary logistic regression requires the dependent variable to be binary.\n",
    "<li>2. For a binary regression, the factor level 1 of the dependent variable should represent the desired outcome.\n",
    "<li>3. Only the meaningful variables should be included.\n",
    "<li>4. The independent variables should be independent of each other. That is, the model should have little or no multicollinearity.\n",
    "<li>5. The independent variables are linearly related to the log odds.\n",
    "<li>6. Logistic regression requires quite large sample sizes."
   ]
  },
  {
   "cell_type": "markdown",
   "metadata": {},
   "source": [
    "<b>Linear regression of Y (IsPass) on all features</b>\n",
    "<li>We find not all features are statistically significant. In fact, only 23 out of 43 features are significant.\n",
    "<li>To avoid multicollinearity, we should not include all features in the logistic model.\n",
    "<li>However, since our goal is maximize the accuracy prediction of our models, we'll both include all the features and only use significant features in all the following models to see which choice yields a more accurate result.\n"
   ]
  },
  {
   "cell_type": "code",
   "execution_count": 36,
   "metadata": {},
   "outputs": [
    {
     "name": "stdout",
     "output_type": "stream",
     "text": [
      "# of all features:  57\n",
      "# of unused variables:  14\n",
      "# of used features:  43\n"
     ]
    }
   ],
   "source": [
    "unused_features = ['GameId', 'GameDate', 'OffenseTeam','DefenseTeam', 'YardLine', 'Description','Yards','Formation', 'IsRush','IsPass','PassType','RushDirection','YardLineFixed','YardLineDirection']\n",
    "features = [i for i in df_tmp.columns.tolist() if i not in unused_features]\n",
    "print('# of all features: ',len(df_tmp.columns.tolist()))\n",
    "print('# of unused variables: ',len(unused_features))\n",
    "print('# of used features: ',len(features))"
   ]
  },
  {
   "cell_type": "code",
   "execution_count": 37,
   "metadata": {},
   "outputs": [
    {
     "name": "stdout",
     "output_type": "stream",
     "text": [
      "# of feature_list2:  20\n"
     ]
    }
   ],
   "source": [
    "feature_list_2 = ['Quarter', 'Minute', 'Second', 'Remaining', 'Down', 'ToGo', 'SeasonYear', 'PointDiff', 'Off_Pass_Overall_rank', \\\n",
    "                'Off_Rush_Overall_rank', 'Def_Pass_Overall_rank', 'Def_Rush_Overall_rank', 'IsHuddleShotgun', 'IsHuddleUndercenter', \\\n",
    "                'IsNohuddleShotgun', 'IsNohuddleUndercenter','distance_to_TD', 'cum_intcps_in_game', 'cum_fumbles_in_game', \\\n",
    "                'cum_passincplts_in_game']\n",
    "print('# of feature_list2: ',len(feature_list_2))"
   ]
  },
  {
   "cell_type": "markdown",
   "metadata": {},
   "source": [
    "<b>Split the training dataset to 80% traindata & 20% testdata</b>\n",
    "- 'data': 80% of the whole pbp dataset, used for training models\n",
    "- 'Testdata': 20% of the whole pbp dataset, used for testing models\n",
    "- 'traindata': 80% of the 'data', used for training models\n",
    "- 'testdata'： 20% of the 'data', used for testing models and cross validation"
   ]
  },
  {
   "cell_type": "code",
   "execution_count": 38,
   "metadata": {},
   "outputs": [],
   "source": [
    "traindata, testdata = train_test_split(data,test_size = 0.2,random_state = 10)"
   ]
  },
  {
   "cell_type": "code",
   "execution_count": 39,
   "metadata": {},
   "outputs": [],
   "source": [
    "X = traindata[features]\n",
    "y = traindata['IsPass']"
   ]
  },
  {
   "cell_type": "markdown",
   "metadata": {},
   "source": [
    "<b>Try different combinations of hyperparameters, get a broad sense of how accurate the logistic model could be</b>\n",
    "- Model7 with penalty = 'l1' and max_iter = 200 seems to yield the highest testing accuracy."
   ]
  },
  {
   "cell_type": "code",
   "execution_count": 40,
   "metadata": {},
   "outputs": [
    {
     "name": "stdout",
     "output_type": "stream",
     "text": [
      "training accuracy:  0.7200610524918707\n",
      "testing accuracy:  0.7186388490736317\n"
     ]
    }
   ],
   "source": [
    "logit_model1 = linear_model.LogisticRegression()\n",
    "logit_model1.fit(X,y)\n",
    "print('training accuracy: ', logit_model1.score(X,y))\n",
    "print('testing accuracy: ', logit_model1.score(testdata[features],testdata['IsPass']))"
   ]
  },
  {
   "cell_type": "code",
   "execution_count": 41,
   "metadata": {},
   "outputs": [
    {
     "name": "stdout",
     "output_type": "stream",
     "text": [
      "training accuracy:  0.7200610524918707\n",
      "testing accuracy:  0.7186388490736317\n"
     ]
    }
   ],
   "source": [
    "logit_model2 = linear_model.LogisticRegression(max_iter = 300)\n",
    "logit_model2.fit(X,y)\n",
    "print('training accuracy: ', logit_model2.score(X,y))\n",
    "print('testing accuracy: ', logit_model2.score(testdata[features],testdata['IsPass']))"
   ]
  },
  {
   "cell_type": "code",
   "execution_count": 42,
   "metadata": {},
   "outputs": [
    {
     "name": "stderr",
     "output_type": "stream",
     "text": [
      "D:\\Anaconda\\lib\\site-packages\\scipy\\optimize\\linesearch.py:462: LineSearchWarning: The line search algorithm did not converge\n",
      "  warn('The line search algorithm did not converge', LineSearchWarning)\n",
      "D:\\Anaconda\\lib\\site-packages\\scipy\\optimize\\linesearch.py:313: LineSearchWarning: The line search algorithm did not converge\n",
      "  warn('The line search algorithm did not converge', LineSearchWarning)\n"
     ]
    },
    {
     "name": "stdout",
     "output_type": "stream",
     "text": [
      "training accuracy:  0.7201406861769195\n",
      "testing accuracy:  0.7191697191697192\n"
     ]
    },
    {
     "name": "stderr",
     "output_type": "stream",
     "text": [
      "D:\\Anaconda\\lib\\site-packages\\scipy\\optimize\\linesearch.py:422: LineSearchWarning: Rounding errors prevent the line search from converging\n",
      "  warn(msg, LineSearchWarning)\n",
      "D:\\Anaconda\\lib\\site-packages\\sklearn\\utils\\optimize.py:195: UserWarning: Line Search failed\n",
      "  warnings.warn('Line Search failed')\n"
     ]
    }
   ],
   "source": [
    "logit_model3 = linear_model.LogisticRegression(solver = 'newton-cg',max_iter = 200)\n",
    "logit_model3.fit(X,y)\n",
    "print('training accuracy: ', logit_model3.score(X,y))\n",
    "print('testing accuracy: ', logit_model3.score(testdata[features],testdata['IsPass']))"
   ]
  },
  {
   "cell_type": "code",
   "execution_count": 43,
   "metadata": {},
   "outputs": [
    {
     "name": "stdout",
     "output_type": "stream",
     "text": [
      "training accuracy:  0.7200610524918707\n",
      "testing accuracy:  0.7186388490736317\n"
     ]
    }
   ],
   "source": [
    "logit_model4 = linear_model.LogisticRegression(solver = 'liblinear',max_iter = 200)\n",
    "logit_model4.fit(X,y)\n",
    "print('training accuracy: ', logit_model4.score(X,y))\n",
    "print('testing accuracy: ', logit_model4.score(testdata[features],testdata['IsPass']))"
   ]
  },
  {
   "cell_type": "code",
   "execution_count": 44,
   "metadata": {},
   "outputs": [
    {
     "name": "stdout",
     "output_type": "stream",
     "text": [
      "training accuracy:  0.6807618289202999\n",
      "testing accuracy:  0.6753729362425015\n"
     ]
    },
    {
     "name": "stderr",
     "output_type": "stream",
     "text": [
      "D:\\Anaconda\\lib\\site-packages\\sklearn\\linear_model\\sag.py:326: ConvergenceWarning: The max_iter was reached which means the coef_ did not converge\n",
      "  \"the coef_ did not converge\", ConvergenceWarning)\n"
     ]
    }
   ],
   "source": [
    "logit_model5 = linear_model.LogisticRegression(solver = 'sag',max_iter = 200)\n",
    "logit_model5.fit(X,y)\n",
    "print('training accuracy: ', logit_model5.score(X,y))\n",
    "print('testing accuracy: ', logit_model5.score(testdata[features],testdata['IsPass']))"
   ]
  },
  {
   "cell_type": "code",
   "execution_count": 45,
   "metadata": {},
   "outputs": [
    {
     "name": "stdout",
     "output_type": "stream",
     "text": [
      "training accuracy:  0.6518813458092774\n",
      "testing accuracy:  0.6469182990922121\n"
     ]
    },
    {
     "name": "stderr",
     "output_type": "stream",
     "text": [
      "D:\\Anaconda\\lib\\site-packages\\sklearn\\linear_model\\sag.py:326: ConvergenceWarning: The max_iter was reached which means the coef_ did not converge\n",
      "  \"the coef_ did not converge\", ConvergenceWarning)\n"
     ]
    }
   ],
   "source": [
    "logit_model6 = linear_model.LogisticRegression(solver = 'saga',max_iter = 200)\n",
    "logit_model6.fit(X,y)\n",
    "print('training accuracy: ', logit_model6.score(X,y))\n",
    "print('testing accuracy: ', logit_model6.score(testdata[features],testdata['IsPass']))"
   ]
  },
  {
   "cell_type": "code",
   "execution_count": 46,
   "metadata": {},
   "outputs": [
    {
     "name": "stdout",
     "output_type": "stream",
     "text": [
      "training accuracy:  0.7201008693343951\n",
      "testing accuracy:  0.7186388490736317\n"
     ]
    }
   ],
   "source": [
    "logit_model7 = linear_model.LogisticRegression(penalty='l1',max_iter = 200)\n",
    "logit_model7.fit(X,y)\n",
    "print('training accuracy: ', logit_model7.score(X,y))\n",
    "print('testing accuracy: ', logit_model7.score(testdata[features],testdata['IsPass']))"
   ]
  },
  {
   "cell_type": "code",
   "execution_count": 47,
   "metadata": {
    "scrolled": true
   },
   "outputs": [
    {
     "name": "stdout",
     "output_type": "stream",
     "text": [
      "training accuracy:  0.7200875970535536\n",
      "testing accuracy:  0.7186388490736317\n"
     ]
    }
   ],
   "source": [
    "logit_model8 = linear_model.LogisticRegression(penalty='l1',max_iter = 300)\n",
    "logit_model8.fit(X,y)\n",
    "print('training accuracy: ', logit_model8.score(X,y))\n",
    "print('testing accuracy: ', logit_model8.score(testdata[features],testdata['IsPass']))"
   ]
  },
  {
   "cell_type": "code",
   "execution_count": 49,
   "metadata": {},
   "outputs": [
    {
     "name": "stderr",
     "output_type": "stream",
     "text": [
      "D:\\Anaconda\\lib\\site-packages\\scipy\\optimize\\linesearch.py:462: LineSearchWarning: The line search algorithm did not converge\n",
      "  warn('The line search algorithm did not converge', LineSearchWarning)\n",
      "D:\\Anaconda\\lib\\site-packages\\scipy\\optimize\\linesearch.py:313: LineSearchWarning: The line search algorithm did not converge\n",
      "  warn('The line search algorithm did not converge', LineSearchWarning)\n"
     ]
    },
    {
     "name": "stdout",
     "output_type": "stream",
     "text": [
      "training accuracy:  0.7201406861769195\n",
      "testing accuracy:  0.7191697191697192\n"
     ]
    },
    {
     "name": "stderr",
     "output_type": "stream",
     "text": [
      "D:\\Anaconda\\lib\\site-packages\\scipy\\optimize\\linesearch.py:422: LineSearchWarning: Rounding errors prevent the line search from converging\n",
      "  warn(msg, LineSearchWarning)\n",
      "D:\\Anaconda\\lib\\site-packages\\sklearn\\utils\\optimize.py:195: UserWarning: Line Search failed\n",
      "  warnings.warn('Line Search failed')\n"
     ]
    }
   ],
   "source": [
    "logit_model9 = linear_model.LogisticRegression(solver = 'newton-cg',max_iter = 300)\n",
    "logit_model9.fit(X,y)\n",
    "print('training accuracy: ', logit_model9.score(X,y))\n",
    "print('testing accuracy: ', logit_model9.score(testdata[features],testdata['IsPass']))"
   ]
  },
  {
   "cell_type": "markdown",
   "metadata": {},
   "source": [
    "<b>Use GridSearchCV to find the best combination of hyperparameters</b>\n",
    "- Due to computational and time cost, we can't list all possible combinations of all the hyperparameters of logistic models.\n",
    "- Therefore, we only set a few hyperparameters, which we deem as the most influential in model results, and try their combinations.\n",
    "- Since model9 with the newton-cg solver <b>didn't converge</b>, we don't consider it as an option in our GridSearchCV parameters."
   ]
  },
  {
   "cell_type": "code",
   "execution_count": 63,
   "metadata": {},
   "outputs": [],
   "source": [
    "# Create regularization penalty space\n",
    "penalty = ['l1', 'l2']\n",
    "\n",
    "# Create regularization hyperparameter space\n",
    "# C = np.logspace(0, 4, 10)\n",
    "\n",
    "# Create max_iter hyperparameter space\n",
    "max_iter = [100,120,140,160,180,200,220,240,260] \n",
    "\n",
    "# Create hyperparameter options\n",
    "hyperparameters = dict(penalty=penalty,max_iter=max_iter)"
   ]
  },
  {
   "cell_type": "code",
   "execution_count": 64,
   "metadata": {},
   "outputs": [],
   "source": [
    "from sklearn.model_selection import GridSearchCV\n",
    "# Create grid search using 5-fold cross validation\n",
    "logistic_t = linear_model.LogisticRegression()\n",
    "clf = GridSearchCV(logistic_t, hyperparameters, cv=15, verbose=0)"
   ]
  },
  {
   "cell_type": "code",
   "execution_count": 65,
   "metadata": {},
   "outputs": [],
   "source": [
    "# Fit grid search\n",
    "best_model_test = clf.fit(X, y)"
   ]
  },
  {
   "cell_type": "code",
   "execution_count": 66,
   "metadata": {},
   "outputs": [
    {
     "name": "stdout",
     "output_type": "stream",
     "text": [
      "Best Penalty: l1\n",
      "Best max_iter: 220\n",
      "Best model training set accuracy: 0.7200743247727122\n",
      "Best model testing set accuracy: 0.7254310710948781\n"
     ]
    }
   ],
   "source": [
    "# View best hyperparameters\n",
    "print('Best Penalty:', best_model_test.best_estimator_.get_params()['penalty'])\n",
    "print('Best max_iter:', best_model_test.best_estimator_.get_params()['max_iter'])\n",
    "print('Best model training set accuracy:', best_model_test.score(X,y))\n",
    "print('Best model testing set accuracy:', best_model_test.score(Testdata[features],Testdata['IsPass']))"
   ]
  },
  {
   "cell_type": "markdown",
   "metadata": {},
   "source": [
    "<b>Best model: logit_model10</b>"
   ]
  },
  {
   "cell_type": "markdown",
   "metadata": {},
   "source": [
    "Compute trainset cross validation accuracy"
   ]
  },
  {
   "cell_type": "code",
   "execution_count": 70,
   "metadata": {},
   "outputs": [
    {
     "name": "stdout",
     "output_type": "stream",
     "text": [
      "training accuracy:  0.7200743247727122\n",
      "testing accuracy:  0.7186388490736317\n"
     ]
    }
   ],
   "source": [
    "logit_model10 = linear_model.LogisticRegression(penalty = 'l1',max_iter = 220)\n",
    "logit_model10.fit(X,y)\n",
    "print('training accuracy: ', logit_model10.score(X,y))\n",
    "print('testing accuracy: ', logit_model10.score(testdata[features],testdata['IsPass']))"
   ]
  },
  {
   "cell_type": "code",
   "execution_count": 71,
   "metadata": {},
   "outputs": [
    {
     "name": "stdout",
     "output_type": "stream",
     "text": [
      "[0.71237458 0.71364867 0.72511546 0.7176302  0.7241599  0.72272655\n",
      " 0.71874502 0.72240803 0.71205606 0.71524128 0.72718586 0.72193024\n",
      " 0.71922281 0.72570882 0.7212044 ]\n",
      "Mean score =  0.7199571918842543\n"
     ]
    }
   ],
   "source": [
    "model10_scores = cross_val_score(logit_model10, data[features], data['IsPass'], cv=15, scoring = 'accuracy')\n",
    "print(model10_scores)\n",
    "print('Mean score = ',model10_scores.mean())"
   ]
  },
  {
   "cell_type": "code",
   "execution_count": 72,
   "metadata": {},
   "outputs": [
    {
     "name": "stdout",
     "output_type": "stream",
     "text": [
      "[0.71237458 0.71317089 0.7249562  0.7176302  0.7241599  0.72288581\n",
      " 0.71874502 0.72240803 0.7118968  0.7147635  0.72718586 0.72193024\n",
      " 0.71922281 0.72539025 0.7212044 ]\n",
      "Mean score =  0.7198616318845431\n"
     ]
    }
   ],
   "source": [
    "model7_scores = cross_val_score(logit_model7, data[features], data['IsPass'], cv=15, scoring = 'accuracy')\n",
    "print(model7_scores)\n",
    "print('Mean score = ',model7_scores.mean())"
   ]
  },
  {
   "cell_type": "markdown",
   "metadata": {},
   "source": [
    "Compute trainset cross validation accuracy\n",
    "- The result is close to the training accuracy, which means our model is likely to prevent the overfitting problem. Not bad."
   ]
  },
  {
   "cell_type": "code",
   "execution_count": 50,
   "metadata": {},
   "outputs": [],
   "source": [
    "Testdata = pd.read_csv(r'C:\\Users\\zhong\\Downloads\\pbp_testing_data.csv')"
   ]
  },
  {
   "cell_type": "code",
   "execution_count": 51,
   "metadata": {},
   "outputs": [
    {
     "data": {
      "text/plain": [
       "0.7254735411534868"
      ]
     },
     "execution_count": 51,
     "metadata": {},
     "output_type": "execute_result"
    }
   ],
   "source": [
    "logit_model10.score(Testdata[features], Testdata['IsPass'])"
   ]
  },
  {
   "cell_type": "code",
   "execution_count": 202,
   "metadata": {},
   "outputs": [
    {
     "name": "stdout",
     "output_type": "stream",
     "text": [
      "[0.7281986  0.73647358 0.72119669 0.72229299 0.72611465 0.72547771\n",
      " 0.72101911 0.73248408 0.72402804 0.70044614 0.71383047 0.72275335\n",
      " 0.7195666  0.71574251 0.73422562]\n",
      "Mean score =  0.722923342839104\n"
     ]
    }
   ],
   "source": [
    "model10_test_scores = cross_val_score(logit_model10, Testdata[features], Testdata['IsPass'], cv=15, scoring = 'accuracy')\n",
    "print(model10_test_scores)\n",
    "print('Mean score = ',model10_test_scores.mean())"
   ]
  },
  {
   "cell_type": "markdown",
   "metadata": {},
   "source": [
    "<b>Also report the false negative rate</b>\n",
    "- We care about this indicator because in NFL games, we're less willing to predict a Pass as a Rush (which is a false negative sample)\n",
    "- This is because compared to predicting a Rush as a Pass, the defense formation is more prepared to defense a rush when they intend to defend a pass."
   ]
  },
  {
   "cell_type": "code",
   "execution_count": 73,
   "metadata": {},
   "outputs": [
    {
     "name": "stdout",
     "output_type": "stream",
     "text": [
      "[[ 5779  3689]\n",
      " [ 2775 11303]]\n",
      "False Negative Rate =  0.19711606762324194\n"
     ]
    }
   ],
   "source": [
    "# FN / (TP + FN) \n",
    "from sklearn.metrics import confusion_matrix\n",
    "print(confusion_matrix(Testdata['IsPass'], logit_model10.predict(Testdata[features])))\n",
    "tn, fp, fn, tp = confusion_matrix(Testdata['IsPass'], logit_model10.predict(Testdata[features])).ravel()\n",
    "print('False Negative Rate = ', fn/(tp+fn))"
   ]
  },
  {
   "cell_type": "code",
   "execution_count": 76,
   "metadata": {},
   "outputs": [
    {
     "data": {
      "image/png": "[encoded data removed]",
      "text/plain": [
       "<Figure size 432x288 with 1 Axes>"
      ]
     },
     "metadata": {
      "needs_background": "light"
     },
     "output_type": "display_data"
    }
   ],
   "source": [
    "#training_predictions = model.predict(x_train)\n",
    "#(fpr, tpr, thresholds) = roc_curve(y_train,training_predictions)\n",
    "from sklearn.metrics import roc_curve, auc\n",
    "testing_predictions = logit_model10.predict(Testdata[features])\n",
    "(fpr, tpr, thresholds) = roc_curve(Testdata['IsPass'],testing_predictions)\n",
    "\n",
    "area = auc(fpr,tpr)\n",
    "plt.clf() #Clear the current figure\n",
    "plt.plot(fpr,tpr,label=\"Out-Sample ROC Curve with area = %1.2f\"%area)\n",
    "\n",
    "plt.plot([0, 1], [0, 1], 'k')\n",
    "plt.xlim([0.0, 1.0])\n",
    "plt.ylim([0.0, 1.0])\n",
    "plt.xlabel('False Positive Rate')\n",
    "plt.ylabel('True Positive Rate')\n",
    "plt.title('Test Set ROC Pass Play vs Rush Play')\n",
    "plt.legend(loc=\"lower right\")\n",
    "plt.show()"
   ]
  },
  {
   "cell_type": "markdown",
   "metadata": {},
   "source": [
    "<b>Logistic model only using significant features</b>"
   ]
  },
  {
   "cell_type": "markdown",
   "metadata": {},
   "source": [
    "<b>Linear Regression of Y on all the features</b>\n",
    "- First, we plot the correlation graph of all the features. We can see the team offense and defense ranking features are highly correlated, which may lead to multicollinearity problem.\n",
    "- Then, we regress Y on all the features, finding that 23 features are statistically significant and 20 features are insignificant. We store them to lists separately."
   ]
  },
  {
   "cell_type": "code",
   "execution_count": 77,
   "metadata": {},
   "outputs": [
    {
     "data": {
      "image/png": "[encoded data removed]",
      "text/plain": [
       "<Figure size 1008x1008 with 2 Axes>"
      ]
     },
     "metadata": {
      "needs_background": "light"
     },
     "output_type": "display_data"
    }
   ],
   "source": [
    "fig,ax = plt.subplots(figsize=(14,14))\n",
    "corr = df_logit.iloc[:,2:].corr()\n",
    "mask = np.zeros_like(corr)\n",
    "mask[np.triu_indices_from(mask)] = True\n",
    "sns.heatmap(corr,annot=False, cmap = 'Blues', mask=mask, linewidths=.1, fmt='.1f', square = True)\n",
    "plt.show()"
   ]
  },
  {
   "cell_type": "code",
   "execution_count": 78,
   "metadata": {},
   "outputs": [
    {
     "name": "stderr",
     "output_type": "stream",
     "text": [
      "D:\\Anaconda\\lib\\site-packages\\statsmodels\\compat\\pandas.py:49: FutureWarning: The Panel class is removed from pandas. Accessing it from the top-level namespace will also be removed in the next version\n",
      "  data_klasses = (pandas.Series, pandas.DataFrame, pandas.Panel)\n"
     ]
    },
    {
     "data": {
      "text/html": [
       "<table class=\"simpletable\">\n",
       "<caption>OLS Regression Results</caption>\n",
       "<tr>\n",
       "  <th>Dep. Variable:</th>         <td>IsPass</td>      <th>  R-squared:         </th> <td>   0.210</td> \n",
       "</tr>\n",
       "<tr>\n",
       "  <th>Model:</th>                   <td>OLS</td>       <th>  Adj. R-squared:    </th> <td>   0.209</td> \n",
       "</tr>\n",
       "<tr>\n",
       "  <th>Method:</th>             <td>Least Squares</td>  <th>  F-statistic:       </th> <td>   609.7</td> \n",
       "</tr>\n",
       "<tr>\n",
       "  <th>Date:</th>             <td>Fri, 20 Dec 2019</td> <th>  Prob (F-statistic):</th>  <td>  0.00</td>  \n",
       "</tr>\n",
       "<tr>\n",
       "  <th>Time:</th>                 <td>03:43:11</td>     <th>  Log-Likelihood:    </th> <td> -55872.</td> \n",
       "</tr>\n",
       "<tr>\n",
       "  <th>No. Observations:</th>      <td> 94182</td>      <th>  AIC:               </th> <td>1.118e+05</td>\n",
       "</tr>\n",
       "<tr>\n",
       "  <th>Df Residuals:</th>          <td> 94140</td>      <th>  BIC:               </th> <td>1.122e+05</td>\n",
       "</tr>\n",
       "<tr>\n",
       "  <th>Df Model:</th>              <td>    41</td>      <th>                     </th>     <td> </td>    \n",
       "</tr>\n",
       "<tr>\n",
       "  <th>Covariance Type:</th>      <td>nonrobust</td>    <th>                     </th>     <td> </td>    \n",
       "</tr>\n",
       "</table>\n",
       "<table class=\"simpletable\">\n",
       "<tr>\n",
       "             <td></td>                <th>coef</th>     <th>std err</th>      <th>t</th>      <th>P>|t|</th>  <th>[0.025</th>    <th>0.975]</th>  \n",
       "</tr>\n",
       "<tr>\n",
       "  <th>Quarter</th>                 <td>    2.9179</td> <td>    0.851</td> <td>    3.428</td> <td> 0.001</td> <td>    1.249</td> <td>    4.586</td>\n",
       "</tr>\n",
       "<tr>\n",
       "  <th>Minute</th>                  <td>   -0.1984</td> <td>    0.057</td> <td>   -3.496</td> <td> 0.000</td> <td>   -0.310</td> <td>   -0.087</td>\n",
       "</tr>\n",
       "<tr>\n",
       "  <th>Second</th>                  <td>   -0.0035</td> <td>    0.001</td> <td>   -3.709</td> <td> 0.000</td> <td>   -0.005</td> <td>   -0.002</td>\n",
       "</tr>\n",
       "<tr>\n",
       "  <th>Remaining</th>               <td>    0.0032</td> <td>    0.001</td> <td>    3.430</td> <td> 0.001</td> <td>    0.001</td> <td>    0.005</td>\n",
       "</tr>\n",
       "<tr>\n",
       "  <th>Down</th>                    <td>    0.0906</td> <td>    0.002</td> <td>   46.204</td> <td> 0.000</td> <td>    0.087</td> <td>    0.094</td>\n",
       "</tr>\n",
       "<tr>\n",
       "  <th>ToGo</th>                    <td>    0.0129</td> <td>    0.000</td> <td>   32.686</td> <td> 0.000</td> <td>    0.012</td> <td>    0.014</td>\n",
       "</tr>\n",
       "<tr>\n",
       "  <th>SeasonYear</th>              <td>   -0.0057</td> <td>    0.002</td> <td>   -3.338</td> <td> 0.001</td> <td>   -0.009</td> <td>   -0.002</td>\n",
       "</tr>\n",
       "<tr>\n",
       "  <th>PointDiff</th>               <td>   -0.0031</td> <td>    0.000</td> <td>  -21.996</td> <td> 0.000</td> <td>   -0.003</td> <td>   -0.003</td>\n",
       "</tr>\n",
       "<tr>\n",
       "  <th>Off_Pass_Cmp_rank</th>       <td>   -0.0082</td> <td>    0.003</td> <td>   -2.471</td> <td> 0.013</td> <td>   -0.015</td> <td>   -0.002</td>\n",
       "</tr>\n",
       "<tr>\n",
       "  <th>Off_Pass_Att_rank</th>       <td>   -0.0047</td> <td>    0.004</td> <td>   -1.328</td> <td> 0.184</td> <td>   -0.012</td> <td>    0.002</td>\n",
       "</tr>\n",
       "<tr>\n",
       "  <th>Off_Pass_TD_rank</th>        <td>    0.0038</td> <td>    0.002</td> <td>    1.522</td> <td> 0.128</td> <td>   -0.001</td> <td>    0.009</td>\n",
       "</tr>\n",
       "<tr>\n",
       "  <th>Off_Pass_Int%_rank</th>      <td>   -0.0059</td> <td>    0.002</td> <td>   -2.448</td> <td> 0.014</td> <td>   -0.011</td> <td>   -0.001</td>\n",
       "</tr>\n",
       "<tr>\n",
       "  <th>Off_Pass_Sk%_rank</th>       <td>   -0.0112</td> <td>    0.003</td> <td>   -4.486</td> <td> 0.000</td> <td>   -0.016</td> <td>   -0.006</td>\n",
       "</tr>\n",
       "<tr>\n",
       "  <th>Off_Pass_Y/G_rank</th>       <td>   -0.0084</td> <td>    0.004</td> <td>   -2.067</td> <td> 0.039</td> <td>   -0.016</td> <td>   -0.000</td>\n",
       "</tr>\n",
       "<tr>\n",
       "  <th>Off_Pass_Y/A_rank</th>       <td>   -0.0182</td> <td>    0.003</td> <td>   -5.427</td> <td> 0.000</td> <td>   -0.025</td> <td>   -0.012</td>\n",
       "</tr>\n",
       "<tr>\n",
       "  <th>Off_Pass_QBR_rank</th>       <td>    0.0202</td> <td>    0.004</td> <td>    5.088</td> <td> 0.000</td> <td>    0.012</td> <td>    0.028</td>\n",
       "</tr>\n",
       "<tr>\n",
       "  <th>Off_Rush_Att_rank</th>       <td>    0.0167</td> <td>    0.004</td> <td>    4.543</td> <td> 0.000</td> <td>    0.009</td> <td>    0.024</td>\n",
       "</tr>\n",
       "<tr>\n",
       "  <th>Off_Rush_Y/G_rank</th>       <td>    0.0247</td> <td>    0.005</td> <td>    5.197</td> <td> 0.000</td> <td>    0.015</td> <td>    0.034</td>\n",
       "</tr>\n",
       "<tr>\n",
       "  <th>Off_Rush_Y/A_rank</th>       <td>   -0.0043</td> <td>    0.003</td> <td>   -1.686</td> <td> 0.092</td> <td>   -0.009</td> <td>    0.001</td>\n",
       "</tr>\n",
       "<tr>\n",
       "  <th>Off_Rush_TD_rank</th>        <td>   -0.0006</td> <td>    0.003</td> <td>   -0.189</td> <td> 0.850</td> <td>   -0.007</td> <td>    0.006</td>\n",
       "</tr>\n",
       "<tr>\n",
       "  <th>Def_Pass_Cmp_rank</th>       <td>    0.0089</td> <td>    0.003</td> <td>    3.141</td> <td> 0.002</td> <td>    0.003</td> <td>    0.014</td>\n",
       "</tr>\n",
       "<tr>\n",
       "  <th>Def_Pass_Att_rank</th>       <td>    0.0032</td> <td>    0.003</td> <td>    1.007</td> <td> 0.314</td> <td>   -0.003</td> <td>    0.009</td>\n",
       "</tr>\n",
       "<tr>\n",
       "  <th>Def_Pass_TD_rank</th>        <td>    0.0030</td> <td>    0.002</td> <td>    1.252</td> <td> 0.211</td> <td>   -0.002</td> <td>    0.008</td>\n",
       "</tr>\n",
       "<tr>\n",
       "  <th>Def_Pass_Int%_rank</th>      <td>   -0.0002</td> <td>    0.002</td> <td>   -0.115</td> <td> 0.909</td> <td>   -0.004</td> <td>    0.004</td>\n",
       "</tr>\n",
       "<tr>\n",
       "  <th>Def_Pass_Sk%_rank</th>       <td>    0.0018</td> <td>    0.002</td> <td>    0.835</td> <td> 0.404</td> <td>   -0.002</td> <td>    0.006</td>\n",
       "</tr>\n",
       "<tr>\n",
       "  <th>Def_Pass_Y/G_rank</th>       <td>    0.0006</td> <td>    0.004</td> <td>    0.160</td> <td> 0.873</td> <td>   -0.007</td> <td>    0.009</td>\n",
       "</tr>\n",
       "<tr>\n",
       "  <th>Def_Pass_Y/A_rank</th>       <td>    0.0053</td> <td>    0.003</td> <td>    1.578</td> <td> 0.115</td> <td>   -0.001</td> <td>    0.012</td>\n",
       "</tr>\n",
       "<tr>\n",
       "  <th>Def_Rush_Att_rank</th>       <td>   -0.0072</td> <td>    0.004</td> <td>   -1.875</td> <td> 0.061</td> <td>   -0.015</td> <td>    0.000</td>\n",
       "</tr>\n",
       "<tr>\n",
       "  <th>Def_Rush_Y/G_rank</th>       <td>   -0.0012</td> <td>    0.004</td> <td>   -0.278</td> <td> 0.781</td> <td>   -0.010</td> <td>    0.007</td>\n",
       "</tr>\n",
       "<tr>\n",
       "  <th>Def_Rush_Y/A_rank</th>       <td>   -0.0019</td> <td>    0.002</td> <td>   -0.822</td> <td> 0.411</td> <td>   -0.006</td> <td>    0.003</td>\n",
       "</tr>\n",
       "<tr>\n",
       "  <th>Def_Rush_TD_rank</th>        <td>    0.0017</td> <td>    0.003</td> <td>    0.529</td> <td> 0.597</td> <td>   -0.005</td> <td>    0.008</td>\n",
       "</tr>\n",
       "<tr>\n",
       "  <th>Off_Pass_Overall_rank</th>   <td>   -0.0006</td> <td>    0.005</td> <td>   -0.114</td> <td> 0.909</td> <td>   -0.010</td> <td>    0.009</td>\n",
       "</tr>\n",
       "<tr>\n",
       "  <th>Off_Rush_Overall_rank</th>   <td>   -0.0133</td> <td>    0.005</td> <td>   -2.530</td> <td> 0.011</td> <td>   -0.024</td> <td>   -0.003</td>\n",
       "</tr>\n",
       "<tr>\n",
       "  <th>Def_Pass_Overall_rank</th>   <td>   -0.0069</td> <td>    0.005</td> <td>   -1.448</td> <td> 0.148</td> <td>   -0.016</td> <td>    0.002</td>\n",
       "</tr>\n",
       "<tr>\n",
       "  <th>Def_Rush_Overall_rank</th>   <td>   -0.0014</td> <td>    0.005</td> <td>   -0.256</td> <td> 0.798</td> <td>   -0.012</td> <td>    0.009</td>\n",
       "</tr>\n",
       "<tr>\n",
       "  <th>IsHuddleShotgun</th>         <td>    0.3334</td> <td>    0.054</td> <td>    6.208</td> <td> 0.000</td> <td>    0.228</td> <td>    0.439</td>\n",
       "</tr>\n",
       "<tr>\n",
       "  <th>IsHuddleUndercenter</th>     <td>   -0.0271</td> <td>    0.054</td> <td>   -0.506</td> <td> 0.613</td> <td>   -0.132</td> <td>    0.078</td>\n",
       "</tr>\n",
       "<tr>\n",
       "  <th>IsNohuddleShotgun</th>       <td>    0.3852</td> <td>    0.054</td> <td>    7.193</td> <td> 0.000</td> <td>    0.280</td> <td>    0.490</td>\n",
       "</tr>\n",
       "<tr>\n",
       "  <th>IsNohuddleUndercenter</th>   <td>    0.0413</td> <td>    0.054</td> <td>    0.764</td> <td> 0.445</td> <td>   -0.065</td> <td>    0.147</td>\n",
       "</tr>\n",
       "<tr>\n",
       "  <th>distance_to_TD</th>          <td>    0.0003</td> <td> 6.07e-05</td> <td>    4.458</td> <td> 0.000</td> <td>    0.000</td> <td>    0.000</td>\n",
       "</tr>\n",
       "<tr>\n",
       "  <th>cum_intcps_in_game</th>      <td>   -0.0064</td> <td>    0.002</td> <td>   -3.884</td> <td> 0.000</td> <td>   -0.010</td> <td>   -0.003</td>\n",
       "</tr>\n",
       "<tr>\n",
       "  <th>cum_fumbles_in_game</th>     <td>    0.0007</td> <td>    0.002</td> <td>    0.360</td> <td> 0.719</td> <td>   -0.003</td> <td>    0.005</td>\n",
       "</tr>\n",
       "<tr>\n",
       "  <th>cum_passincplts_in_game</th> <td> 1.098e-05</td> <td>    0.000</td> <td>    0.029</td> <td> 0.977</td> <td>   -0.001</td> <td>    0.001</td>\n",
       "</tr>\n",
       "</table>\n",
       "<table class=\"simpletable\">\n",
       "<tr>\n",
       "  <th>Omnibus:</th>       <td>18123.804</td> <th>  Durbin-Watson:     </th> <td>   2.005</td>\n",
       "</tr>\n",
       "<tr>\n",
       "  <th>Prob(Omnibus):</th>  <td> 0.000</td>   <th>  Jarque-Bera (JB):  </th> <td>4547.134</td>\n",
       "</tr>\n",
       "<tr>\n",
       "  <th>Skew:</th>           <td>-0.247</td>   <th>  Prob(JB):          </th> <td>    0.00</td>\n",
       "</tr>\n",
       "<tr>\n",
       "  <th>Kurtosis:</th>       <td> 2.044</td>   <th>  Cond. No.          </th> <td>2.27e+15</td>\n",
       "</tr>\n",
       "</table><br/><br/>Warnings:<br/>[1] Standard Errors assume that the covariance matrix of the errors is correctly specified.<br/>[2] The smallest eigenvalue is 1.39e-19. This might indicate that there are<br/>strong multicollinearity problems or that the design matrix is singular."
      ],
      "text/plain": [
       "<class 'statsmodels.iolib.summary.Summary'>\n",
       "\"\"\"\n",
       "                            OLS Regression Results                            \n",
       "==============================================================================\n",
       "Dep. Variable:                 IsPass   R-squared:                       0.210\n",
       "Model:                            OLS   Adj. R-squared:                  0.209\n",
       "Method:                 Least Squares   F-statistic:                     609.7\n",
       "Date:                Fri, 20 Dec 2019   Prob (F-statistic):               0.00\n",
       "Time:                        03:43:11   Log-Likelihood:                -55872.\n",
       "No. Observations:               94182   AIC:                         1.118e+05\n",
       "Df Residuals:                   94140   BIC:                         1.122e+05\n",
       "Df Model:                          41                                         \n",
       "Covariance Type:            nonrobust                                         \n",
       "===========================================================================================\n",
       "                              coef    std err          t      P>|t|      [0.025      0.975]\n",
       "-------------------------------------------------------------------------------------------\n",
       "Quarter                     2.9179      0.851      3.428      0.001       1.249       4.586\n",
       "Minute                     -0.1984      0.057     -3.496      0.000      -0.310      -0.087\n",
       "Second                     -0.0035      0.001     -3.709      0.000      -0.005      -0.002\n",
       "Remaining                   0.0032      0.001      3.430      0.001       0.001       0.005\n",
       "Down                        0.0906      0.002     46.204      0.000       0.087       0.094\n",
       "ToGo                        0.0129      0.000     32.686      0.000       0.012       0.014\n",
       "SeasonYear                 -0.0057      0.002     -3.338      0.001      -0.009      -0.002\n",
       "PointDiff                  -0.0031      0.000    -21.996      0.000      -0.003      -0.003\n",
       "Off_Pass_Cmp_rank          -0.0082      0.003     -2.471      0.013      -0.015      -0.002\n",
       "Off_Pass_Att_rank          -0.0047      0.004     -1.328      0.184      -0.012       0.002\n",
       "Off_Pass_TD_rank            0.0038      0.002      1.522      0.128      -0.001       0.009\n",
       "Off_Pass_Int%_rank         -0.0059      0.002     -2.448      0.014      -0.011      -0.001\n",
       "Off_Pass_Sk%_rank          -0.0112      0.003     -4.486      0.000      -0.016      -0.006\n",
       "Off_Pass_Y/G_rank          -0.0084      0.004     -2.067      0.039      -0.016      -0.000\n",
       "Off_Pass_Y/A_rank          -0.0182      0.003     -5.427      0.000      -0.025      -0.012\n",
       "Off_Pass_QBR_rank           0.0202      0.004      5.088      0.000       0.012       0.028\n",
       "Off_Rush_Att_rank           0.0167      0.004      4.543      0.000       0.009       0.024\n",
       "Off_Rush_Y/G_rank           0.0247      0.005      5.197      0.000       0.015       0.034\n",
       "Off_Rush_Y/A_rank          -0.0043      0.003     -1.686      0.092      -0.009       0.001\n",
       "Off_Rush_TD_rank           -0.0006      0.003     -0.189      0.850      -0.007       0.006\n",
       "Def_Pass_Cmp_rank           0.0089      0.003      3.141      0.002       0.003       0.014\n",
       "Def_Pass_Att_rank           0.0032      0.003      1.007      0.314      -0.003       0.009\n",
       "Def_Pass_TD_rank            0.0030      0.002      1.252      0.211      -0.002       0.008\n",
       "Def_Pass_Int%_rank         -0.0002      0.002     -0.115      0.909      -0.004       0.004\n",
       "Def_Pass_Sk%_rank           0.0018      0.002      0.835      0.404      -0.002       0.006\n",
       "Def_Pass_Y/G_rank           0.0006      0.004      0.160      0.873      -0.007       0.009\n",
       "Def_Pass_Y/A_rank           0.0053      0.003      1.578      0.115      -0.001       0.012\n",
       "Def_Rush_Att_rank          -0.0072      0.004     -1.875      0.061      -0.015       0.000\n",
       "Def_Rush_Y/G_rank          -0.0012      0.004     -0.278      0.781      -0.010       0.007\n",
       "Def_Rush_Y/A_rank          -0.0019      0.002     -0.822      0.411      -0.006       0.003\n",
       "Def_Rush_TD_rank            0.0017      0.003      0.529      0.597      -0.005       0.008\n",
       "Off_Pass_Overall_rank      -0.0006      0.005     -0.114      0.909      -0.010       0.009\n",
       "Off_Rush_Overall_rank      -0.0133      0.005     -2.530      0.011      -0.024      -0.003\n",
       "Def_Pass_Overall_rank      -0.0069      0.005     -1.448      0.148      -0.016       0.002\n",
       "Def_Rush_Overall_rank      -0.0014      0.005     -0.256      0.798      -0.012       0.009\n",
       "IsHuddleShotgun             0.3334      0.054      6.208      0.000       0.228       0.439\n",
       "IsHuddleUndercenter        -0.0271      0.054     -0.506      0.613      -0.132       0.078\n",
       "IsNohuddleShotgun           0.3852      0.054      7.193      0.000       0.280       0.490\n",
       "IsNohuddleUndercenter       0.0413      0.054      0.764      0.445      -0.065       0.147\n",
       "distance_to_TD              0.0003   6.07e-05      4.458      0.000       0.000       0.000\n",
       "cum_intcps_in_game         -0.0064      0.002     -3.884      0.000      -0.010      -0.003\n",
       "cum_fumbles_in_game         0.0007      0.002      0.360      0.719      -0.003       0.005\n",
       "cum_passincplts_in_game  1.098e-05      0.000      0.029      0.977      -0.001       0.001\n",
       "==============================================================================\n",
       "Omnibus:                    18123.804   Durbin-Watson:                   2.005\n",
       "Prob(Omnibus):                  0.000   Jarque-Bera (JB):             4547.134\n",
       "Skew:                          -0.247   Prob(JB):                         0.00\n",
       "Kurtosis:                       2.044   Cond. No.                     2.27e+15\n",
       "==============================================================================\n",
       "\n",
       "Warnings:\n",
       "[1] Standard Errors assume that the covariance matrix of the errors is correctly specified.\n",
       "[2] The smallest eigenvalue is 1.39e-19. This might indicate that there are\n",
       "strong multicollinearity problems or that the design matrix is singular.\n",
       "\"\"\""
      ]
     },
     "execution_count": 78,
     "metadata": {},
     "output_type": "execute_result"
    }
   ],
   "source": [
    "from statsmodels.api import OLS\n",
    "OLS(data['IsPass'],data[features]).fit().summary()"
   ]
  },
  {
   "cell_type": "code",
   "execution_count": 79,
   "metadata": {},
   "outputs": [
    {
     "name": "stdout",
     "output_type": "stream",
     "text": [
      "20\n"
     ]
    },
    {
     "data": {
      "text/plain": [
       "{'DefenseTeam',\n",
       " 'Description',\n",
       " 'Formation',\n",
       " 'GameDate',\n",
       " 'GameId',\n",
       " 'IsPass',\n",
       " 'IsRush',\n",
       " 'OffenseTeam',\n",
       " 'PassType',\n",
       " 'RushDirection',\n",
       " 'YardLine',\n",
       " 'YardLineDirection',\n",
       " 'YardLineFixed',\n",
       " 'Yards'}"
      ]
     },
     "execution_count": 79,
     "metadata": {},
     "output_type": "execute_result"
    }
   ],
   "source": [
    "insignificantfeatures = ['Off_Pass_Att_rank','Off_Pass_TD_rank','Off_Rush_Y/A_rank','Off_Rush_TD_rank','Def_Pass_Att_rank',\\\n",
    "                         'Def_Pass_TD_rank','Def_Pass_Int%_rank','Def_Pass_Sk%_rank','Def_Pass_Y/G_rank','Def_Pass_Y/A_rank',\\\n",
    "                        'Def_Rush_Att_rank','Def_Rush_Y/G_rank','Def_Rush_Y/A_rank','Def_Rush_TD_rank','Off_Pass_Overall_rank',\\\n",
    "                        'Def_Rush_Overall_rank','IsHuddleUndercenter','IsNohuddleUndercenter','cum_fumbles_in_game',\\\n",
    "                         'cum_passincplts_in_game']\n",
    "unused_features_set = set(unused_features)\n",
    "print(len(insignificantfeatures))\n",
    "unused_features_set"
   ]
  },
  {
   "cell_type": "code",
   "execution_count": 80,
   "metadata": {},
   "outputs": [
    {
     "name": "stdout",
     "output_type": "stream",
     "text": [
      "34\n",
      "# of unused features:  34\n"
     ]
    }
   ],
   "source": [
    "insignificantfeatures_set = set(insignificantfeatures)\n",
    "unused_features_set.update(insignificantfeatures_set)\n",
    "print(len(unused_features_set))\n",
    "print('# of unused features: ', len(unused_features_set))"
   ]
  },
  {
   "cell_type": "code",
   "execution_count": 81,
   "metadata": {},
   "outputs": [
    {
     "name": "stdout",
     "output_type": "stream",
     "text": [
      "# of used features:  23\n",
      "# of unused features:  34\n",
      "# of all featues:  57\n"
     ]
    }
   ],
   "source": [
    "new_features = [i for i in data.columns.tolist() if i not in unused_features_set]\n",
    "print('# of used features: ', len(new_features))\n",
    "print('# of unused features: ', len(unused_features_set))\n",
    "print('# of all featues: ', len(data.columns.tolist()))"
   ]
  },
  {
   "cell_type": "code",
   "execution_count": 82,
   "metadata": {},
   "outputs": [
    {
     "name": "stdout",
     "output_type": "stream",
     "text": [
      "['Quarter', 'Minute', 'Second', 'Remaining', 'Down', 'ToGo', 'SeasonYear', 'PointDiff', 'Off_Pass_Cmp_rank', 'Off_Pass_Int%_rank', 'Off_Pass_Sk%_rank', 'Off_Pass_Y/G_rank', 'Off_Pass_Y/A_rank', 'Off_Pass_QBR_rank', 'Off_Rush_Att_rank', 'Off_Rush_Y/G_rank', 'Def_Pass_Cmp_rank', 'Off_Rush_Overall_rank', 'Def_Pass_Overall_rank', 'IsHuddleShotgun', 'IsNohuddleShotgun', 'distance_to_TD', 'cum_intcps_in_game']\n",
      "23\n"
     ]
    }
   ],
   "source": [
    "print(new_features)\n",
    "print(len(new_features))"
   ]
  },
  {
   "cell_type": "markdown",
   "metadata": {},
   "source": [
    "<b>Use the best model with the same hyperparameters</b>\n",
    "- Finding: Using significant features doesn't improve prediction accuracy. Instead, the accuracy falls a little bit.Therefore, we still choose the model that uses all the features as our best logistic model."
   ]
  },
  {
   "cell_type": "code",
   "execution_count": 83,
   "metadata": {},
   "outputs": [
    {
     "name": "stdout",
     "output_type": "stream",
     "text": [
      "training accuracy:  0.7192116265180171\n",
      "testing accuracy:  0.7195413282369804\n"
     ]
    }
   ],
   "source": [
    "logit_model10_new = linear_model.LogisticRegression(penalty='l1',max_iter = 220)\n",
    "logit_model10_new.fit(traindata[new_features],traindata['IsPass'])\n",
    "print('training accuracy: ', logit_model10_new.score(traindata[new_features],traindata['IsPass']))\n",
    "print('testing accuracy: ', logit_model10_new.score(testdata[new_features],testdata['IsPass']))"
   ]
  },
  {
   "cell_type": "code",
   "execution_count": 85,
   "metadata": {},
   "outputs": [
    {
     "name": "stdout",
     "output_type": "stream",
     "text": [
      "[0.71301163 0.71380793 0.72575251 0.71794872 0.72320433 0.72240803\n",
      " 0.71747093 0.72240803 0.71110049 0.7147635  0.72670807 0.72145246\n",
      " 0.71810798 0.72443453 0.7199299 ]\n",
      "Mean score =  0.7195006030083232\n"
     ]
    }
   ],
   "source": [
    "new_model10_new_scores = cross_val_score(logit_model10_new, data[new_features], data['IsPass'], cv=15, scoring = 'accuracy')\n",
    "print(new_model10_new_scores)\n",
    "print('Mean score = ',new_model10_new_scores.mean())"
   ]
  },
  {
   "cell_type": "markdown",
   "metadata": {},
   "source": [
    "<b>Compute Testdata accuracy by quarter and by down</b>"
   ]
  },
  {
   "cell_type": "markdown",
   "metadata": {},
   "source": [
    "<b>Testdata accuracy by quarter</b>"
   ]
  },
  {
   "cell_type": "code",
   "execution_count": 86,
   "metadata": {},
   "outputs": [
    {
     "data": {
      "text/plain": [
       "array([2, 1, 3, 4, 5], dtype=int64)"
      ]
     },
     "execution_count": 86,
     "metadata": {},
     "output_type": "execute_result"
    }
   ],
   "source": [
    "Testdata['Quarter'].unique()"
   ]
  },
  {
   "cell_type": "code",
   "execution_count": 87,
   "metadata": {},
   "outputs": [],
   "source": [
    "def gen_df_byquarter():\n",
    "    logit_quarter_list = list()\n",
    "    for i in range(5):\n",
    "        logit_quarter_list.append(logit_model7.score(Testdata[Testdata['Quarter'] == i+1][features], \\\n",
    "                                                     Testdata[Testdata['Quarter'] == i+1]['IsPass']))\n",
    "    return logit_quarter_list"
   ]
  },
  {
   "cell_type": "code",
   "execution_count": 88,
   "metadata": {},
   "outputs": [
    {
     "data": {
      "text/plain": [
       "[0.6956275914059555,\n",
       " 0.7256154565285136,\n",
       " 0.6906382196064006,\n",
       " 0.7802056555269923,\n",
       " 0.7639751552795031]"
      ]
     },
     "execution_count": 88,
     "metadata": {},
     "output_type": "execute_result"
    }
   ],
   "source": [
    "logit_quarter_list = gen_df_byquarter()\n",
    "logit_quarter_list"
   ]
  },
  {
   "cell_type": "markdown",
   "metadata": {},
   "source": [
    "<b>Testdata accuracy by down</b>"
   ]
  },
  {
   "cell_type": "code",
   "execution_count": 89,
   "metadata": {},
   "outputs": [
    {
     "data": {
      "text/plain": [
       "[0.679493285074769, 0.7104898627376904, 0.8451029844472467, 0.8213256484149856]"
      ]
     },
     "execution_count": 89,
     "metadata": {},
     "output_type": "execute_result"
    }
   ],
   "source": [
    "def gen_df_bydown():\n",
    "    logit_down_list = list()\n",
    "    for i in range(4):\n",
    "        logit_down_list.append(logit_model7.score(Testdata[Testdata['Down'] == i+1][features], \\\n",
    "                                                     Testdata[Testdata['Down'] == i+1]['IsPass']))\n",
    "    return logit_down_list\n",
    "\n",
    "logit_down_list = gen_df_bydown()\n",
    "logit_down_list"
   ]
  },
  {
   "cell_type": "code",
   "execution_count": null,
   "metadata": {},
   "outputs": [],
   "source": []
  },
  {
   "cell_type": "markdown",
   "metadata": {},
   "source": [
    "# KNN models\n",
    "- We find in some literature review that other researchers also try K-Nearest Neighbors to predict pass/rush decision.\n",
    "- Therefore, we also use KNN models to see whether the result is different. We try different K, which is the haperparameter in the model, from 1 to 49, and use cross validation to improve accuracy robustness.\n",
    "- The result shows that KNN model seems to perfrom poorly on our dataset, with <b>accuracy less than 60%</b>.\n",
    "- From the graph describing the relationship between cross-validation accuracy and value of K we can see that the trend of accuracy is roughly upward, which means the accuracy improves as k increases. However, as K gets larger, the increment of accuracy gets smaller. We feel that even we increase K again, the final accuracy of KNN model can't be too far away from 60%.\n",
    "- In a word, <b>KNN model is not a good choice for our dataset.</b>"
   ]
  },
  {
   "cell_type": "code",
   "execution_count": null,
   "metadata": {},
   "outputs": [],
   "source": [
    "# data"
   ]
  },
  {
   "cell_type": "code",
   "execution_count": null,
   "metadata": {},
   "outputs": [],
   "source": [
    "# data[features]"
   ]
  },
  {
   "cell_type": "code",
   "execution_count": null,
   "metadata": {},
   "outputs": [],
   "source": [
    "# data['IsPass']"
   ]
  },
  {
   "cell_type": "code",
   "execution_count": 90,
   "metadata": {},
   "outputs": [
    {
     "name": "stdout",
     "output_type": "stream",
     "text": [
      "[0.5758956729450129, 0.5384256905826157, 0.5789322036796604, 0.5579305113380751, 0.5820752669493873, 0.5683890023246949, 0.5852818181653362, 0.5752055344845297, 0.5876070151013599, 0.5792934016498342, 0.5892741078574508, 0.5807799100795875, 0.5895182331338142, 0.5828926620215447, 0.5901658129184328, 0.584718966771853, 0.5907392608489058, 0.5856639465487219, 0.5910153922208797, 0.586492176056993, 0.5925974262667039, 0.5877770017603028, 0.5929478732450498, 0.589475840185471, 0.5924170223078431, 0.5895820130724282, 0.5936379936583227, 0.5898686462845345, 0.5944130070696636, 0.5901553493921112, 0.5934148483977058, 0.5904418800134411, 0.5942323607288458, 0.5922468744331814, 0.5952836081067677, 0.5942217833469658, 0.5957295705510053, 0.5934572886918442, 0.5958038748894825, 0.593744052680145, 0.5966851806948836, 0.5941900016052553, 0.5968019817002516, 0.5959419681952067, 0.5977681534424821, 0.5960586654786753, 0.5978212692036993, 0.5963029395710215, 0.5979167655053835]\n",
      "Length of list 49\n",
      "Max of list 0.5979167655053835\n"
     ]
    }
   ],
   "source": [
    "k_range = range(1, 50)\n",
    "# empty list to store scores\n",
    "k_scores = []\n",
    "\n",
    "# 1. we will loop through reasonable values of k\n",
    "for k in k_range:\n",
    "    # 2. run KNeighborsClassifier with k neighbours\n",
    "    knn = KNeighborsClassifier(n_neighbors=k)\n",
    "    # 3. obtain cross_val_score for KNeighborsClassifier with k neighbours\n",
    "    scores = cross_val_score(knn, data[features], data['IsPass'], cv=10, scoring='accuracy')\n",
    "    # 4. append mean of scores for k neighbors to k_scores list\n",
    "    k_scores.append(scores.mean())\n",
    "\n",
    "print(k_scores)\n",
    "print('Length of list', len(k_scores))\n",
    "print('Max of list', max(k_scores))"
   ]
  },
  {
   "cell_type": "code",
   "execution_count": 91,
   "metadata": {
    "scrolled": true
   },
   "outputs": [
    {
     "data": {
      "text/plain": [
       "Text(0,0.5,'Cross-validated accuracy')"
      ]
     },
     "execution_count": 91,
     "metadata": {},
     "output_type": "execute_result"
    },
    {
     "data": {
      "image/png": "[encoded data removed]",
      "text/plain": [
       "<Figure size 432x288 with 1 Axes>"
      ]
     },
     "metadata": {
      "needs_background": "light"
     },
     "output_type": "display_data"
    }
   ],
   "source": [
    "# plot how accuracy changes as we vary k\n",
    "import matplotlib.pyplot as plt\n",
    "%matplotlib inline\n",
    "\n",
    "# plot the value of K for KNN (x-axis) versus the cross-validated accuracy (y-axis)\n",
    "# plt.plot(x_axis, y_axis)\n",
    "plt.plot(k_range, k_scores)\n",
    "plt.xlabel('Value of K for KNN')\n",
    "plt.ylabel('Cross-validated accuracy')"
   ]
  },
  {
   "cell_type": "code",
   "execution_count": null,
   "metadata": {},
   "outputs": [],
   "source": []
  },
  {
   "cell_type": "markdown",
   "metadata": {},
   "source": [
    "# Random Forest Models"
   ]
  },
  {
   "cell_type": "code",
   "execution_count": 93,
   "metadata": {},
   "outputs": [],
   "source": [
    "from sklearn.ensemble import RandomForestClassifier\n",
    "from sklearn.model_selection import train_test_split\n",
    "from sklearn.metrics import confusion_matrix\n",
    "import pandas as pd"
   ]
  },
  {
   "cell_type": "code",
   "execution_count": 94,
   "metadata": {},
   "outputs": [
    {
     "data": {
      "text/html": [
       "<div>\n",
       "<style scoped>\n",
       "    .dataframe tbody tr th:only-of-type {\n",
       "        vertical-align: middle;\n",
       "    }\n",
       "\n",
       "    .dataframe tbody tr th {\n",
       "        vertical-align: top;\n",
       "    }\n",
       "\n",
       "    .dataframe thead th {\n",
       "        text-align: right;\n",
       "    }\n",
       "</style>\n",
       "<table border=\"1\" class=\"dataframe\">\n",
       "  <thead>\n",
       "    <tr style=\"text-align: right;\">\n",
       "      <th></th>\n",
       "      <th>GameId</th>\n",
       "      <th>GameDate</th>\n",
       "      <th>Quarter</th>\n",
       "      <th>Minute</th>\n",
       "      <th>Second</th>\n",
       "      <th>Remaining</th>\n",
       "      <th>OffenseTeam</th>\n",
       "      <th>DefenseTeam</th>\n",
       "      <th>Down</th>\n",
       "      <th>ToGo</th>\n",
       "      <th>...</th>\n",
       "      <th>Def_Pass_Overall_rank</th>\n",
       "      <th>Def_Rush_Overall_rank</th>\n",
       "      <th>IsHuddleShotgun</th>\n",
       "      <th>IsHuddleUndercenter</th>\n",
       "      <th>IsNohuddleShotgun</th>\n",
       "      <th>IsNohuddleUndercenter</th>\n",
       "      <th>distance_to_TD</th>\n",
       "      <th>cum_intcps_in_game</th>\n",
       "      <th>cum_fumbles_in_game</th>\n",
       "      <th>cum_passincplts_in_game</th>\n",
       "    </tr>\n",
       "  </thead>\n",
       "  <tbody>\n",
       "    <tr>\n",
       "      <td>85606</td>\n",
       "      <td>2018091612</td>\n",
       "      <td>2018/09/16</td>\n",
       "      <td>4</td>\n",
       "      <td>3</td>\n",
       "      <td>19</td>\n",
       "      <td>199</td>\n",
       "      <td>JAX</td>\n",
       "      <td>NE</td>\n",
       "      <td>1</td>\n",
       "      <td>10</td>\n",
       "      <td>...</td>\n",
       "      <td>3</td>\n",
       "      <td>1</td>\n",
       "      <td>1</td>\n",
       "      <td>0</td>\n",
       "      <td>0</td>\n",
       "      <td>0</td>\n",
       "      <td>68</td>\n",
       "      <td>1</td>\n",
       "      <td>2</td>\n",
       "      <td>25</td>\n",
       "    </tr>\n",
       "    <tr>\n",
       "      <td>86699</td>\n",
       "      <td>2016112400</td>\n",
       "      <td>2016/11/24</td>\n",
       "      <td>4</td>\n",
       "      <td>7</td>\n",
       "      <td>1</td>\n",
       "      <td>421</td>\n",
       "      <td>MIN</td>\n",
       "      <td>DET</td>\n",
       "      <td>1</td>\n",
       "      <td>15</td>\n",
       "      <td>...</td>\n",
       "      <td>4</td>\n",
       "      <td>1</td>\n",
       "      <td>1</td>\n",
       "      <td>0</td>\n",
       "      <td>0</td>\n",
       "      <td>0</td>\n",
       "      <td>74</td>\n",
       "      <td>1</td>\n",
       "      <td>0</td>\n",
       "      <td>18</td>\n",
       "    </tr>\n",
       "    <tr>\n",
       "      <td>103164</td>\n",
       "      <td>2018112508</td>\n",
       "      <td>2018/11/25</td>\n",
       "      <td>3</td>\n",
       "      <td>9</td>\n",
       "      <td>35</td>\n",
       "      <td>1475</td>\n",
       "      <td>LAC</td>\n",
       "      <td>ARI</td>\n",
       "      <td>1</td>\n",
       "      <td>10</td>\n",
       "      <td>...</td>\n",
       "      <td>2</td>\n",
       "      <td>4</td>\n",
       "      <td>0</td>\n",
       "      <td>1</td>\n",
       "      <td>0</td>\n",
       "      <td>0</td>\n",
       "      <td>14</td>\n",
       "      <td>1</td>\n",
       "      <td>0</td>\n",
       "      <td>6</td>\n",
       "    </tr>\n",
       "    <tr>\n",
       "      <td>80376</td>\n",
       "      <td>2017102209</td>\n",
       "      <td>2017/10/22</td>\n",
       "      <td>1</td>\n",
       "      <td>10</td>\n",
       "      <td>51</td>\n",
       "      <td>3351</td>\n",
       "      <td>DAL</td>\n",
       "      <td>SF</td>\n",
       "      <td>2</td>\n",
       "      <td>6</td>\n",
       "      <td>...</td>\n",
       "      <td>3</td>\n",
       "      <td>3</td>\n",
       "      <td>0</td>\n",
       "      <td>1</td>\n",
       "      <td>0</td>\n",
       "      <td>0</td>\n",
       "      <td>70</td>\n",
       "      <td>0</td>\n",
       "      <td>0</td>\n",
       "      <td>3</td>\n",
       "    </tr>\n",
       "    <tr>\n",
       "      <td>29992</td>\n",
       "      <td>2016100910</td>\n",
       "      <td>2016/10/09</td>\n",
       "      <td>2</td>\n",
       "      <td>2</td>\n",
       "      <td>59</td>\n",
       "      <td>1979</td>\n",
       "      <td>OAK</td>\n",
       "      <td>LAC</td>\n",
       "      <td>3</td>\n",
       "      <td>7</td>\n",
       "      <td>...</td>\n",
       "      <td>2</td>\n",
       "      <td>2</td>\n",
       "      <td>1</td>\n",
       "      <td>0</td>\n",
       "      <td>0</td>\n",
       "      <td>0</td>\n",
       "      <td>72</td>\n",
       "      <td>2</td>\n",
       "      <td>1</td>\n",
       "      <td>9</td>\n",
       "    </tr>\n",
       "    <tr>\n",
       "      <td>...</td>\n",
       "      <td>...</td>\n",
       "      <td>...</td>\n",
       "      <td>...</td>\n",
       "      <td>...</td>\n",
       "      <td>...</td>\n",
       "      <td>...</td>\n",
       "      <td>...</td>\n",
       "      <td>...</td>\n",
       "      <td>...</td>\n",
       "      <td>...</td>\n",
       "      <td>...</td>\n",
       "      <td>...</td>\n",
       "      <td>...</td>\n",
       "      <td>...</td>\n",
       "      <td>...</td>\n",
       "      <td>...</td>\n",
       "      <td>...</td>\n",
       "      <td>...</td>\n",
       "      <td>...</td>\n",
       "      <td>...</td>\n",
       "      <td>...</td>\n",
       "    </tr>\n",
       "    <tr>\n",
       "      <td>93553</td>\n",
       "      <td>2019102003</td>\n",
       "      <td>2019/10/20</td>\n",
       "      <td>3</td>\n",
       "      <td>3</td>\n",
       "      <td>30</td>\n",
       "      <td>1110</td>\n",
       "      <td>DET</td>\n",
       "      <td>MIN</td>\n",
       "      <td>3</td>\n",
       "      <td>8</td>\n",
       "      <td>...</td>\n",
       "      <td>3</td>\n",
       "      <td>1</td>\n",
       "      <td>1</td>\n",
       "      <td>0</td>\n",
       "      <td>0</td>\n",
       "      <td>0</td>\n",
       "      <td>28</td>\n",
       "      <td>1</td>\n",
       "      <td>2</td>\n",
       "      <td>22</td>\n",
       "    </tr>\n",
       "    <tr>\n",
       "      <td>50496</td>\n",
       "      <td>2019100604</td>\n",
       "      <td>2019/10/06</td>\n",
       "      <td>4</td>\n",
       "      <td>13</td>\n",
       "      <td>3</td>\n",
       "      <td>783</td>\n",
       "      <td>NYG</td>\n",
       "      <td>MIN</td>\n",
       "      <td>2</td>\n",
       "      <td>10</td>\n",
       "      <td>...</td>\n",
       "      <td>3</td>\n",
       "      <td>1</td>\n",
       "      <td>0</td>\n",
       "      <td>1</td>\n",
       "      <td>0</td>\n",
       "      <td>0</td>\n",
       "      <td>38</td>\n",
       "      <td>0</td>\n",
       "      <td>2</td>\n",
       "      <td>21</td>\n",
       "    </tr>\n",
       "    <tr>\n",
       "      <td>94735</td>\n",
       "      <td>2016112701</td>\n",
       "      <td>2016/11/27</td>\n",
       "      <td>3</td>\n",
       "      <td>1</td>\n",
       "      <td>32</td>\n",
       "      <td>992</td>\n",
       "      <td>BAL</td>\n",
       "      <td>CIN</td>\n",
       "      <td>1</td>\n",
       "      <td>10</td>\n",
       "      <td>...</td>\n",
       "      <td>2</td>\n",
       "      <td>2</td>\n",
       "      <td>0</td>\n",
       "      <td>1</td>\n",
       "      <td>0</td>\n",
       "      <td>0</td>\n",
       "      <td>44</td>\n",
       "      <td>1</td>\n",
       "      <td>0</td>\n",
       "      <td>20</td>\n",
       "    </tr>\n",
       "    <tr>\n",
       "      <td>105597</td>\n",
       "      <td>2016112100</td>\n",
       "      <td>2016/11/21</td>\n",
       "      <td>3</td>\n",
       "      <td>4</td>\n",
       "      <td>27</td>\n",
       "      <td>1167</td>\n",
       "      <td>OAK</td>\n",
       "      <td>HOU</td>\n",
       "      <td>1</td>\n",
       "      <td>15</td>\n",
       "      <td>...</td>\n",
       "      <td>2</td>\n",
       "      <td>1</td>\n",
       "      <td>1</td>\n",
       "      <td>0</td>\n",
       "      <td>0</td>\n",
       "      <td>0</td>\n",
       "      <td>39</td>\n",
       "      <td>2</td>\n",
       "      <td>1</td>\n",
       "      <td>16</td>\n",
       "    </tr>\n",
       "    <tr>\n",
       "      <td>83209</td>\n",
       "      <td>2018110409</td>\n",
       "      <td>2018/11/04</td>\n",
       "      <td>2</td>\n",
       "      <td>7</td>\n",
       "      <td>41</td>\n",
       "      <td>2261</td>\n",
       "      <td>NO</td>\n",
       "      <td>LAR</td>\n",
       "      <td>2</td>\n",
       "      <td>4</td>\n",
       "      <td>...</td>\n",
       "      <td>2</td>\n",
       "      <td>2</td>\n",
       "      <td>0</td>\n",
       "      <td>1</td>\n",
       "      <td>0</td>\n",
       "      <td>0</td>\n",
       "      <td>4</td>\n",
       "      <td>0</td>\n",
       "      <td>1</td>\n",
       "      <td>4</td>\n",
       "    </tr>\n",
       "  </tbody>\n",
       "</table>\n",
       "<p>94182 rows × 57 columns</p>\n",
       "</div>"
      ],
      "text/plain": [
       "            GameId    GameDate  Quarter  Minute  Second  Remaining  \\\n",
       "85606   2018091612  2018/09/16        4       3      19        199   \n",
       "86699   2016112400  2016/11/24        4       7       1        421   \n",
       "103164  2018112508  2018/11/25        3       9      35       1475   \n",
       "80376   2017102209  2017/10/22        1      10      51       3351   \n",
       "29992   2016100910  2016/10/09        2       2      59       1979   \n",
       "...            ...         ...      ...     ...     ...        ...   \n",
       "93553   2019102003  2019/10/20        3       3      30       1110   \n",
       "50496   2019100604  2019/10/06        4      13       3        783   \n",
       "94735   2016112701  2016/11/27        3       1      32        992   \n",
       "105597  2016112100  2016/11/21        3       4      27       1167   \n",
       "83209   2018110409  2018/11/04        2       7      41       2261   \n",
       "\n",
       "       OffenseTeam DefenseTeam  Down  ToGo  ...  Def_Pass_Overall_rank  \\\n",
       "85606          JAX          NE     1    10  ...                      3   \n",
       "86699          MIN         DET     1    15  ...                      4   \n",
       "103164         LAC         ARI     1    10  ...                      2   \n",
       "80376          DAL          SF     2     6  ...                      3   \n",
       "29992          OAK         LAC     3     7  ...                      2   \n",
       "...            ...         ...   ...   ...  ...                    ...   \n",
       "93553          DET         MIN     3     8  ...                      3   \n",
       "50496          NYG         MIN     2    10  ...                      3   \n",
       "94735          BAL         CIN     1    10  ...                      2   \n",
       "105597         OAK         HOU     1    15  ...                      2   \n",
       "83209           NO         LAR     2     4  ...                      2   \n",
       "\n",
       "       Def_Rush_Overall_rank  IsHuddleShotgun  IsHuddleUndercenter  \\\n",
       "85606                      1                1                    0   \n",
       "86699                      1                1                    0   \n",
       "103164                     4                0                    1   \n",
       "80376                      3                0                    1   \n",
       "29992                      2                1                    0   \n",
       "...                      ...              ...                  ...   \n",
       "93553                      1                1                    0   \n",
       "50496                      1                0                    1   \n",
       "94735                      2                0                    1   \n",
       "105597                     1                1                    0   \n",
       "83209                      2                0                    1   \n",
       "\n",
       "       IsNohuddleShotgun  IsNohuddleUndercenter  distance_to_TD  \\\n",
       "85606                  0                      0              68   \n",
       "86699                  0                      0              74   \n",
       "103164                 0                      0              14   \n",
       "80376                  0                      0              70   \n",
       "29992                  0                      0              72   \n",
       "...                  ...                    ...             ...   \n",
       "93553                  0                      0              28   \n",
       "50496                  0                      0              38   \n",
       "94735                  0                      0              44   \n",
       "105597                 0                      0              39   \n",
       "83209                  0                      0               4   \n",
       "\n",
       "       cum_intcps_in_game cum_fumbles_in_game  cum_passincplts_in_game  \n",
       "85606                   1                   2                       25  \n",
       "86699                   1                   0                       18  \n",
       "103164                  1                   0                        6  \n",
       "80376                   0                   0                        3  \n",
       "29992                   2                   1                        9  \n",
       "...                   ...                 ...                      ...  \n",
       "93553                   1                   2                       22  \n",
       "50496                   0                   2                       21  \n",
       "94735                   1                   0                       20  \n",
       "105597                  2                   1                       16  \n",
       "83209                   0                   1                        4  \n",
       "\n",
       "[94182 rows x 57 columns]"
      ]
     },
     "execution_count": 94,
     "metadata": {},
     "output_type": "execute_result"
    }
   ],
   "source": [
    "# data = pd.read_csv(r'C:\\Users\\zhong\\Downloads\\pbp_modeling_data.csv')\n",
    "data"
   ]
  },
  {
   "cell_type": "markdown",
   "metadata": {},
   "source": [
    "<b>Manually test different combinations of hyperparameters to locate potential best hyperparameter space</b>\n",
    "- Based on our research, we think the most two important hyperparameters of Random Forest model are max_depth and n_estimator (the number of trees).\n",
    "- Therefore, we manually adjust these two hyperparameters and see which combination has a better result.\n",
    "- Then, hj"
   ]
  },
  {
   "cell_type": "code",
   "execution_count": 95,
   "metadata": {},
   "outputs": [
    {
     "name": "stdout",
     "output_type": "stream",
     "text": [
      "training accuracy:  0.805680536200146\n",
      "testing accuracy:  0.7276105536975103\n"
     ]
    }
   ],
   "source": [
    "# max_depth = 15, n_estimators= 50\n",
    "rf_model1 = RandomForestClassifier(max_depth = 15, n_estimators = 50, random_state = 42)\n",
    "rf_model1.fit(X,y)\n",
    "print('training accuracy: ', rf_model1.score(X,y))\n",
    "print('testing accuracy: ', rf_model1.score(testdata[features],testdata['IsPass']))"
   ]
  },
  {
   "cell_type": "code",
   "execution_count": 97,
   "metadata": {},
   "outputs": [
    {
     "name": "stdout",
     "output_type": "stream",
     "text": [
      "training accuracy:  0.7367044926670648\n",
      "testing accuracy:  0.725115464245899\n"
     ]
    }
   ],
   "source": [
    "# max_depth = 10, n_estimators= 50\n",
    "rf_model2 = RandomForestClassifier(max_depth = 10, n_estimators = 50, random_state = 42)\n",
    "rf_model2.fit(X,y)\n",
    "print('training accuracy: ', rf_model2.score(X,y))\n",
    "print('testing accuracy: ', rf_model2.score(testdata[features],testdata['IsPass']))"
   ]
  },
  {
   "cell_type": "code",
   "execution_count": 98,
   "metadata": {},
   "outputs": [
    {
     "name": "stdout",
     "output_type": "stream",
     "text": [
      "training accuracy:  0.7186409184418342\n",
      "testing accuracy:  0.7185326750544142\n"
     ]
    }
   ],
   "source": [
    "# max_depth = 5, n_estimators= 50\n",
    "rf_model3 = RandomForestClassifier(max_depth = 5, n_estimators = 50, random_state = 42)\n",
    "rf_model3.fit(X,y)\n",
    "print('training accuracy: ', rf_model3.score(X,y))\n",
    "print('testing accuracy: ', rf_model3.score(testdata[features],testdata['IsPass']))"
   ]
  },
  {
   "cell_type": "code",
   "execution_count": 99,
   "metadata": {},
   "outputs": [
    {
     "name": "stdout",
     "output_type": "stream",
     "text": [
      "training accuracy:  0.9573827062180635\n",
      "testing accuracy:  0.7205499814195466\n"
     ]
    }
   ],
   "source": [
    "# max_depth = 20, n_estimators= 50\n",
    "rf_model4 = RandomForestClassifier(max_depth = 20, n_estimators = 50, random_state = 42)\n",
    "rf_model4.fit(X,y)\n",
    "print('training accuracy: ', rf_model4.score(X,y))\n",
    "print('testing accuracy: ', rf_model4.score(testdata[features],testdata['IsPass']))"
   ]
  },
  {
   "cell_type": "code",
   "execution_count": 100,
   "metadata": {},
   "outputs": [
    {
     "name": "stdout",
     "output_type": "stream",
     "text": [
      "training accuracy:  0.8019908421262194\n",
      "testing accuracy:  0.7289377289377289\n"
     ]
    }
   ],
   "source": [
    "# max_depth = 15, n_estimators= 100\n",
    "rf_model5 = RandomForestClassifier(max_depth = 15, n_estimators = 100, random_state = 42)\n",
    "rf_model5.fit(X,y)\n",
    "print('training accuracy: ', rf_model5.score(X,y))\n",
    "print('testing accuracy: ', rf_model5.score(testdata[features],testdata['IsPass']))"
   ]
  },
  {
   "cell_type": "code",
   "execution_count": 101,
   "metadata": {},
   "outputs": [
    {
     "name": "stdout",
     "output_type": "stream",
     "text": [
      "training accuracy:  0.8024155551131462\n",
      "testing accuracy:  0.7279821627647715\n"
     ]
    }
   ],
   "source": [
    "# max_depth = 15, n_estimators= 150\n",
    "rf_model6 = RandomForestClassifier(max_depth = 15, n_estimators = 150, random_state = 42)\n",
    "rf_model6.fit(X,y)\n",
    "print('training accuracy: ', rf_model6.score(X,y))\n",
    "print('testing accuracy: ', rf_model6.score(testdata[features],testdata['IsPass']))"
   ]
  },
  {
   "cell_type": "code",
   "execution_count": 107,
   "metadata": {},
   "outputs": [
    {
     "name": "stdout",
     "output_type": "stream",
     "text": [
      "training accuracy:  0.9613511181896609\n",
      "testing accuracy:  0.7233105059192015\n"
     ]
    }
   ],
   "source": [
    "# max_depth = 20, n_estimators= 150\n",
    "rf_model12 = RandomForestClassifier(max_depth = 20, n_estimators = 100, random_state = 42)\n",
    "rf_model12.fit(X,y)\n",
    "print('training accuracy: ', rf_model12.score(X,y))\n",
    "print('testing accuracy: ', rf_model12.score(testdata[features],testdata['IsPass']))"
   ]
  },
  {
   "cell_type": "markdown",
   "metadata": {},
   "source": [
    "- We notice the max_depth 15 seems to yield the highest accuracy. "
   ]
  },
  {
   "cell_type": "code",
   "execution_count": 108,
   "metadata": {},
   "outputs": [
    {
     "name": "stdout",
     "output_type": "stream",
     "text": [
      "training accuracy:  0.8024155551131462\n",
      "testing accuracy:  0.7279821627647715\n"
     ]
    }
   ],
   "source": [
    "# max_depth = 15, n_estimators= 150\n",
    "rf_model7 = RandomForestClassifier(max_depth = 15, n_estimators = 150, random_state = 42)\n",
    "rf_model7.fit(X,y)\n",
    "print('training accuracy: ', rf_model7.score(X,y))\n",
    "print('testing accuracy: ', rf_model7.score(testdata[features],testdata['IsPass']))"
   ]
  },
  {
   "cell_type": "code",
   "execution_count": 109,
   "metadata": {},
   "outputs": [
    {
     "name": "stdout",
     "output_type": "stream",
     "text": [
      "training accuracy:  0.8015395845776097\n",
      "testing accuracy:  0.7281414237935977\n"
     ]
    }
   ],
   "source": [
    "# max_depth = 15, n_estimators= 200\n",
    "rf_model8 = RandomForestClassifier(max_depth = 15, n_estimators = 200, random_state = 42)\n",
    "rf_model8.fit(X,y)\n",
    "print('training accuracy: ', rf_model8.score(X,y))\n",
    "print('testing accuracy: ', rf_model8.score(testdata[features],testdata['IsPass']))"
   ]
  },
  {
   "cell_type": "code",
   "execution_count": 110,
   "metadata": {},
   "outputs": [
    {
     "name": "stdout",
     "output_type": "stream",
     "text": [
      "training accuracy:  0.8021368372154755\n",
      "testing accuracy:  0.7281945108032064\n"
     ]
    }
   ],
   "source": [
    "# max_depth = 15, n_estimators= 250\n",
    "rf_model9 = RandomForestClassifier(max_depth = 15, n_estimators = 250, random_state = 42)\n",
    "rf_model9.fit(X,y)\n",
    "print('training accuracy: ', rf_model9.score(X,y))\n",
    "print('testing accuracy: ', rf_model9.score(testdata[features],testdata['IsPass']))"
   ]
  },
  {
   "cell_type": "code",
   "execution_count": 111,
   "metadata": {},
   "outputs": [
    {
     "name": "stdout",
     "output_type": "stream",
     "text": [
      "training accuracy:  0.8020837480921096\n",
      "testing accuracy:  0.7273982056590752\n"
     ]
    }
   ],
   "source": [
    "# max_depth = 15, n_estimators= 300\n",
    "rf_model10 = RandomForestClassifier(max_depth = 15, n_estimators = 300, random_state = 42)\n",
    "rf_model10.fit(X,y)\n",
    "print('training accuracy: ', rf_model10.score(X,y))\n",
    "print('testing accuracy: ', rf_model10.score(testdata[features],testdata['IsPass']))"
   ]
  },
  {
   "cell_type": "code",
   "execution_count": 113,
   "metadata": {},
   "outputs": [
    {
     "name": "stdout",
     "output_type": "stream",
     "text": [
      "training accuracy:  0.7357488884464796\n",
      "testing accuracy:  0.7244253331209853\n"
     ]
    }
   ],
   "source": [
    "# max_depth = 10, n_estimators= 350\n",
    "rf_model11 = RandomForestClassifier(max_depth = 10, n_estimators = 350, random_state = 42)\n",
    "rf_model11.fit(X,y)\n",
    "print('training accuracy: ', rf_model11.score(X,y))\n",
    "print('testing accuracy: ', rf_model11.score(testdata[features],testdata['IsPass']))"
   ]
  },
  {
   "cell_type": "markdown",
   "metadata": {},
   "source": [
    "Cross Validation & Hyperparameter Tuning\n",
    "- We find Random Forest model with max_depth = 15 and n_estimators = 100 gives the best result."
   ]
  },
  {
   "cell_type": "code",
   "execution_count": 127,
   "metadata": {},
   "outputs": [],
   "source": [
    "depth_list = [10,15,20]\n",
    "tree_list = [100,150,200]\n",
    "# (len(depth_list)*len(tree_list))"
   ]
  },
  {
   "cell_type": "code",
   "execution_count": 124,
   "metadata": {},
   "outputs": [],
   "source": [
    "def rf_find_hyperparameter():\n",
    "    training_accuracy = []\n",
    "    testing_accuracy = []\n",
    "    train_minus_test_accuracy = []\n",
    "    for i in depth_list:\n",
    "        for j in tree_list:\n",
    "            model = RandomForestClassifier(max_depth = i, n_estimators = j, random_state = 42)\n",
    "            model.fit(X,y)\n",
    "            training_accuracy.append((i,j,model.score(X,y)))\n",
    "            testing_accuracy.append((i,j,model.score(testdata[features],testdata['IsPass'])))\n",
    "            train_minus_test_accuracy.append((i,j,model.score(X,y)-model.score(testdata[features],testdata['IsPass'])))\n",
    "\n",
    "#     print('Max testing accuracy: ', testing_accuracy.sort(key = lambda x : x[2])[0][2])\n",
    "#     print('Depth of the most accurate random forest: ', testing_accuracy.sort(key = lambda x : x[2])[0][0])\n",
    "#     print('Number of trees of the most accurate random forest: ', testing_accuracy.sort(key = lambda x : x[2])[0][1])\n",
    "\n",
    "    return training_accuracy, testing_accuracy, train_minus_test_accuracy\n",
    "\n",
    "training_accuracy, testing_accuracy, train_minus_test_accuracy = rf_find_hyperparameter()"
   ]
  },
  {
   "cell_type": "code",
   "execution_count": 125,
   "metadata": {},
   "outputs": [
    {
     "name": "stdout",
     "output_type": "stream",
     "text": [
      "[(15, 100, 0.7289377289377289), (15, 200, 0.7281414237935977), (15, 150, 0.7279821627647715), (10, 150, 0.7245845941498116), (20, 150, 0.7243191591017678), (10, 200, 0.7241598980729416), (10, 100, 0.7240006370441153), (20, 200, 0.7234166799384191), (20, 100, 0.7233105059192015)]\n",
      "[(10, 100, 0.0), (10, 150, 0.0), (10, 200, 0.0), (15, 100, 0.0), (15, 150, 0.0), (15, 200, 0.0), (20, 100, 0.0), (20, 150, 0.0), (20, 200, 0.0)]\n"
     ]
    }
   ],
   "source": [
    "testing_accuracy.sort(key = lambda x : x[2], reverse= True)\n",
    "print(testing_accuracy)\n",
    "train_minus_test_accuracy.sort(key = lambda x : x[2])\n",
    "print(train_minus_test_accuracy)"
   ]
  },
  {
   "cell_type": "markdown",
   "metadata": {},
   "source": [
    "<b>Show Feature Importances</b>"
   ]
  },
  {
   "cell_type": "code",
   "execution_count": 204,
   "metadata": {},
   "outputs": [
    {
     "data": {
      "text/plain": [
       "Text(0.5,0,'Relative Importance')"
      ]
     },
     "execution_count": 204,
     "metadata": {},
     "output_type": "execute_result"
    },
    {
     "data": {
      "image/png": "[encoded data removed]",
      "text/plain": [
       "<Figure size 864x864 with 1 Axes>"
      ]
     },
     "metadata": {
      "needs_background": "light"
     },
     "output_type": "display_data"
    }
   ],
   "source": [
    "import matplotlib.pyplot as plt\n",
    "%matplotlib inline\n",
    "importances = rf_model5.feature_importances_      # rf_model6 is the random forest classifier\n",
    "indices = np.argsort(importances)\n",
    "plt.figure(figsize=(12,12))\n",
    "plt.title('Feature Importances')\n",
    "plt.barh(range(len(indices)), importances[indices], color='c', align='center')\n",
    "plt.yticks(indices,features)\n",
    "plt.xlabel('Relative Importance')"
   ]
  },
  {
   "cell_type": "code",
   "execution_count": 123,
   "metadata": {},
   "outputs": [
    {
     "name": "stdout",
     "output_type": "stream",
     "text": [
      "Default parameters:\n",
      "\n",
      "{'bootstrap': True, 'class_weight': None, 'criterion': 'gini', 'max_depth': None, 'max_features': 'auto', 'max_leaf_nodes': None, 'min_impurity_decrease': 0.0, 'min_impurity_split': None, 'min_samples_leaf': 1, 'min_samples_split': 2, 'min_weight_fraction_leaf': 0.0, 'n_estimators': 10, 'n_jobs': 1, 'oob_score': False, 'random_state': 42, 'verbose': 0, 'warm_start': False}\n"
     ]
    }
   ],
   "source": [
    "rf_default = RandomForestClassifier(random_state = 42)\n",
    "# Parameters used by default\n",
    "print('Default parameters:\\n')\n",
    "print(rf_default.get_params())"
   ]
  },
  {
   "cell_type": "markdown",
   "metadata": {},
   "source": [
    "<b>Best model: rf_model5</b>"
   ]
  },
  {
   "cell_type": "markdown",
   "metadata": {},
   "source": [
    "Compute trainset cross validation accuracy"
   ]
  },
  {
   "cell_type": "code",
   "execution_count": 205,
   "metadata": {},
   "outputs": [
    {
     "name": "stdout",
     "output_type": "stream",
     "text": [
      "[0.72587323 0.72714726 0.72948296 0.73160633 0.72796772 0.72679975\n",
      " 0.72818008 0.73030367 0.72900074 0.72900074]\n",
      "Mean score =  0.7285362485847161\n"
     ]
    }
   ],
   "source": [
    "from sklearn.cross_validation import cross_val_score\n",
    "rf_model5_train_scores = cross_val_score(rf_model5, data[features], data['IsPass'], cv=10, scoring = 'accuracy')\n",
    "print(rf_model5_train_scores)\n",
    "print('Mean score = ', rf_model5_train_scores.mean())"
   ]
  },
  {
   "cell_type": "markdown",
   "metadata": {},
   "source": [
    "Compute testset cross validation accuracy"
   ]
  },
  {
   "cell_type": "code",
   "execution_count": 131,
   "metadata": {},
   "outputs": [
    {
     "name": "stdout",
     "output_type": "stream",
     "text": [
      "[0.72993631 0.72781316 0.73333333 0.72611465 0.73036093 0.73036093\n",
      " 0.71210191 0.73078556 0.71695708 0.73140671]\n",
      "Mean score =  0.7269170584960428\n"
     ]
    }
   ],
   "source": [
    "from sklearn.cross_validation import cross_val_score\n",
    "rf_model5_scores = cross_val_score(rf_model5, Testdata[features], Testdata['IsPass'], cv=10, scoring = 'accuracy')\n",
    "print(rf_model5_scores)\n",
    "print('Mean score = ', rf_model5_scores.mean())"
   ]
  },
  {
   "cell_type": "markdown",
   "metadata": {},
   "source": [
    "Compute confusion matrix and False Negative Rate"
   ]
  },
  {
   "cell_type": "code",
   "execution_count": 132,
   "metadata": {},
   "outputs": [
    {
     "name": "stdout",
     "output_type": "stream",
     "text": [
      "[[ 6138  3330]\n",
      " [ 2961 11117]]\n",
      "False Negative Rate =  0.21032817161528627\n"
     ]
    }
   ],
   "source": [
    "# FN / (TP + FN) \n",
    "print(confusion_matrix(Testdata['IsPass'], rf_model5.predict(Testdata[features])))\n",
    "tn, fp, fn, tp = confusion_matrix(Testdata['IsPass'], rf_model5.predict(Testdata[features])).ravel()\n",
    "print('False Negative Rate = ', fn/(tp+fn))"
   ]
  },
  {
   "cell_type": "markdown",
   "metadata": {},
   "source": [
    "Draw the ROC curve\n",
    "- ROC curves of different models are very close and not easy to distinguish because of colors covering each other. Therefore, we don't compare the models using ROC curve. Instead, we compare them in the results table."
   ]
  },
  {
   "cell_type": "code",
   "execution_count": 136,
   "metadata": {},
   "outputs": [
    {
     "data": {
      "image/png": "[encoded data removed]",
      "text/plain": [
       "<Figure size 432x288 with 1 Axes>"
      ]
     },
     "metadata": {
      "needs_background": "light"
     },
     "output_type": "display_data"
    }
   ],
   "source": [
    "#training_predictions = model.predict(x_train)\n",
    "#(fpr, tpr, thresholds) = roc_curve(y_train,training_predictions)\n",
    "from sklearn.metrics import roc_curve, auc\n",
    "testing_predictions_lg = logit_model10.predict(Testdata[features])\n",
    "(fpr_lg, tpr_lg, thresholds_lg) = roc_curve(Testdata['IsPass'],testing_predictions_lg)\n",
    "testing_predictions_rf = rf_model5.predict(Testdata[features])\n",
    "(fpr_rf, tpr_rf, thresholds_rf) = roc_curve(Testdata['IsPass'],testing_predictions_rf)\n",
    "\n",
    "area_lg = auc(fpr_lg,tpr_lg)\n",
    "area_rf = auc(fpr_rf,tpr_rf)\n",
    "plt.clf() #Clear the current figure\n",
    "plt.plot(fpr_lg,tpr_lg,label=\"Test Set Logit ROC Curve with area = %1.2f\"%area_lg)\n",
    "plt.plot(fpr_rf,tpr_rf,label=\"Test Set R.F. ROC Curve with area = %1.2f\"%area_rf)\n",
    "\n",
    "plt.plot([0, 1], [0, 1], 'k')\n",
    "plt.xlim([0.0, 1.0])\n",
    "plt.ylim([0.0, 1.0])\n",
    "plt.xlabel('False Positive Rate')\n",
    "plt.ylabel('True Positive Rate')\n",
    "plt.title('Test Set ROC Pass Play vs Rush Play')\n",
    "plt.legend(loc=\"lower right\")\n",
    "plt.show()"
   ]
  },
  {
   "cell_type": "markdown",
   "metadata": {},
   "source": [
    "<b>Random Hyperparameter Grid</b>\n",
    "- The right and systematic way to do hyperparameter tuning should be using GridSearchCV. However, in our many trials of using this method, the computational cost is so large that the program runs for so long without giving a result.\n",
    "- Even in the rf_cv_find_hyperparameter where we use 5 cross-validation, the computational cost is really large.\n",
    "- Therefore, <b>we don't run the code belowed</b> in the last version of our notebook, but only provide it as a reference and proof that we master such hyperparameter tuning tools.\n",
    "- Our rf_model5 above should suffice to give a representative result of the Random Forest model."
   ]
  },
  {
   "cell_type": "code",
   "execution_count": null,
   "metadata": {},
   "outputs": [],
   "source": [
    "n_estimators = [int(x) for x in np.linspace(start = 100, stop = 1100, num = 5)]\n",
    "n_estimators"
   ]
  },
  {
   "cell_type": "code",
   "execution_count": null,
   "metadata": {},
   "outputs": [],
   "source": [
    "max_depth = [int(x) for x in np.linspace(10, 110, num = 5)]\n",
    "max_depth.append(None)\n",
    "max_depth"
   ]
  },
  {
   "cell_type": "code",
   "execution_count": null,
   "metadata": {},
   "outputs": [],
   "source": [
    "from sklearn.model_selection import RandomizedSearchCV\n",
    "# Number of trees in random forest\n",
    "n_estimators = [int(x) for x in np.linspace(start = 100, stop = 1100, num = 5)]\n",
    "\n",
    "# Number of features to consider at every split\n",
    "max_features = ['auto', 'sqrt']\n",
    "\n",
    "# Maximum number of levels in tree\n",
    "max_depth = [int(x) for x in np.linspace(10, 110, num = 5)]\n",
    "max_depth.append(None)\n",
    "\n",
    "# Method of selecting samples for training each tree\n",
    "# bootstrap = [True, False]\n",
    "\n",
    "# Create the random grid\n",
    "random_grid = {'n_estimators': n_estimators,\n",
    "               'max_features': max_features,\n",
    "               'max_depth': max_depth}\n",
    "\n",
    "print(random_grid)\n",
    "\n",
    "# Random Search Training\n",
    "# Use the random grid to search for best hyperparameters\n",
    "# First create the base model to tune\n",
    "rfc = RandomForestClassifier()\n",
    "\n",
    "# Random search of parameters, using 3 fold cross validation, search across 100 different combinations, and use all available cores\n",
    "rf_random = RandomizedSearchCV(estimator = rfc, param_distributions = random_grid, n_iter = 100, cv = 3, verbose=2, random_state=42)\n",
    "\n",
    "# Fit the random search model\n",
    "rf_random.fit(train_features_exp, train_lables_exp)\n",
    "rf_random.best_params_"
   ]
  },
  {
   "cell_type": "code",
   "execution_count": null,
   "metadata": {},
   "outputs": [],
   "source": [
    "def rf_cv_find_hyperparameter():\n",
    "    model_accuracy = []\n",
    "    for i in depth_list:\n",
    "        for j in tree_list:\n",
    "            model = RandomForestClassifier(max_depth = i, n_estimators = j, random_state = 42)\n",
    "            model_scores = cross_val_score(model, data[features], data['IsPass'], cv=5, scoring = 'accuracy')\n",
    "            model_accuracy.append((i,j,model_scores.mean()))\n",
    "        \n",
    "#     print('Max testing accuracy: ', testing_accuracy.sort(key = lambda x : x[2])[0][2])\n",
    "#     print('Depth of the most accurate random forest: ', testing_accuracy.sort(key = lambda x : x[2])[0][0])\n",
    "#     print('Number of trees of the most accurate random forest: ', testing_accuracy.sort(key = lambda x : x[2])[0][1])\n",
    "\n",
    "    model_accuracy.sort(key = lambda x : x[2], reverse= True)\n",
    "    return model_accuracy\n",
    "\n",
    "cv_model_accuracy = rf_cv_find_hyperparameter()\n",
    "cv_model_accuracy"
   ]
  },
  {
   "cell_type": "markdown",
   "metadata": {},
   "source": [
    "<b>Test data accuracy by quarter</b>"
   ]
  },
  {
   "cell_type": "code",
   "execution_count": 137,
   "metadata": {},
   "outputs": [
    {
     "data": {
      "text/plain": [
       "[0.7010931021485112,\n",
       " 0.729666562792147,\n",
       " 0.6992826926613942,\n",
       " 0.7919344473007712,\n",
       " 0.7515527950310559]"
      ]
     },
     "execution_count": 137,
     "metadata": {},
     "output_type": "execute_result"
    }
   ],
   "source": [
    "def gen_df_byquarter():\n",
    "    rf_quarter_list = list()\n",
    "    for i in range(5):\n",
    "        rf_quarter_list.append(rf_model5.score(Testdata[Testdata['Quarter'] == i+1][features], \\\n",
    "                                                     Testdata[Testdata['Quarter'] == i+1]['IsPass']))\n",
    "    return rf_quarter_list\n",
    "\n",
    "rf_quarter_list = gen_df_byquarter()\n",
    "rf_quarter_list"
   ]
  },
  {
   "cell_type": "markdown",
   "metadata": {},
   "source": [
    "<b>Test data accuracy by down</b>"
   ]
  },
  {
   "cell_type": "code",
   "execution_count": 138,
   "metadata": {},
   "outputs": [
    {
     "data": {
      "text/plain": [
       "[0.6864463282217355,\n",
       " 0.7166603702304496,\n",
       " 0.8535098781000421,\n",
       " 0.8530259365994236]"
      ]
     },
     "execution_count": 138,
     "metadata": {},
     "output_type": "execute_result"
    }
   ],
   "source": [
    "def gen_df_bydown():\n",
    "    rf_down_list = list()\n",
    "    for i in range(4):\n",
    "        rf_down_list.append(rf_model5.score(Testdata[Testdata['Down'] == i+1][features],\\\n",
    "                                                     Testdata[Testdata['Down'] == i+1]['IsPass']))\n",
    "    return rf_down_list\n",
    "\n",
    "rf_down_list = gen_df_bydown()\n",
    "rf_down_list"
   ]
  },
  {
   "cell_type": "code",
   "execution_count": null,
   "metadata": {},
   "outputs": [],
   "source": []
  },
  {
   "cell_type": "markdown",
   "metadata": {},
   "source": [
    "# Gradient Boosting Machine"
   ]
  },
  {
   "cell_type": "code",
   "execution_count": 139,
   "metadata": {},
   "outputs": [],
   "source": [
    "import seaborn as sns\n",
    "import matplotlib.pyplot as plt\n",
    "import matplotlib.patches as patches\n",
    "import matplotlib.path as path\n",
    "%matplotlib inline\n",
    "\n",
    "from sklearn import preprocessing\n",
    "from sklearn.model_selection import train_test_split\n",
    "from sklearn.metrics import confusion_matrix\n",
    "from sklearn.neural_network import MLPClassifier\n",
    "from sklearn.ensemble import GradientBoostingClassifier\n",
    "\n",
    "test_features_exp = test[features]\n",
    "test_labels_exp = test['IsPass']"
   ]
  },
  {
   "cell_type": "code",
   "execution_count": 141,
   "metadata": {},
   "outputs": [
    {
     "name": "stdout",
     "output_type": "stream",
     "text": [
      "training accuracy:  0.737686641449333\n",
      "testing accuracy:  0.7338401426993969\n"
     ]
    }
   ],
   "source": [
    "gbclassifier1 = GradientBoostingClassifier(n_estimators=250)\n",
    "gbclassifier1.fit(X,y)\n",
    "print('training accuracy: ', gbclassifier1.score(X,y))\n",
    "print('testing accuracy: ', gbclassifier1.score(test_features_exp,test_labels_exp))"
   ]
  },
  {
   "cell_type": "code",
   "execution_count": 142,
   "metadata": {},
   "outputs": [
    {
     "name": "stdout",
     "output_type": "stream",
     "text": [
      "training accuracy:  0.7392394983077842\n",
      "testing accuracy:  0.734094963051049\n"
     ]
    }
   ],
   "source": [
    "gbclassifier2 = GradientBoostingClassifier(n_estimators=300)\n",
    "gbclassifier2.fit(X,y)\n",
    "print('training accuracy: ', gbclassifier2.score(X,y))\n",
    "print('testing accuracy: ', gbclassifier2.score(test_features_exp,test_labels_exp))"
   ]
  },
  {
   "cell_type": "code",
   "execution_count": 143,
   "metadata": {},
   "outputs": [
    {
     "name": "stdout",
     "output_type": "stream",
     "text": [
      "training accuracy:  0.7413630632424182\n",
      "testing accuracy:  0.7347320139301792\n"
     ]
    }
   ],
   "source": [
    "gbclassifier3 = GradientBoostingClassifier(n_estimators=400)\n",
    "gbclassifier3.fit(X,y)\n",
    "print('training accuracy: ', gbclassifier3.score(X,y))\n",
    "print('testing accuracy: ', gbclassifier3.score(test_features_exp,test_labels_exp))"
   ]
  },
  {
   "cell_type": "code",
   "execution_count": 144,
   "metadata": {},
   "outputs": [
    {
     "name": "stdout",
     "output_type": "stream",
     "text": [
      "training accuracy:  0.7399960183157476\n",
      "testing accuracy:  0.734222373226875\n"
     ]
    }
   ],
   "source": [
    "gbclassifier4 = GradientBoostingClassifier(n_estimators=350)\n",
    "gbclassifier4.fit(X,y)\n",
    "print('training accuracy: ', gbclassifier4.score(X,y))\n",
    "print('testing accuracy: ', gbclassifier4.score(test_features_exp,test_labels_exp))"
   ]
  },
  {
   "cell_type": "code",
   "execution_count": 145,
   "metadata": {},
   "outputs": [
    {
     "name": "stdout",
     "output_type": "stream",
     "text": [
      "training accuracy:  0.7403278253367841\n",
      "testing accuracy:  0.7343073133440924\n"
     ]
    }
   ],
   "source": [
    "gbclassifier5 = GradientBoostingClassifier(n_estimators=360, random_state=42)\n",
    "gbclassifier5.fit(X,y)\n",
    "print('training accuracy: ', gbclassifier5.score(X,y))\n",
    "print('testing accuracy: ', gbclassifier5.score(test_features_exp,test_labels_exp))"
   ]
  },
  {
   "cell_type": "code",
   "execution_count": 146,
   "metadata": {},
   "outputs": [
    {
     "name": "stdout",
     "output_type": "stream",
     "text": [
      "training accuracy:  0.7406198155152963\n",
      "testing accuracy:  0.7350717743990487\n"
     ]
    }
   ],
   "source": [
    "gbclassifier6 = GradientBoostingClassifier(n_estimators=370, random_state=42)\n",
    "gbclassifier6.fit(X,y)\n",
    "print('training accuracy: ', gbclassifier6.score(X,y))\n",
    "print('testing accuracy: ', gbclassifier6.score(test_features_exp,test_labels_exp))"
   ]
  },
  {
   "cell_type": "code",
   "execution_count": 147,
   "metadata": {},
   "outputs": [
    {
     "name": "stdout",
     "output_type": "stream",
     "text": [
      "training accuracy:  0.7401154688433207\n",
      "testing accuracy:  0.7345196636371358\n"
     ]
    }
   ],
   "source": [
    "gbclassifier7 = GradientBoostingClassifier(n_estimators=340, random_state=42)\n",
    "gbclassifier7.fit(X,y)\n",
    "print('training accuracy: ', gbclassifier7.score(X,y))\n",
    "print('testing accuracy: ', gbclassifier7.score(test_features_exp,test_labels_exp))"
   ]
  },
  {
   "cell_type": "code",
   "execution_count": 148,
   "metadata": {},
   "outputs": [
    {
     "name": "stdout",
     "output_type": "stream",
     "text": [
      "training accuracy:  0.73983675094565\n",
      "testing accuracy:  0.7344771935785271\n"
     ]
    }
   ],
   "source": [
    "gbclassifier8 = GradientBoostingClassifier(n_estimators=330, random_state=42)\n",
    "gbclassifier8.fit(X,y)\n",
    "print('training accuracy: ', gbclassifier8.score(X,y))\n",
    "print('testing accuracy: ', gbclassifier8.score(test_features_exp,test_labels_exp))"
   ]
  },
  {
   "cell_type": "code",
   "execution_count": 149,
   "metadata": {},
   "outputs": [
    {
     "name": "stdout",
     "output_type": "stream",
     "text": [
      "training accuracy:  0.7399960183157476\n",
      "testing accuracy:  0.734222373226875\n"
     ]
    }
   ],
   "source": [
    "gbclassifier10 = GradientBoostingClassifier(n_estimators=350, random_state=42)\n",
    "gbclassifier10.fit(X,y)\n",
    "print('training accuracy: ', gbclassifier10.score(X,y))\n",
    "print('testing accuracy: ', gbclassifier10.score(test_features_exp,test_labels_exp))"
   ]
  },
  {
   "cell_type": "markdown",
   "metadata": {},
   "source": [
    "Show feature importances"
   ]
  },
  {
   "cell_type": "code",
   "execution_count": 153,
   "metadata": {},
   "outputs": [
    {
     "data": {
      "text/plain": [
       "array([2.44330493e-06, 3.41718701e-02, 2.83454300e-02, 1.57527524e-01,\n",
       "       7.89272102e-02, 9.20992666e-02, 7.78100611e-03, 1.17371878e-01,\n",
       "       1.63058625e-02, 1.43220504e-02, 1.57631292e-02, 6.10235486e-03,\n",
       "       1.63948642e-02, 9.21845835e-03, 1.03783735e-02, 1.31299506e-02,\n",
       "       1.23428404e-02, 1.14019129e-02, 7.07054617e-03, 1.13336171e-02,\n",
       "       9.39860395e-03, 7.25020040e-03, 8.02371257e-03, 8.14542618e-03,\n",
       "       6.35588261e-03, 6.57415247e-03, 8.96535775e-03, 9.58950845e-03,\n",
       "       5.69929830e-03, 7.05287020e-03, 7.29473493e-03, 1.00029487e-02,\n",
       "       9.01474028e-03, 3.50095343e-03, 3.63446973e-03, 4.60906312e-03,\n",
       "       6.63492470e-02, 1.40556023e-02, 1.11900958e-02, 7.93079342e-02,\n",
       "       1.02100684e-02, 1.18454987e-02, 3.19390420e-02])"
      ]
     },
     "execution_count": 153,
     "metadata": {},
     "output_type": "execute_result"
    }
   ],
   "source": [
    "gbclassifier6.feature_importances_"
   ]
  },
  {
   "cell_type": "code",
   "execution_count": 154,
   "metadata": {},
   "outputs": [
    {
     "data": {
      "text/plain": [
       "Text(0.5,0,'Relative Importance')"
      ]
     },
     "execution_count": 154,
     "metadata": {},
     "output_type": "execute_result"
    },
    {
     "data": {
      "image/png": "[encoded data removed]",
      "text/plain": [
       "<Figure size 864x864 with 1 Axes>"
      ]
     },
     "metadata": {
      "needs_background": "light"
     },
     "output_type": "display_data"
    }
   ],
   "source": [
    "import matplotlib.pyplot as plt\n",
    "%matplotlib inline\n",
    "importances = gbclassifier6.feature_importances_      # gbclassifier10 is the random forest classifier\n",
    "indices = np.argsort(importances)\n",
    "plt.figure(figsize=(12,12))\n",
    "plt.title('Feature Importances')\n",
    "plt.barh(range(len(indices)), importances[indices], color='c', align='center')\n",
    "plt.yticks(indices,features)\n",
    "plt.xlabel('Relative Importance')"
   ]
  },
  {
   "cell_type": "markdown",
   "metadata": {},
   "source": [
    "<b>Best Model: gbclassifier6</b>"
   ]
  },
  {
   "cell_type": "markdown",
   "metadata": {},
   "source": [
    "Compute trainset cross validation accuracy"
   ]
  },
  {
   "cell_type": "code",
   "execution_count": 152,
   "metadata": {},
   "outputs": [],
   "source": [
    "# 10-fold valodation for 15 iterations using gbclassifier6\n",
    "def gbmodel_cross_validation(iteration):\n",
    "    score_list = []\n",
    "    meanscore_list = []\n",
    "    for i in range(iteration): \n",
    "        gbmodel_scores = cross_val_score(gbclassifier6, data[features], data['IsPass'], cv=10, scoring='accuracy')\n",
    "        meanscore_list.append(gbmodel_scores.mean())\n",
    "        score_list.extend(gbmodel_scores)\n",
    "    return score_list, meanscore_list"
   ]
  },
  {
   "cell_type": "code",
   "execution_count": 151,
   "metadata": {},
   "outputs": [
    {
     "name": "stdout",
     "output_type": "stream",
     "text": [
      "[0.7318186644017411, 0.7346852107442403, 0.7272534239303535, 0.732986516615352, 0.7323210872796773, 0.7334890634954343, 0.7361435548948821, 0.7368868124867275, 0.733991717107359, 0.7348412445577148, 0.7318186644017411, 0.7346852107442403, 0.7272534239303535, 0.732986516615352, 0.7323210872796773, 0.7334890634954343, 0.7361435548948821, 0.7368868124867275, 0.733991717107359, 0.7348412445577148]\n",
      "[0.7334417295513481, 0.7334417295513481]\n"
     ]
    }
   ],
   "source": [
    "gb_score_list, gb_meanscore_list = gbmodel_cross_validation(2)\n",
    "print(gb_score_list)\n",
    "print(gb_meanscore_list)"
   ]
  },
  {
   "cell_type": "markdown",
   "metadata": {},
   "source": [
    "Compute testset cross validation accuracy"
   ]
  },
  {
   "cell_type": "code",
   "execution_count": 155,
   "metadata": {},
   "outputs": [
    {
     "data": {
      "text/plain": [
       "0.7316982534373839"
      ]
     },
     "execution_count": 155,
     "metadata": {},
     "output_type": "execute_result"
    }
   ],
   "source": [
    "gbclassifier6.score(testdata[features], testdata['IsPass'])"
   ]
  },
  {
   "cell_type": "code",
   "execution_count": 156,
   "metadata": {},
   "outputs": [
    {
     "name": "stdout",
     "output_type": "stream",
     "text": [
      "[[5177 2734]\n",
      " [2320 8606]]\n",
      "False Negative Rate =  0.21252059308072488\n"
     ]
    }
   ],
   "source": [
    "print(confusion_matrix(testdata['IsPass'], gbclassifier6.predict(testdata[features])))\n",
    "tn, fp, fn, tp = confusion_matrix(testdata['IsPass'], gbclassifier10.predict(testdata[features])).ravel()\n",
    "print('False Negative Rate = ', fn/(tp+fn))"
   ]
  },
  {
   "cell_type": "code",
   "execution_count": 175,
   "metadata": {},
   "outputs": [
    {
     "data": {
      "image/png": "[encoded data removed]",
      "text/plain": [
       "<Figure size 432x288 with 1 Axes>"
      ]
     },
     "metadata": {
      "needs_background": "light"
     },
     "output_type": "display_data"
    }
   ],
   "source": [
    "#training_predictions = model.predict(x_train)\n",
    "#(fpr, tpr, thresholds) = roc_curve(y_train,training_predictions)\n",
    "from sklearn.metrics import roc_curve, auc\n",
    "testing_predictions_gb = gbclassifier6.predict(Testdata[features])\n",
    "(fpr_gb, tpr_gb, thresholds_gb) = roc_curve(Testdata['IsPass'],testing_predictions_gb)\n",
    "\n",
    "area_gb = auc(fpr_gb,tpr_gb)\n",
    "plt.clf() #Clear the current figure\n",
    "plt.plot(fpr_gb,tpr_gb,label=\"Test Set GBM ROC Curve with area = %1.2f\"%area_gb)\n",
    "\n",
    "plt.plot([0, 1], [0, 1], 'k')\n",
    "plt.xlim([0.0, 1.0])\n",
    "plt.ylim([0.0, 1.0])\n",
    "plt.xlabel('False Positive Rate')\n",
    "plt.ylabel('True Positive Rate')\n",
    "plt.title('Test Set ROC Pass Play vs Rush Play')\n",
    "plt.legend(loc=\"lower right\")\n",
    "plt.show()"
   ]
  },
  {
   "cell_type": "markdown",
   "metadata": {},
   "source": [
    "<b>Using new features and the best model, do one more time</b>"
   ]
  },
  {
   "cell_type": "code",
   "execution_count": 158,
   "metadata": {},
   "outputs": [],
   "source": [
    "gbmodel6_scores_new = cross_val_score(gbclassifier6, data[new_features], data['IsPass'], cv=10, scoring='accuracy')"
   ]
  },
  {
   "cell_type": "code",
   "execution_count": 159,
   "metadata": {},
   "outputs": [
    {
     "name": "stdout",
     "output_type": "stream",
     "text": [
      "0.7332293770053007\n",
      "[0.72884595 0.73330502 0.73022614 0.73468521 0.73221491 0.73348906\n",
      " 0.73412614 0.73561266 0.73367314 0.73611554]\n"
     ]
    }
   ],
   "source": [
    "print(gbmodel6_scores_new.mean())\n",
    "print(gbmodel6_scores_new)"
   ]
  },
  {
   "cell_type": "markdown",
   "metadata": {},
   "source": [
    "<b>Test data accuracy by quarter</b>"
   ]
  },
  {
   "cell_type": "code",
   "execution_count": 161,
   "metadata": {},
   "outputs": [
    {
     "data": {
      "text/plain": [
       "[0.7016584998115342,\n",
       " 0.7352757868494858,\n",
       " 0.7014897921647968,\n",
       " 0.7922557840616966,\n",
       " 0.7515527950310559]"
      ]
     },
     "execution_count": 161,
     "metadata": {},
     "output_type": "execute_result"
    }
   ],
   "source": [
    "def gen_df_byquarter():\n",
    "    gbm_quarter_list = list()\n",
    "    for i in range(5):\n",
    "        gbm_quarter_list.append(gbclassifier6.score(Testdata[Testdata['Quarter'] == i+1][features], \\\n",
    "                                                     Testdata[Testdata['Quarter'] == i+1]['IsPass']))\n",
    "    return gbm_quarter_list\n",
    "\n",
    "gbm_quarter_list = gen_df_byquarter()\n",
    "gbm_quarter_list"
   ]
  },
  {
   "cell_type": "markdown",
   "metadata": {},
   "source": [
    "<b>Test data accuracy by down</b>"
   ]
  },
  {
   "cell_type": "code",
   "execution_count": 162,
   "metadata": {},
   "outputs": [
    {
     "data": {
      "text/plain": [
       "[0.682350700066673, 0.7272383830751794, 0.8545607398066415, 0.8703170028818443]"
      ]
     },
     "execution_count": 162,
     "metadata": {},
     "output_type": "execute_result"
    }
   ],
   "source": [
    "def gen_df_bydown():\n",
    "    gbm_down_list = list()\n",
    "    for i in range(4):\n",
    "        gbm_down_list.append(gbclassifier6.score(Testdata[Testdata['Down'] == i+1][features],\\\n",
    "                                                     Testdata[Testdata['Down'] == i+1]['IsPass']))\n",
    "    return gbm_down_list\n",
    "\n",
    "gbm_down_list = gen_df_bydown()\n",
    "gbm_down_list"
   ]
  },
  {
   "cell_type": "code",
   "execution_count": null,
   "metadata": {},
   "outputs": [],
   "source": []
  },
  {
   "cell_type": "markdown",
   "metadata": {},
   "source": [
    "# XGBoosting"
   ]
  },
  {
   "cell_type": "code",
   "execution_count": 169,
   "metadata": {},
   "outputs": [
    {
     "name": "stdout",
     "output_type": "stream",
     "text": [
      "Requirement already satisfied: XGBoost in d:\\anaconda\\lib\\site-packages (0.90)\n",
      "Requirement already satisfied: scipy in d:\\anaconda\\lib\\site-packages (from XGBoost) (1.1.0)\n",
      "Requirement already satisfied: numpy in d:\\anaconda\\lib\\site-packages (from XGBoost) (1.15.1)\n"
     ]
    }
   ],
   "source": [
    "!pip install XGBoost"
   ]
  },
  {
   "cell_type": "code",
   "execution_count": 170,
   "metadata": {
    "scrolled": true
   },
   "outputs": [
    {
     "name": "stdout",
     "output_type": "stream",
     "text": [
      "training accuracy:  0.7313424912071139\n",
      "testing accuracy:  0.7309521787140066\n"
     ]
    },
    {
     "name": "stderr",
     "output_type": "stream",
     "text": [
      "D:\\Anaconda\\lib\\site-packages\\sklearn\\preprocessing\\label.py:151: DeprecationWarning: The truth value of an empty array is ambiguous. Returning False, but in future this will result in an error. Use `array.size > 0` to check that an array is not empty.\n",
      "  if diff:\n",
      "D:\\Anaconda\\lib\\site-packages\\sklearn\\preprocessing\\label.py:151: DeprecationWarning: The truth value of an empty array is ambiguous. Returning False, but in future this will result in an error. Use `array.size > 0` to check that an array is not empty.\n",
      "  if diff:\n"
     ]
    }
   ],
   "source": [
    "from xgboost import XGBClassifier\n",
    "\n",
    "xgbmodel1 = XGBClassifier()\n",
    "xgbmodel1.fit(X, y)\n",
    "print('training accuracy: ', xgbmodel1.score(X,y))\n",
    "print('testing accuracy: ', xgbmodel1.score(test_features_exp,test_labels_exp))"
   ]
  },
  {
   "cell_type": "markdown",
   "metadata": {},
   "source": [
    "Compute trainset cross validation accuracy"
   ]
  },
  {
   "cell_type": "code",
   "execution_count": 171,
   "metadata": {},
   "outputs": [
    {
     "name": "stderr",
     "output_type": "stream",
     "text": [
      "D:\\Anaconda\\lib\\site-packages\\sklearn\\preprocessing\\label.py:151: DeprecationWarning: The truth value of an empty array is ambiguous. Returning False, but in future this will result in an error. Use `array.size > 0` to check that an array is not empty.\n",
      "  if diff:\n",
      "D:\\Anaconda\\lib\\site-packages\\sklearn\\preprocessing\\label.py:151: DeprecationWarning: The truth value of an empty array is ambiguous. Returning False, but in future this will result in an error. Use `array.size > 0` to check that an array is not empty.\n",
      "  if diff:\n",
      "D:\\Anaconda\\lib\\site-packages\\sklearn\\preprocessing\\label.py:151: DeprecationWarning: The truth value of an empty array is ambiguous. Returning False, but in future this will result in an error. Use `array.size > 0` to check that an array is not empty.\n",
      "  if diff:\n",
      "D:\\Anaconda\\lib\\site-packages\\sklearn\\preprocessing\\label.py:151: DeprecationWarning: The truth value of an empty array is ambiguous. Returning False, but in future this will result in an error. Use `array.size > 0` to check that an array is not empty.\n",
      "  if diff:\n",
      "D:\\Anaconda\\lib\\site-packages\\sklearn\\preprocessing\\label.py:151: DeprecationWarning: The truth value of an empty array is ambiguous. Returning False, but in future this will result in an error. Use `array.size > 0` to check that an array is not empty.\n",
      "  if diff:\n",
      "D:\\Anaconda\\lib\\site-packages\\sklearn\\preprocessing\\label.py:151: DeprecationWarning: The truth value of an empty array is ambiguous. Returning False, but in future this will result in an error. Use `array.size > 0` to check that an array is not empty.\n",
      "  if diff:\n",
      "D:\\Anaconda\\lib\\site-packages\\sklearn\\preprocessing\\label.py:151: DeprecationWarning: The truth value of an empty array is ambiguous. Returning False, but in future this will result in an error. Use `array.size > 0` to check that an array is not empty.\n",
      "  if diff:\n",
      "D:\\Anaconda\\lib\\site-packages\\sklearn\\preprocessing\\label.py:151: DeprecationWarning: The truth value of an empty array is ambiguous. Returning False, but in future this will result in an error. Use `array.size > 0` to check that an array is not empty.\n",
      "  if diff:\n",
      "D:\\Anaconda\\lib\\site-packages\\sklearn\\preprocessing\\label.py:151: DeprecationWarning: The truth value of an empty array is ambiguous. Returning False, but in future this will result in an error. Use `array.size > 0` to check that an array is not empty.\n",
      "  if diff:\n"
     ]
    },
    {
     "name": "stdout",
     "output_type": "stream",
     "text": [
      "0.7290672043629742\n",
      "[0.72693492 0.72714726 0.72619174 0.73128782 0.7286048  0.72722446\n",
      " 0.72945424 0.73295817 0.72900074 0.7318679 ]\n"
     ]
    },
    {
     "name": "stderr",
     "output_type": "stream",
     "text": [
      "D:\\Anaconda\\lib\\site-packages\\sklearn\\preprocessing\\label.py:151: DeprecationWarning: The truth value of an empty array is ambiguous. Returning False, but in future this will result in an error. Use `array.size > 0` to check that an array is not empty.\n",
      "  if diff:\n"
     ]
    }
   ],
   "source": [
    "xgbmodel_scores = cross_val_score(xgbmodel1, data[features], data['IsPass'], cv=10, scoring='accuracy')\n",
    "print(xgbmodel_scores.mean())\n",
    "print(xgbmodel_scores)"
   ]
  },
  {
   "cell_type": "code",
   "execution_count": 172,
   "metadata": {},
   "outputs": [
    {
     "data": {
      "text/plain": [
       "Text(0.5,0,'Relative Importance')"
      ]
     },
     "execution_count": 172,
     "metadata": {},
     "output_type": "execute_result"
    },
    {
     "data": {
      "image/png": "[encoded data removed]",
      "text/plain": [
       "<Figure size 864x864 with 1 Axes>"
      ]
     },
     "metadata": {
      "needs_background": "light"
     },
     "output_type": "display_data"
    }
   ],
   "source": [
    "import matplotlib.pyplot as plt\n",
    "%matplotlib inline\n",
    "importances = xgbmodel1.feature_importances_      # gbclassifier10 is the random forest classifier\n",
    "indices = np.argsort(importances)\n",
    "plt.figure(figsize=(12,12))\n",
    "plt.title('Feature Importances')\n",
    "plt.barh(range(len(indices)), importances[indices], color='c', align='center')\n",
    "plt.yticks(indices,features)\n",
    "plt.xlabel('Relative Importance')"
   ]
  },
  {
   "cell_type": "markdown",
   "metadata": {},
   "source": [
    "Compute testset cross validation accuracy"
   ]
  },
  {
   "cell_type": "code",
   "execution_count": 207,
   "metadata": {},
   "outputs": [
    {
     "name": "stderr",
     "output_type": "stream",
     "text": [
      "D:\\Anaconda\\lib\\site-packages\\sklearn\\preprocessing\\label.py:151: DeprecationWarning: The truth value of an empty array is ambiguous. Returning False, but in future this will result in an error. Use `array.size > 0` to check that an array is not empty.\n",
      "  if diff:\n",
      "D:\\Anaconda\\lib\\site-packages\\sklearn\\preprocessing\\label.py:151: DeprecationWarning: The truth value of an empty array is ambiguous. Returning False, but in future this will result in an error. Use `array.size > 0` to check that an array is not empty.\n",
      "  if diff:\n",
      "D:\\Anaconda\\lib\\site-packages\\sklearn\\preprocessing\\label.py:151: DeprecationWarning: The truth value of an empty array is ambiguous. Returning False, but in future this will result in an error. Use `array.size > 0` to check that an array is not empty.\n",
      "  if diff:\n",
      "D:\\Anaconda\\lib\\site-packages\\sklearn\\preprocessing\\label.py:151: DeprecationWarning: The truth value of an empty array is ambiguous. Returning False, but in future this will result in an error. Use `array.size > 0` to check that an array is not empty.\n",
      "  if diff:\n",
      "D:\\Anaconda\\lib\\site-packages\\sklearn\\preprocessing\\label.py:151: DeprecationWarning: The truth value of an empty array is ambiguous. Returning False, but in future this will result in an error. Use `array.size > 0` to check that an array is not empty.\n",
      "  if diff:\n",
      "D:\\Anaconda\\lib\\site-packages\\sklearn\\preprocessing\\label.py:151: DeprecationWarning: The truth value of an empty array is ambiguous. Returning False, but in future this will result in an error. Use `array.size > 0` to check that an array is not empty.\n",
      "  if diff:\n",
      "D:\\Anaconda\\lib\\site-packages\\sklearn\\preprocessing\\label.py:151: DeprecationWarning: The truth value of an empty array is ambiguous. Returning False, but in future this will result in an error. Use `array.size > 0` to check that an array is not empty.\n",
      "  if diff:\n",
      "D:\\Anaconda\\lib\\site-packages\\sklearn\\preprocessing\\label.py:151: DeprecationWarning: The truth value of an empty array is ambiguous. Returning False, but in future this will result in an error. Use `array.size > 0` to check that an array is not empty.\n",
      "  if diff:\n",
      "D:\\Anaconda\\lib\\site-packages\\sklearn\\preprocessing\\label.py:151: DeprecationWarning: The truth value of an empty array is ambiguous. Returning False, but in future this will result in an error. Use `array.size > 0` to check that an array is not empty.\n",
      "  if diff:\n"
     ]
    },
    {
     "name": "stdout",
     "output_type": "stream",
     "text": [
      "0.7255405515575981\n",
      "[0.72785146 0.72292994 0.73142251 0.73566879 0.72133758 0.70435244\n",
      " 0.72012746 0.73340414 0.71694105 0.74137015]\n"
     ]
    },
    {
     "name": "stderr",
     "output_type": "stream",
     "text": [
      "D:\\Anaconda\\lib\\site-packages\\sklearn\\preprocessing\\label.py:151: DeprecationWarning: The truth value of an empty array is ambiguous. Returning False, but in future this will result in an error. Use `array.size > 0` to check that an array is not empty.\n",
      "  if diff:\n"
     ]
    }
   ],
   "source": [
    "xgbmodel1_test_scores = cross_val_score(xgbmodel1, testdata[features], testdata['IsPass'], cv=10, scoring='accuracy')\n",
    "print(xgbmodel1_test_scores.mean())\n",
    "print(xgbmodel1_test_scores)"
   ]
  },
  {
   "cell_type": "markdown",
   "metadata": {},
   "source": [
    "Compute the confusion matrix"
   ]
  },
  {
   "cell_type": "code",
   "execution_count": 174,
   "metadata": {},
   "outputs": [
    {
     "name": "stdout",
     "output_type": "stream",
     "text": [
      "[[5051 2860]\n",
      " [2271 8655]]\n",
      "False Negative Rate =  0.20785282811641956\n"
     ]
    },
    {
     "name": "stderr",
     "output_type": "stream",
     "text": [
      "D:\\Anaconda\\lib\\site-packages\\sklearn\\preprocessing\\label.py:151: DeprecationWarning: The truth value of an empty array is ambiguous. Returning False, but in future this will result in an error. Use `array.size > 0` to check that an array is not empty.\n",
      "  if diff:\n",
      "D:\\Anaconda\\lib\\site-packages\\sklearn\\preprocessing\\label.py:151: DeprecationWarning: The truth value of an empty array is ambiguous. Returning False, but in future this will result in an error. Use `array.size > 0` to check that an array is not empty.\n",
      "  if diff:\n"
     ]
    }
   ],
   "source": [
    "print(confusion_matrix(testdata['IsPass'], xgbmodel1.predict(testdata[features])))\n",
    "tn, fp, fn, tp = confusion_matrix(testdata['IsPass'], xgbmodel1.predict(testdata[features])).ravel()\n",
    "print('False Negative Rate = ', fn/(tp+fn))"
   ]
  },
  {
   "cell_type": "code",
   "execution_count": 176,
   "metadata": {},
   "outputs": [
    {
     "name": "stderr",
     "output_type": "stream",
     "text": [
      "D:\\Anaconda\\lib\\site-packages\\sklearn\\preprocessing\\label.py:151: DeprecationWarning: The truth value of an empty array is ambiguous. Returning False, but in future this will result in an error. Use `array.size > 0` to check that an array is not empty.\n",
      "  if diff:\n"
     ]
    },
    {
     "data": {
      "image/png": "[encoded data removed]",
      "text/plain": [
       "<Figure size 432x288 with 1 Axes>"
      ]
     },
     "metadata": {
      "needs_background": "light"
     },
     "output_type": "display_data"
    }
   ],
   "source": [
    "#training_predictions = model.predict(x_train)\n",
    "#(fpr, tpr, thresholds) = roc_curve(y_train,training_predictions)\n",
    "from sklearn.metrics import roc_curve, auc\n",
    "testing_predictions_xgb = xgbmodel1.predict(Testdata[features])\n",
    "(fpr_xgb, tpr_xgb, thresholds_xgb) = roc_curve(Testdata['IsPass'],testing_predictions_xgb)\n",
    "\n",
    "area_xgb = auc(fpr_xgb,tpr_xgb)\n",
    "plt.clf() #Clear the current figure\n",
    "plt.plot(fpr_xgb,tpr_xgb,label=\"Test Set XGB ROC Curve with area = %1.2f\"%area_xgb)\n",
    "\n",
    "plt.plot([0, 1], [0, 1], 'k')\n",
    "plt.xlim([0.0, 1.0])\n",
    "plt.ylim([0.0, 1.0])\n",
    "plt.xlabel('False Positive Rate')\n",
    "plt.ylabel('True Positive Rate')\n",
    "plt.title('Test Set ROC Pass Play vs Rush Play')\n",
    "plt.legend(loc=\"lower right\")\n",
    "plt.show()"
   ]
  },
  {
   "cell_type": "markdown",
   "metadata": {},
   "source": [
    "</b>Test data accuracy by quarter</b>"
   ]
  },
  {
   "cell_type": "code",
   "execution_count": 177,
   "metadata": {},
   "outputs": [
    {
     "name": "stderr",
     "output_type": "stream",
     "text": [
      "D:\\Anaconda\\lib\\site-packages\\sklearn\\preprocessing\\label.py:151: DeprecationWarning: The truth value of an empty array is ambiguous. Returning False, but in future this will result in an error. Use `array.size > 0` to check that an array is not empty.\n",
      "  if diff:\n",
      "D:\\Anaconda\\lib\\site-packages\\sklearn\\preprocessing\\label.py:151: DeprecationWarning: The truth value of an empty array is ambiguous. Returning False, but in future this will result in an error. Use `array.size > 0` to check that an array is not empty.\n",
      "  if diff:\n",
      "D:\\Anaconda\\lib\\site-packages\\sklearn\\preprocessing\\label.py:151: DeprecationWarning: The truth value of an empty array is ambiguous. Returning False, but in future this will result in an error. Use `array.size > 0` to check that an array is not empty.\n",
      "  if diff:\n",
      "D:\\Anaconda\\lib\\site-packages\\sklearn\\preprocessing\\label.py:151: DeprecationWarning: The truth value of an empty array is ambiguous. Returning False, but in future this will result in an error. Use `array.size > 0` to check that an array is not empty.\n",
      "  if diff:\n",
      "D:\\Anaconda\\lib\\site-packages\\sklearn\\preprocessing\\label.py:151: DeprecationWarning: The truth value of an empty array is ambiguous. Returning False, but in future this will result in an error. Use `array.size > 0` to check that an array is not empty.\n",
      "  if diff:\n"
     ]
    },
    {
     "data": {
      "text/plain": [
       "[0.6988315114964192,\n",
       " 0.7302898099096292,\n",
       " 0.6956041934890564,\n",
       " 0.7887210796915167,\n",
       " 0.7763975155279503]"
      ]
     },
     "execution_count": 177,
     "metadata": {},
     "output_type": "execute_result"
    }
   ],
   "source": [
    "def gen_df_byquarter():\n",
    "    xgb_quarter_list = list()\n",
    "    for i in range(5):\n",
    "        xgb_quarter_list.append(xgbmodel1.score(Testdata[Testdata['Quarter'] == i+1][features], \\\n",
    "                                                     Testdata[Testdata['Quarter'] == i+1]['IsPass']))\n",
    "    return xgb_quarter_list\n",
    "\n",
    "xgb_quarter_list = gen_df_byquarter()\n",
    "xgb_quarter_list"
   ]
  },
  {
   "cell_type": "markdown",
   "metadata": {},
   "source": [
    "<b>Test data accuracy by down</b>"
   ]
  },
  {
   "cell_type": "code",
   "execution_count": 178,
   "metadata": {},
   "outputs": [
    {
     "name": "stderr",
     "output_type": "stream",
     "text": [
      "D:\\Anaconda\\lib\\site-packages\\sklearn\\preprocessing\\label.py:151: DeprecationWarning: The truth value of an empty array is ambiguous. Returning False, but in future this will result in an error. Use `array.size > 0` to check that an array is not empty.\n",
      "  if diff:\n",
      "D:\\Anaconda\\lib\\site-packages\\sklearn\\preprocessing\\label.py:151: DeprecationWarning: The truth value of an empty array is ambiguous. Returning False, but in future this will result in an error. Use `array.size > 0` to check that an array is not empty.\n",
      "  if diff:\n",
      "D:\\Anaconda\\lib\\site-packages\\sklearn\\preprocessing\\label.py:151: DeprecationWarning: The truth value of an empty array is ambiguous. Returning False, but in future this will result in an error. Use `array.size > 0` to check that an array is not empty.\n",
      "  if diff:\n",
      "D:\\Anaconda\\lib\\site-packages\\sklearn\\preprocessing\\label.py:151: DeprecationWarning: The truth value of an empty array is ambiguous. Returning False, but in future this will result in an error. Use `array.size > 0` to check that an array is not empty.\n",
      "  if diff:\n"
     ]
    },
    {
     "data": {
      "text/plain": [
       "[0.6822554529002762,\n",
       " 0.7180455861982118,\n",
       " 0.8507776376628836,\n",
       " 0.8587896253602305]"
      ]
     },
     "execution_count": 178,
     "metadata": {},
     "output_type": "execute_result"
    }
   ],
   "source": [
    "def gen_df_bydown():\n",
    "    xgb_down_list = list()\n",
    "    for i in range(4):\n",
    "        xgb_down_list.append(xgbmodel1.score(Testdata[Testdata['Down'] == i+1][features],\\\n",
    "                                                     Testdata[Testdata['Down'] == i+1]['IsPass']))\n",
    "    return xgb_down_list\n",
    "\n",
    "xgb_down_list = gen_df_bydown()\n",
    "xgb_down_list"
   ]
  },
  {
   "cell_type": "code",
   "execution_count": null,
   "metadata": {},
   "outputs": [],
   "source": []
  },
  {
   "cell_type": "markdown",
   "metadata": {},
   "source": [
    "# Linear Discriminant Analysis\n",
    "- Though there's collinearity in the LDA model, we still accept the result to obtain better prediction accuracy."
   ]
  },
  {
   "cell_type": "code",
   "execution_count": 179,
   "metadata": {},
   "outputs": [],
   "source": [
    "from sklearn.discriminant_analysis import LinearDiscriminantAnalysis as LDA\n",
    "from sklearn.cross_validation import cross_val_score"
   ]
  },
  {
   "cell_type": "code",
   "execution_count": 180,
   "metadata": {},
   "outputs": [
    {
     "name": "stdout",
     "output_type": "stream",
     "text": [
      "training accuracy:  0.7206583051297365\n",
      "testing accuracy:  0.7260681219740083\n"
     ]
    },
    {
     "name": "stderr",
     "output_type": "stream",
     "text": [
      "D:\\Anaconda\\lib\\site-packages\\sklearn\\discriminant_analysis.py:388: UserWarning: Variables are collinear.\n",
      "  warnings.warn(\"Variables are collinear.\")\n"
     ]
    }
   ],
   "source": [
    "lda = LDA(n_components=1)\n",
    "lda_model1 = lda.fit(X, y)\n",
    "print('training accuracy: ', lda_model1.score(X,y))\n",
    "print('testing accuracy: ', lda_model1.score(test_features_exp,test_labels_exp))"
   ]
  },
  {
   "cell_type": "markdown",
   "metadata": {},
   "source": [
    "Compute trainset cross validation accuracy"
   ]
  },
  {
   "cell_type": "code",
   "execution_count": 181,
   "metadata": {},
   "outputs": [
    {
     "name": "stderr",
     "output_type": "stream",
     "text": [
      "D:\\Anaconda\\lib\\site-packages\\sklearn\\discriminant_analysis.py:388: UserWarning: Variables are collinear.\n",
      "  warnings.warn(\"Variables are collinear.\")\n",
      "D:\\Anaconda\\lib\\site-packages\\sklearn\\discriminant_analysis.py:388: UserWarning: Variables are collinear.\n",
      "  warnings.warn(\"Variables are collinear.\")\n",
      "D:\\Anaconda\\lib\\site-packages\\sklearn\\discriminant_analysis.py:388: UserWarning: Variables are collinear.\n",
      "  warnings.warn(\"Variables are collinear.\")\n",
      "D:\\Anaconda\\lib\\site-packages\\sklearn\\discriminant_analysis.py:388: UserWarning: Variables are collinear.\n",
      "  warnings.warn(\"Variables are collinear.\")\n",
      "D:\\Anaconda\\lib\\site-packages\\sklearn\\discriminant_analysis.py:388: UserWarning: Variables are collinear.\n",
      "  warnings.warn(\"Variables are collinear.\")\n",
      "D:\\Anaconda\\lib\\site-packages\\sklearn\\discriminant_analysis.py:388: UserWarning: Variables are collinear.\n",
      "  warnings.warn(\"Variables are collinear.\")\n",
      "D:\\Anaconda\\lib\\site-packages\\sklearn\\discriminant_analysis.py:388: UserWarning: Variables are collinear.\n",
      "  warnings.warn(\"Variables are collinear.\")\n",
      "D:\\Anaconda\\lib\\site-packages\\sklearn\\discriminant_analysis.py:388: UserWarning: Variables are collinear.\n",
      "  warnings.warn(\"Variables are collinear.\")\n",
      "D:\\Anaconda\\lib\\site-packages\\sklearn\\discriminant_analysis.py:388: UserWarning: Variables are collinear.\n",
      "  warnings.warn(\"Variables are collinear.\")\n"
     ]
    },
    {
     "name": "stdout",
     "output_type": "stream",
     "text": [
      "0.7204561649883642\n",
      "[0.71674275 0.71982164 0.71875995 0.72587323 0.71947335 0.71851773\n",
      " 0.72021661 0.7223402  0.72114261 0.72167357]\n"
     ]
    },
    {
     "name": "stderr",
     "output_type": "stream",
     "text": [
      "D:\\Anaconda\\lib\\site-packages\\sklearn\\discriminant_analysis.py:388: UserWarning: Variables are collinear.\n",
      "  warnings.warn(\"Variables are collinear.\")\n"
     ]
    }
   ],
   "source": [
    "lda_scores = cross_val_score(lda_model1, data[features], data['IsPass'], cv=10, scoring='accuracy')\n",
    "print(lda_scores.mean())\n",
    "print(lda_scores)"
   ]
  },
  {
   "cell_type": "markdown",
   "metadata": {},
   "source": [
    "Compute testset cross validation accuracy"
   ]
  },
  {
   "cell_type": "code",
   "execution_count": 209,
   "metadata": {},
   "outputs": [
    {
     "name": "stderr",
     "output_type": "stream",
     "text": [
      "D:\\Anaconda\\lib\\site-packages\\sklearn\\discriminant_analysis.py:388: UserWarning: Variables are collinear.\n",
      "  warnings.warn(\"Variables are collinear.\")\n",
      "D:\\Anaconda\\lib\\site-packages\\sklearn\\discriminant_analysis.py:388: UserWarning: Variables are collinear.\n",
      "  warnings.warn(\"Variables are collinear.\")\n",
      "D:\\Anaconda\\lib\\site-packages\\sklearn\\discriminant_analysis.py:388: UserWarning: Variables are collinear.\n",
      "  warnings.warn(\"Variables are collinear.\")\n",
      "D:\\Anaconda\\lib\\site-packages\\sklearn\\discriminant_analysis.py:388: UserWarning: Variables are collinear.\n",
      "  warnings.warn(\"Variables are collinear.\")\n",
      "D:\\Anaconda\\lib\\site-packages\\sklearn\\discriminant_analysis.py:388: UserWarning: Variables are collinear.\n",
      "  warnings.warn(\"Variables are collinear.\")\n",
      "D:\\Anaconda\\lib\\site-packages\\sklearn\\discriminant_analysis.py:388: UserWarning: Variables are collinear.\n",
      "  warnings.warn(\"Variables are collinear.\")\n",
      "D:\\Anaconda\\lib\\site-packages\\sklearn\\discriminant_analysis.py:388: UserWarning: Variables are collinear.\n",
      "  warnings.warn(\"Variables are collinear.\")\n",
      "D:\\Anaconda\\lib\\site-packages\\sklearn\\discriminant_analysis.py:388: UserWarning: Variables are collinear.\n",
      "  warnings.warn(\"Variables are collinear.\")\n",
      "D:\\Anaconda\\lib\\site-packages\\sklearn\\discriminant_analysis.py:388: UserWarning: Variables are collinear.\n",
      "  warnings.warn(\"Variables are collinear.\")\n"
     ]
    },
    {
     "name": "stdout",
     "output_type": "stream",
     "text": [
      "0.7210811072125928\n",
      "[0.72838196 0.71443737 0.72823779 0.73089172 0.71284501 0.69957537\n",
      " 0.71109931 0.72703133 0.72065852 0.73765268]\n"
     ]
    },
    {
     "name": "stderr",
     "output_type": "stream",
     "text": [
      "D:\\Anaconda\\lib\\site-packages\\sklearn\\discriminant_analysis.py:388: UserWarning: Variables are collinear.\n",
      "  warnings.warn(\"Variables are collinear.\")\n"
     ]
    }
   ],
   "source": [
    "lda_model1.score(testdata[features], testdata['IsPass'])\n",
    "lda_test_scores = cross_val_score(lda_model1, testdata[features], testdata['IsPass'], cv=10, scoring='accuracy')\n",
    "print(lda_test_scores.mean())\n",
    "print(lda_test_scores)"
   ]
  },
  {
   "cell_type": "markdown",
   "metadata": {},
   "source": [
    "Compute the confusion matrix"
   ]
  },
  {
   "cell_type": "code",
   "execution_count": 183,
   "metadata": {},
   "outputs": [
    {
     "name": "stdout",
     "output_type": "stream",
     "text": [
      "[[4871 3040]\n",
      " [2217 8709]]\n",
      "False Negative Rate =  0.2029104887424492\n"
     ]
    }
   ],
   "source": [
    "print(confusion_matrix(testdata['IsPass'], lda_model1.predict(testdata[features])))\n",
    "tn, fp, fn, tp = confusion_matrix(testdata['IsPass'], lda_model1.predict(testdata[features])).ravel()\n",
    "print('False Negative Rate = ', fn/(tp+fn))"
   ]
  },
  {
   "cell_type": "code",
   "execution_count": 184,
   "metadata": {},
   "outputs": [
    {
     "name": "stderr",
     "output_type": "stream",
     "text": [
      "D:\\Anaconda\\lib\\site-packages\\sklearn\\preprocessing\\label.py:151: DeprecationWarning: The truth value of an empty array is ambiguous. Returning False, but in future this will result in an error. Use `array.size > 0` to check that an array is not empty.\n",
      "  if diff:\n"
     ]
    },
    {
     "data": {
      "image/png": "[encoded data removed]",
      "text/plain": [
       "<Figure size 432x288 with 1 Axes>"
      ]
     },
     "metadata": {
      "needs_background": "light"
     },
     "output_type": "display_data"
    }
   ],
   "source": [
    "#training_predictions = model.predict(x_train)\n",
    "#(fpr, tpr, thresholds) = roc_curve(y_train,training_predictions)\n",
    "from sklearn.metrics import roc_curve, auc\n",
    "testing_predictions_lda = xgbmodel1.predict(Testdata[features])\n",
    "(fpr_lda, tpr_lda, thresholds_lda) = roc_curve(Testdata['IsPass'],testing_predictions_lda)\n",
    "\n",
    "area_lda = auc(fpr_lda,tpr_lda)\n",
    "plt.clf() #Clear the current figure\n",
    "plt.plot(fpr_lda,tpr_lda,label=\"Test Set LDA ROC Curve with area = %1.2f\"%area_lda)\n",
    "\n",
    "plt.plot([0, 1], [0, 1], 'k')\n",
    "plt.xlim([0.0, 1.0])\n",
    "plt.ylim([0.0, 1.0])\n",
    "plt.xlabel('False Positive Rate')\n",
    "plt.ylabel('True Positive Rate')\n",
    "plt.title('Test Set ROC Pass Play vs Rush Play')\n",
    "plt.legend(loc=\"lower right\")\n",
    "plt.show()"
   ]
  },
  {
   "cell_type": "markdown",
   "metadata": {},
   "source": [
    "<b>Test data accuracy by quarter</b>"
   ]
  },
  {
   "cell_type": "code",
   "execution_count": 187,
   "metadata": {},
   "outputs": [
    {
     "data": {
      "text/plain": [
       "[0.6958160572936298,\n",
       " 0.7262387036459956,\n",
       " 0.6910060695236343,\n",
       " 0.781491002570694,\n",
       " 0.7577639751552795]"
      ]
     },
     "execution_count": 187,
     "metadata": {},
     "output_type": "execute_result"
    }
   ],
   "source": [
    "def gen_df_byquarter():\n",
    "    lda_quarter_list = list()\n",
    "    for i in range(5):\n",
    "        lda_quarter_list.append(lda_model1.score(Testdata[Testdata['Quarter'] == i+1][features], \\\n",
    "                                                     Testdata[Testdata['Quarter'] == i+1]['IsPass']))\n",
    "    return lda_quarter_list\n",
    "\n",
    "lda_quarter_list = gen_df_byquarter()\n",
    "lda_quarter_list"
   ]
  },
  {
   "cell_type": "markdown",
   "metadata": {},
   "source": [
    "<b>Test data accuracy by down</b>"
   ]
  },
  {
   "cell_type": "code",
   "execution_count": 188,
   "metadata": {},
   "outputs": [
    {
     "data": {
      "text/plain": [
       "[0.6792075435755787,\n",
       " 0.7093565042186123,\n",
       " 0.8495166036149643,\n",
       " 0.8357348703170029]"
      ]
     },
     "execution_count": 188,
     "metadata": {},
     "output_type": "execute_result"
    }
   ],
   "source": [
    "def gen_df_bydown():\n",
    "    lda_down_list = list()\n",
    "    for i in range(4):\n",
    "        lda_down_list.append(lda_model1.score(Testdata[Testdata['Down'] == i+1][features],\\\n",
    "                                                     Testdata[Testdata['Down'] == i+1]['IsPass']))\n",
    "    return lda_down_list\n",
    "\n",
    "lda_down_list = gen_df_bydown()\n",
    "lda_down_list"
   ]
  },
  {
   "cell_type": "code",
   "execution_count": null,
   "metadata": {},
   "outputs": [],
   "source": []
  },
  {
   "cell_type": "markdown",
   "metadata": {},
   "source": [
    "# Test data accuracy by quarter --- Summary"
   ]
  },
  {
   "cell_type": "code",
   "execution_count": 191,
   "metadata": {},
   "outputs": [],
   "source": [
    "logit_quarter_list = [0.6956275914059555, 0.7256154565285136, 0.6906382196064006, 0.7802056555269923, 0.7639751552795031]\n",
    "rf_quarter_list = [0.7010931021485112,0.729666562792147,0.6992826926613942,0.7919344473007712,0.7515527950310559]\n",
    "gbm_quarter_list = [0.7016584998115342,0.7352757868494858,0.7014897921647968,0.7922557840616966,0.7515527950310559]\n",
    "xgb_quarter_list = [0.6988315114964192,0.7302898099096292,0.6956041934890564,0.7887210796915167,0.7763975155279503]\n",
    "lda_quarter_list = [0.6958160572936298,0.7262387036459956,0.6910060695236343,0.781491002570694,0.7577639751552795]"
   ]
  },
  {
   "cell_type": "code",
   "execution_count": 193,
   "metadata": {},
   "outputs": [
    {
     "data": {
      "text/html": [
       "<div>\n",
       "<style scoped>\n",
       "    .dataframe tbody tr th:only-of-type {\n",
       "        vertical-align: middle;\n",
       "    }\n",
       "\n",
       "    .dataframe tbody tr th {\n",
       "        vertical-align: top;\n",
       "    }\n",
       "\n",
       "    .dataframe thead th {\n",
       "        text-align: right;\n",
       "    }\n",
       "</style>\n",
       "<table border=\"1\" class=\"dataframe\">\n",
       "  <thead>\n",
       "    <tr style=\"text-align: right;\">\n",
       "      <th></th>\n",
       "      <th>quarter</th>\n",
       "      <th>Logit</th>\n",
       "      <th>LDA</th>\n",
       "      <th>R_F</th>\n",
       "      <th>GBM</th>\n",
       "      <th>XGB</th>\n",
       "    </tr>\n",
       "  </thead>\n",
       "  <tbody>\n",
       "    <tr>\n",
       "      <td>0</td>\n",
       "      <td>1</td>\n",
       "      <td>0.695628</td>\n",
       "      <td>0.695816</td>\n",
       "      <td>0.701093</td>\n",
       "      <td>0.701658</td>\n",
       "      <td>0.698832</td>\n",
       "    </tr>\n",
       "    <tr>\n",
       "      <td>1</td>\n",
       "      <td>2</td>\n",
       "      <td>0.725615</td>\n",
       "      <td>0.726239</td>\n",
       "      <td>0.729667</td>\n",
       "      <td>0.735276</td>\n",
       "      <td>0.730290</td>\n",
       "    </tr>\n",
       "    <tr>\n",
       "      <td>2</td>\n",
       "      <td>3</td>\n",
       "      <td>0.690638</td>\n",
       "      <td>0.691006</td>\n",
       "      <td>0.699283</td>\n",
       "      <td>0.701490</td>\n",
       "      <td>0.695604</td>\n",
       "    </tr>\n",
       "    <tr>\n",
       "      <td>3</td>\n",
       "      <td>4</td>\n",
       "      <td>0.780206</td>\n",
       "      <td>0.781491</td>\n",
       "      <td>0.791934</td>\n",
       "      <td>0.792256</td>\n",
       "      <td>0.788721</td>\n",
       "    </tr>\n",
       "    <tr>\n",
       "      <td>4</td>\n",
       "      <td>5</td>\n",
       "      <td>0.763975</td>\n",
       "      <td>0.757764</td>\n",
       "      <td>0.751553</td>\n",
       "      <td>0.751553</td>\n",
       "      <td>0.776398</td>\n",
       "    </tr>\n",
       "  </tbody>\n",
       "</table>\n",
       "</div>"
      ],
      "text/plain": [
       "   quarter     Logit       LDA       R_F       GBM       XGB\n",
       "0        1  0.695628  0.695816  0.701093  0.701658  0.698832\n",
       "1        2  0.725615  0.726239  0.729667  0.735276  0.730290\n",
       "2        3  0.690638  0.691006  0.699283  0.701490  0.695604\n",
       "3        4  0.780206  0.781491  0.791934  0.792256  0.788721\n",
       "4        5  0.763975  0.757764  0.751553  0.751553  0.776398"
      ]
     },
     "execution_count": 193,
     "metadata": {},
     "output_type": "execute_result"
    }
   ],
   "source": [
    "df_byquarter = pd.DataFrame({'quarter': range(1,6), 'Logit': logit_quarter_list, 'LDA': lda_quarter_list, 'R_F': rf_quarter_list,\\\n",
    "                             'GBM': gbm_quarter_list ,'XGB' : xgb_quarter_list})\n",
    "df_byquarter"
   ]
  },
  {
   "cell_type": "code",
   "execution_count": 194,
   "metadata": {},
   "outputs": [
    {
     "data": {
      "text/plain": [
       "Text(0,0.5,'Test Set Prediction Accuracy')"
      ]
     },
     "execution_count": 194,
     "metadata": {},
     "output_type": "execute_result"
    },
    {
     "data": {
      "image/png": "[encoded data removed]",
      "text/plain": [
       "<Figure size 864x576 with 1 Axes>"
      ]
     },
     "metadata": {
      "needs_background": "light"
     },
     "output_type": "display_data"
    }
   ],
   "source": [
    "plt.figure(figsize=(12,8))\n",
    "# Make a data frame\n",
    "dfsp=df_byquarter\n",
    " \n",
    "# style\n",
    "plt.style.use('seaborn-whitegrid')\n",
    " \n",
    "# create a color palette\n",
    "palette = plt.get_cmap('Set1')\n",
    " \n",
    "# multiple line plot\n",
    "num=0\n",
    "for column in dfsp.drop('quarter', axis=1):\n",
    "    num+=1\n",
    "    plt.plot(dfsp['quarter'], dfsp[column], marker='', color=palette(num), linewidth=1, alpha=0.9, label=column)\n",
    "\n",
    "# Add legend\n",
    "plt.legend(loc=2, ncol=2, fontsize = 13)\n",
    " \n",
    "# Add titles\n",
    "plt.title(\"Test Set Prediction Accuracy by Quarter & Model\", loc='center', fontsize=15, fontweight=0, color='black')\n",
    "plt.xlabel(\"Quarter\", fontsize = 13)\n",
    "plt.xticks([1,2,3,4,5], fontsize = 12)\n",
    "plt.ylabel(\"Test Set Prediction Accuracy\", fontsize = 13)\n"
   ]
  },
  {
   "cell_type": "code",
   "execution_count": null,
   "metadata": {},
   "outputs": [],
   "source": []
  },
  {
   "cell_type": "markdown",
   "metadata": {},
   "source": [
    "# Test data accuracy by down --- Summary"
   ]
  },
  {
   "cell_type": "code",
   "execution_count": 195,
   "metadata": {},
   "outputs": [],
   "source": [
    "logit_down_list = [0.679493285074769, 0.7104898627376904, 0.8451029844472467, 0.8213256484149856]\n",
    "rf_down_list = [0.6864463282217355,0.7166603702304496,0.8535098781000421,0.8530259365994236]\n",
    "lda_down_list = [0.6792075435755787,0.7093565042186123,0.8495166036149643,0.8357348703170029]\n",
    "xgb_down_list = [0.6822554529002762,0.7180455861982118,0.8507776376628836,0.8587896253602305]\n",
    "gbm_down_list = [0.682350700066673, 0.7272383830751794, 0.8545607398066415, 0.8703170028818443]"
   ]
  },
  {
   "cell_type": "code",
   "execution_count": 196,
   "metadata": {},
   "outputs": [
    {
     "data": {
      "text/html": [
       "<div>\n",
       "<style scoped>\n",
       "    .dataframe tbody tr th:only-of-type {\n",
       "        vertical-align: middle;\n",
       "    }\n",
       "\n",
       "    .dataframe tbody tr th {\n",
       "        vertical-align: top;\n",
       "    }\n",
       "\n",
       "    .dataframe thead th {\n",
       "        text-align: right;\n",
       "    }\n",
       "</style>\n",
       "<table border=\"1\" class=\"dataframe\">\n",
       "  <thead>\n",
       "    <tr style=\"text-align: right;\">\n",
       "      <th></th>\n",
       "      <th>down</th>\n",
       "      <th>Logit</th>\n",
       "      <th>LDA</th>\n",
       "      <th>R_F</th>\n",
       "      <th>GBM</th>\n",
       "      <th>XGB</th>\n",
       "    </tr>\n",
       "  </thead>\n",
       "  <tbody>\n",
       "    <tr>\n",
       "      <td>0</td>\n",
       "      <td>1</td>\n",
       "      <td>0.679493</td>\n",
       "      <td>0.679208</td>\n",
       "      <td>0.686446</td>\n",
       "      <td>0.682351</td>\n",
       "      <td>0.682255</td>\n",
       "    </tr>\n",
       "    <tr>\n",
       "      <td>1</td>\n",
       "      <td>2</td>\n",
       "      <td>0.710490</td>\n",
       "      <td>0.709357</td>\n",
       "      <td>0.716660</td>\n",
       "      <td>0.727238</td>\n",
       "      <td>0.718046</td>\n",
       "    </tr>\n",
       "    <tr>\n",
       "      <td>2</td>\n",
       "      <td>3</td>\n",
       "      <td>0.845103</td>\n",
       "      <td>0.849517</td>\n",
       "      <td>0.853510</td>\n",
       "      <td>0.854561</td>\n",
       "      <td>0.850778</td>\n",
       "    </tr>\n",
       "    <tr>\n",
       "      <td>3</td>\n",
       "      <td>4</td>\n",
       "      <td>0.821326</td>\n",
       "      <td>0.835735</td>\n",
       "      <td>0.853026</td>\n",
       "      <td>0.870317</td>\n",
       "      <td>0.858790</td>\n",
       "    </tr>\n",
       "  </tbody>\n",
       "</table>\n",
       "</div>"
      ],
      "text/plain": [
       "   down     Logit       LDA       R_F       GBM       XGB\n",
       "0     1  0.679493  0.679208  0.686446  0.682351  0.682255\n",
       "1     2  0.710490  0.709357  0.716660  0.727238  0.718046\n",
       "2     3  0.845103  0.849517  0.853510  0.854561  0.850778\n",
       "3     4  0.821326  0.835735  0.853026  0.870317  0.858790"
      ]
     },
     "execution_count": 196,
     "metadata": {},
     "output_type": "execute_result"
    }
   ],
   "source": [
    "df_bydown = pd.DataFrame({'down': range(1,5), 'Logit': logit_down_list, 'LDA': lda_down_list, 'R_F': rf_down_list,\\\n",
    "                          'GBM': gbm_down_list ,'XGB' : xgb_down_list})\n",
    "df_bydown"
   ]
  },
  {
   "cell_type": "code",
   "execution_count": 197,
   "metadata": {},
   "outputs": [
    {
     "data": {
      "text/plain": [
       "Text(0,0.5,'Test Set Prediction Accuracy')"
      ]
     },
     "execution_count": 197,
     "metadata": {},
     "output_type": "execute_result"
    },
    {
     "data": {
      "image/png": "[encoded data removed]",
      "text/plain": [
       "<Figure size 864x576 with 1 Axes>"
      ]
     },
     "metadata": {},
     "output_type": "display_data"
    }
   ],
   "source": [
    "plt.figure(figsize=(12,8))\n",
    "# style\n",
    "plt.style.use('seaborn-whitegrid')\n",
    " \n",
    "# create a color palette\n",
    "palette = plt.get_cmap('Set1')\n",
    " \n",
    "# multiple line plot\n",
    "num=0\n",
    "for column in df_bydown.drop('down', axis=1):\n",
    "    num+=1\n",
    "    plt.plot(df_bydown['down'], df_bydown[column], marker='', color=palette(num), linewidth=1, alpha=0.9, label=column)\n",
    "\n",
    "# Add legend\n",
    "plt.legend(loc=2, ncol=2, fontsize = 13)\n",
    " \n",
    "# Add titles\n",
    "plt.title(\"Test Set Prediction Accuracy by Down & Model\", loc='center', fontsize=15, fontweight=0, color='black')\n",
    "plt.xlabel(\"Down\", fontsize = 13)\n",
    "plt.xticks([1,2,3,4], fontsize = 12)\n",
    "plt.ylabel(\"Test Set Prediction Accuracy\", fontsize = 13)\n"
   ]
  },
  {
   "cell_type": "code",
   "execution_count": null,
   "metadata": {},
   "outputs": [],
   "source": []
  },
  {
   "cell_type": "markdown",
   "metadata": {},
   "source": [
    "# Test data accuracy by Team --- Summary"
   ]
  },
  {
   "cell_type": "code",
   "execution_count": 198,
   "metadata": {},
   "outputs": [
    {
     "data": {
      "text/plain": [
       "array(['ARI', 'CAR', 'WAS', 'PIT', 'DAL', 'LAR', 'OAK', 'TEN', 'NYJ',\n",
       "       'HOU', 'NO', 'DEN', 'KC', 'MIN', 'IND', 'JAX', 'DET', 'ATL', 'CHI',\n",
       "       'MIA', 'TB', 'SF', 'BAL', 'NYG', 'PHI', 'SEA', 'BUF', 'CLE', 'GB',\n",
       "       'LAC', 'NE', 'CIN'], dtype=object)"
      ]
     },
     "execution_count": 198,
     "metadata": {},
     "output_type": "execute_result"
    }
   ],
   "source": [
    "teamlist = Testdata['OffenseTeam'].unique()\n",
    "teamlist"
   ]
  },
  {
   "cell_type": "code",
   "execution_count": 199,
   "metadata": {},
   "outputs": [
    {
     "data": {
      "text/plain": [
       "[0.7579529737206085,\n",
       " 0.7142857142857143,\n",
       " 0.7225433526011561,\n",
       " 0.7588466579292268,\n",
       " 0.7747625508819539,\n",
       " 0.7637906647807637,\n",
       " 0.7294429708222812,\n",
       " 0.7523809523809524,\n",
       " 0.703862660944206,\n",
       " 0.7070572569906791,\n",
       " 0.7873183619550859,\n",
       " 0.7520435967302452,\n",
       " 0.7116736990154712,\n",
       " 0.7496635262449529,\n",
       " 0.7334254143646409,\n",
       " 0.7408854166666666,\n",
       " 0.728744939271255,\n",
       " 0.7238605898123325,\n",
       " 0.7575757575757576,\n",
       " 0.7404129793510325,\n",
       " 0.7586633663366337,\n",
       " 0.6978609625668449,\n",
       " 0.6819923371647509,\n",
       " 0.7676056338028169,\n",
       " 0.7092866756393001,\n",
       " 0.6807065217391305,\n",
       " 0.6780626780626781,\n",
       " 0.7542857142857143,\n",
       " 0.708502024291498,\n",
       " 0.7807486631016043,\n",
       " 0.763681592039801,\n",
       " 0.7276720351390923]"
      ]
     },
     "execution_count": 199,
     "metadata": {},
     "output_type": "execute_result"
    }
   ],
   "source": [
    "def gen_df_byteam():\n",
    "    gbm_teamaccuracy_list = list()\n",
    "    for i in range(len(teamlist)):\n",
    "        gbm_teamaccuracy_list.append(gbclassifier6.score(Testdata[Testdata['OffenseTeam'] == teamlist[i]][features],\\\n",
    "                                                     Testdata[Testdata['OffenseTeam'] == teamlist[i]]['IsPass']))\n",
    "    return gbm_teamaccuracy_list\n",
    "\n",
    "gbm_teamaccuracy_list = gen_df_byteam()\n",
    "gbm_teamaccuracy_list"
   ]
  },
  {
   "cell_type": "code",
   "execution_count": 200,
   "metadata": {},
   "outputs": [
    {
     "data": {
      "text/html": [
       "<div>\n",
       "<style scoped>\n",
       "    .dataframe tbody tr th:only-of-type {\n",
       "        vertical-align: middle;\n",
       "    }\n",
       "\n",
       "    .dataframe tbody tr th {\n",
       "        vertical-align: top;\n",
       "    }\n",
       "\n",
       "    .dataframe thead th {\n",
       "        text-align: right;\n",
       "    }\n",
       "</style>\n",
       "<table border=\"1\" class=\"dataframe\">\n",
       "  <thead>\n",
       "    <tr style=\"text-align: right;\">\n",
       "      <th></th>\n",
       "      <th>team</th>\n",
       "      <th>test_accuracy</th>\n",
       "    </tr>\n",
       "  </thead>\n",
       "  <tbody>\n",
       "    <tr>\n",
       "      <td>10</td>\n",
       "      <td>NO</td>\n",
       "      <td>0.787318</td>\n",
       "    </tr>\n",
       "    <tr>\n",
       "      <td>29</td>\n",
       "      <td>LAC</td>\n",
       "      <td>0.780749</td>\n",
       "    </tr>\n",
       "    <tr>\n",
       "      <td>4</td>\n",
       "      <td>DAL</td>\n",
       "      <td>0.774763</td>\n",
       "    </tr>\n",
       "    <tr>\n",
       "      <td>23</td>\n",
       "      <td>NYG</td>\n",
       "      <td>0.767606</td>\n",
       "    </tr>\n",
       "    <tr>\n",
       "      <td>5</td>\n",
       "      <td>LAR</td>\n",
       "      <td>0.763791</td>\n",
       "    </tr>\n",
       "    <tr>\n",
       "      <td>30</td>\n",
       "      <td>NE</td>\n",
       "      <td>0.763682</td>\n",
       "    </tr>\n",
       "    <tr>\n",
       "      <td>3</td>\n",
       "      <td>PIT</td>\n",
       "      <td>0.758847</td>\n",
       "    </tr>\n",
       "    <tr>\n",
       "      <td>20</td>\n",
       "      <td>TB</td>\n",
       "      <td>0.758663</td>\n",
       "    </tr>\n",
       "    <tr>\n",
       "      <td>0</td>\n",
       "      <td>ARI</td>\n",
       "      <td>0.757953</td>\n",
       "    </tr>\n",
       "    <tr>\n",
       "      <td>18</td>\n",
       "      <td>CHI</td>\n",
       "      <td>0.757576</td>\n",
       "    </tr>\n",
       "    <tr>\n",
       "      <td>27</td>\n",
       "      <td>CLE</td>\n",
       "      <td>0.754286</td>\n",
       "    </tr>\n",
       "    <tr>\n",
       "      <td>7</td>\n",
       "      <td>TEN</td>\n",
       "      <td>0.752381</td>\n",
       "    </tr>\n",
       "    <tr>\n",
       "      <td>11</td>\n",
       "      <td>DEN</td>\n",
       "      <td>0.752044</td>\n",
       "    </tr>\n",
       "    <tr>\n",
       "      <td>13</td>\n",
       "      <td>MIN</td>\n",
       "      <td>0.749664</td>\n",
       "    </tr>\n",
       "    <tr>\n",
       "      <td>15</td>\n",
       "      <td>JAX</td>\n",
       "      <td>0.740885</td>\n",
       "    </tr>\n",
       "    <tr>\n",
       "      <td>19</td>\n",
       "      <td>MIA</td>\n",
       "      <td>0.740413</td>\n",
       "    </tr>\n",
       "    <tr>\n",
       "      <td>14</td>\n",
       "      <td>IND</td>\n",
       "      <td>0.733425</td>\n",
       "    </tr>\n",
       "    <tr>\n",
       "      <td>6</td>\n",
       "      <td>OAK</td>\n",
       "      <td>0.729443</td>\n",
       "    </tr>\n",
       "    <tr>\n",
       "      <td>16</td>\n",
       "      <td>DET</td>\n",
       "      <td>0.728745</td>\n",
       "    </tr>\n",
       "    <tr>\n",
       "      <td>31</td>\n",
       "      <td>CIN</td>\n",
       "      <td>0.727672</td>\n",
       "    </tr>\n",
       "    <tr>\n",
       "      <td>17</td>\n",
       "      <td>ATL</td>\n",
       "      <td>0.723861</td>\n",
       "    </tr>\n",
       "    <tr>\n",
       "      <td>2</td>\n",
       "      <td>WAS</td>\n",
       "      <td>0.722543</td>\n",
       "    </tr>\n",
       "    <tr>\n",
       "      <td>1</td>\n",
       "      <td>CAR</td>\n",
       "      <td>0.714286</td>\n",
       "    </tr>\n",
       "    <tr>\n",
       "      <td>12</td>\n",
       "      <td>KC</td>\n",
       "      <td>0.711674</td>\n",
       "    </tr>\n",
       "    <tr>\n",
       "      <td>24</td>\n",
       "      <td>PHI</td>\n",
       "      <td>0.709287</td>\n",
       "    </tr>\n",
       "    <tr>\n",
       "      <td>28</td>\n",
       "      <td>GB</td>\n",
       "      <td>0.708502</td>\n",
       "    </tr>\n",
       "    <tr>\n",
       "      <td>9</td>\n",
       "      <td>HOU</td>\n",
       "      <td>0.707057</td>\n",
       "    </tr>\n",
       "    <tr>\n",
       "      <td>8</td>\n",
       "      <td>NYJ</td>\n",
       "      <td>0.703863</td>\n",
       "    </tr>\n",
       "    <tr>\n",
       "      <td>21</td>\n",
       "      <td>SF</td>\n",
       "      <td>0.697861</td>\n",
       "    </tr>\n",
       "    <tr>\n",
       "      <td>22</td>\n",
       "      <td>BAL</td>\n",
       "      <td>0.681992</td>\n",
       "    </tr>\n",
       "    <tr>\n",
       "      <td>25</td>\n",
       "      <td>SEA</td>\n",
       "      <td>0.680707</td>\n",
       "    </tr>\n",
       "    <tr>\n",
       "      <td>26</td>\n",
       "      <td>BUF</td>\n",
       "      <td>0.678063</td>\n",
       "    </tr>\n",
       "  </tbody>\n",
       "</table>\n",
       "</div>"
      ],
      "text/plain": [
       "   team  test_accuracy\n",
       "10   NO       0.787318\n",
       "29  LAC       0.780749\n",
       "4   DAL       0.774763\n",
       "23  NYG       0.767606\n",
       "5   LAR       0.763791\n",
       "30   NE       0.763682\n",
       "3   PIT       0.758847\n",
       "20   TB       0.758663\n",
       "0   ARI       0.757953\n",
       "18  CHI       0.757576\n",
       "27  CLE       0.754286\n",
       "7   TEN       0.752381\n",
       "11  DEN       0.752044\n",
       "13  MIN       0.749664\n",
       "15  JAX       0.740885\n",
       "19  MIA       0.740413\n",
       "14  IND       0.733425\n",
       "6   OAK       0.729443\n",
       "16  DET       0.728745\n",
       "31  CIN       0.727672\n",
       "17  ATL       0.723861\n",
       "2   WAS       0.722543\n",
       "1   CAR       0.714286\n",
       "12   KC       0.711674\n",
       "24  PHI       0.709287\n",
       "28   GB       0.708502\n",
       "9   HOU       0.707057\n",
       "8   NYJ       0.703863\n",
       "21   SF       0.697861\n",
       "22  BAL       0.681992\n",
       "25  SEA       0.680707\n",
       "26  BUF       0.678063"
      ]
     },
     "execution_count": 200,
     "metadata": {},
     "output_type": "execute_result"
    }
   ],
   "source": [
    "df_byteam = pd.DataFrame({'team':teamlist, 'test_accuracy':gbm_teamaccuracy_list})\n",
    "sorted_df = df_byteam.sort_values(by = 'test_accuracy', ascending=False)\n",
    "sorted_df"
   ]
  },
  {
   "cell_type": "code",
   "execution_count": 201,
   "metadata": {},
   "outputs": [
    {
     "data": {
      "text/plain": [
       "Text(0,0.5,'Test Set Prediction Accuracy (%)')"
      ]
     },
     "execution_count": 201,
     "metadata": {},
     "output_type": "execute_result"
    },
    {
     "data": {
      "image/png": "[encoded data removed]",
      "text/plain": [
       "<Figure size 864x576 with 1 Axes>"
      ]
     },
     "metadata": {},
     "output_type": "display_data"
    }
   ],
   "source": [
    "plt.figure(figsize=(12,8))\n",
    "# style\n",
    "plt.style.use('seaborn-whitegrid')\n",
    "plt.bar(sorted_df['team'],sorted_df['test_accuracy']*100, width = 0.7)\n",
    "# Add titles\n",
    "plt.title(\"Test Set Prediction Accuracy by Team using GBM\", loc='center', fontsize=15, fontweight=0, color='black')\n",
    "plt.xlabel(\"Team\", fontsize = 13)\n",
    "plt.xticks(teamlist, fontsize = 12, rotation = 33)\n",
    "plt.ylabel(\"Test Set Prediction Accuracy (%)\", fontsize = 13)\n"
   ]
  },
  {
   "cell_type": "code",
   "execution_count": null,
   "metadata": {},
   "outputs": [],
   "source": []
  }
 ],
 "metadata": {
  "kernelspec": {
   "display_name": "Python 3",
   "language": "python",
   "name": "python3"
  },
  "language_info": {
   "codemirror_mode": {
    "name": "ipython",
    "version": 3
   },
   "file_extension": ".py",
   "mimetype": "text/x-python",
   "name": "python",
   "nbconvert_exporter": "python",
   "pygments_lexer": "ipython3",
   "version": "3.7.0"
  }
 },
 "nbformat": 4,
 "nbformat_minor": 2
}
